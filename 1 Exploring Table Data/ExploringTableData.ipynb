{
 "cells": [
  {
   "cell_type": "markdown",
   "metadata": {
    "collapsed": true,
    "pycharm": {
     "name": "#%% md\n"
    }
   },
   "source": [
    "## Lab Assignment One: Exploring Table Data\n",
    "\n",
    "#### Luis Garduno\n",
    "\n",
    "### 1. Business Understanding\n",
    "\n",
    "##### About League of Legends :\n",
    "Developed by Riot Studios, League of Legends, or \"LoL\", is an online multiplayer\n",
    "video-game that is available to Windows/MacOS users. LoL consists 2 teams ('Blue\n",
    "& 'Red') facing each other, where the main objective is to destroy the opposing\n",
    "teams 'Nexus', or home base, while facing obstacles like destroying towers &\n",
    "eliminating players throughout the way. Perks & gold are able to be obtained by\n",
    "players/teams through completing tasks such as eliminating players, enemy creeps,\n",
    "or dragons. Players then spend the gold to purchase items that help deal more\n",
    "damage towards enemies.\n",
    "\n",
    "League of Legends offers different game modes, such as ranked. A ranked game on\n",
    "average lasts 30-45 minutes. In this game mode, players are given a rank based\n",
    "off of the number of wins + the number of games played. \"Diamond\" is one of the\n",
    "highest ranks a player may obtain and is known to be extremely competitive. The\n",
    "dataset contains the first 10 minute analytics of each team for different\n",
    "diamond ranked matches.\n",
    "\n",
    "Once the data is analyzed, teams/players would be able to conceptualize the\n",
    "level of priority different features/objectives have during early stages of\n",
    "diamond ranked matches. They could then use this information to adjust their\n",
    "strategy to one proven to win matches.\n",
    "\n",
    "-------------------------------------\n",
    "\n",
    "Dataset : https://www.kaggle.com/bobbyscience/league-of-legends-diamond-ranked-games-10-min\n",
    "\n",
    "Question Of Interest : As of the first 10 minutes, which team will win?"
   ]
  },
  {
   "cell_type": "markdown",
   "source": [
    "### 2. Data Understanding"
   ],
   "metadata": {
    "collapsed": false,
    "pycharm": {
     "name": "#%% md\n"
    }
   }
  },
  {
   "cell_type": "code",
   "execution_count": 1,
   "outputs": [
    {
     "name": "stdout",
     "output_type": "stream",
     "text": [
      "<class 'pandas.core.frame.DataFrame'>\n",
      "RangeIndex: 9879 entries, 0 to 9878\n",
      "Data columns (total 39 columns):\n",
      " #   Column                        Non-Null Count  Dtype  \n",
      "---  ------                        --------------  -----  \n",
      " 0   blueWins                      9879 non-null   int64  \n",
      " 1   blueWardsPlaced               9879 non-null   int64  \n",
      " 2   blueWardsDestroyed            9879 non-null   int64  \n",
      " 3   blueFirstBlood                9879 non-null   int64  \n",
      " 4   blueKills                     9879 non-null   int64  \n",
      " 5   blueDeaths                    9879 non-null   int64  \n",
      " 6   blueAssists                   9879 non-null   int64  \n",
      " 7   blueEliteMonsters             9879 non-null   int64  \n",
      " 8   blueDragons                   9879 non-null   int64  \n",
      " 9   blueHeralds                   9879 non-null   int64  \n",
      " 10  blueTowersDestroyed           9879 non-null   int64  \n",
      " 11  blueTotalGold                 9879 non-null   int64  \n",
      " 12  blueAvgLevel                  9879 non-null   float64\n",
      " 13  blueTotalExperience           9879 non-null   int64  \n",
      " 14  blueTotalMinionsKilled        9879 non-null   int64  \n",
      " 15  blueTotalJungleMinionsKilled  9879 non-null   int64  \n",
      " 16  blueGoldDiff                  9879 non-null   int64  \n",
      " 17  blueExperienceDiff            9879 non-null   int64  \n",
      " 18  blueCSPerMin                  9879 non-null   float64\n",
      " 19  blueGoldPerMin                9879 non-null   float64\n",
      " 20  redWardsPlaced                9879 non-null   int64  \n",
      " 21  redWardsDestroyed             9879 non-null   int64  \n",
      " 22  redFirstBlood                 9879 non-null   int64  \n",
      " 23  redKills                      9879 non-null   int64  \n",
      " 24  redDeaths                     9879 non-null   int64  \n",
      " 25  redAssists                    9879 non-null   int64  \n",
      " 26  redEliteMonsters              9879 non-null   int64  \n",
      " 27  redDragons                    9879 non-null   int64  \n",
      " 28  redHeralds                    9879 non-null   int64  \n",
      " 29  redTowersDestroyed            9879 non-null   int64  \n",
      " 30  redTotalGold                  9879 non-null   int64  \n",
      " 31  redAvgLevel                   9879 non-null   float64\n",
      " 32  redTotalExperience            9879 non-null   int64  \n",
      " 33  redTotalMinionsKilled         9879 non-null   int64  \n",
      " 34  redTotalJungleMinionsKilled   9879 non-null   int64  \n",
      " 35  redGoldDiff                   9879 non-null   int64  \n",
      " 36  redExperienceDiff             9879 non-null   int64  \n",
      " 37  redCSPerMin                   9879 non-null   float64\n",
      " 38  redGoldPerMin                 9879 non-null   float64\n",
      "dtypes: float64(6), int64(33)\n",
      "memory usage: 2.9 MB\n"
     ]
    }
   ],
   "source": [
    "import numpy as np\n",
    "import pandas as pd\n",
    "\n",
    "# Load in the dataset into a dataframe\n",
    "df = pd.read_csv('https://raw.githubusercontent.com/luisegarduno/MachineLearning_Projects/master/Datasets/high_diamond_ranked_10min.csv')\n",
    "\n",
    "# delete gameID column\n",
    "del df['gameId']\n",
    "\n",
    "df.info()"
   ],
   "metadata": {
    "collapsed": false,
    "pycharm": {
     "name": "#%%\n"
    }
   }
  },
  {
   "cell_type": "markdown",
   "source": [
    "Printing out the information about the dataframe we able to see that there are a\n",
    "total of 9,879 instances, and 39 attributes. The \"gameId\" column is removed\n",
    "since it will have no impact on the outcome.\n",
    "\n",
    "Additionally we are able to see that there are 19 of the same attributes for each\n",
    "the blue & red team (columns 1-19 are the same as 20-38). Features for each team includes :\n",
    "- Wards placed & destroyed\n",
    "- Total number of kills, deaths, & assists\n",
    "- First Bloods (1st elimination of the game)\n",
    "- Total : towers destroyed, gold, experience\n",
    "- Average : level, CS per minute, & gold per minute\n",
    "- Difference in gold & experience between the teams\n",
    "- Objective kills : elite monsters, dragons, heralds, minions, & jungle minions\n",
    "\n",
    "Lastly, when looking at the data types and total number of entries, we see that there\n",
    "are no missing entries and that all of the data types are already correct.\n",
    "\n",
    "A majority of the columns will be of type integer (int64) because they will always be\n",
    "whole number. Attributes involving averages such as cs per minute, gold per minute, &\n",
    "level will be double-precision floating-point format (float64).\n",
    "\n",
    "The winner of the match is also included as one of the attributes, listed as\n",
    "\"blueWins\" : where '1' means true (blue team won) & '0' meaning false (red team won).\n",
    "Also, \"first bloods\" only occur once per game so that will also be either true or false.\n",
    "But because we are wanting to visualize these attributes, optimally it is best to\n",
    "keep these as integer data types."
   ],
   "metadata": {
    "collapsed": false
   }
  },
  {
   "cell_type": "markdown",
   "source": [
    "----------------------\n",
    "\n",
    "// [1.5 points] Verify data quality:\n",
    "- Explain any missing values or duplicate data.\n",
    "- Visualize entries that are missing/complete for different attributes.\n",
    "- Are those mistakes?\n",
    "- Why do these quality issues exist in the data?\n",
    "- How do you deal with these problems?\n",
    "- Give justifications for your methods (elimination or imputation).\n",
    "\n",
    "\n",
    "### 3. Data Visualization\n",
    "// [2 points] Visualize basic feature distributions.\n",
    "- That is, plot the dynamic range and exploratory distribution plots (like boxplots, histograms, kernel density estimation) to better understand the data.\n",
    "- Describe anything meaningful or potentially useful you discover from these visualizations.\n",
    "- These may also help to understand what data is missing or needs imputation.\n",
    "- Note: You can also use data from other sources to bolster visualizations.\n",
    "- Visualize at least five plots, at least one categorical and at least one numeric.\n",
    "\n",
    "// [2.5 points] (3.1 Data Exploration) (3.2 Data Relationship Exploration)\n",
    "- Ask 3 interesting questions that are relevant to your dataset & explore visuals that help answer these questions.\n",
    "- Use whichever visualization method is appropriate for your data.\n",
    "- Important: Interpret the implications for each visualization.\n",
    "\n",
    "### 4. Dimensionality Reduction\n",
    "#### Reference"
   ],
   "metadata": {
    "collapsed": false,
    "pycharm": {
     "name": "#%% md\n"
    }
   }
  }
 ],
 "metadata": {
  "kernelspec": {
   "display_name": "Python 3",
   "language": "python",
   "name": "python3"
  },
  "language_info": {
   "codemirror_mode": {
    "name": "ipython",
    "version": 2
   },
   "file_extension": ".py",
   "mimetype": "text/x-python",
   "name": "python",
   "nbconvert_exporter": "python",
   "pygments_lexer": "ipython2",
   "version": "2.7.6"
  }
 },
 "nbformat": 4,
 "nbformat_minor": 0
}