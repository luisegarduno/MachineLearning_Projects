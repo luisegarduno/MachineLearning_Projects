{
 "cells": [
  {
   "cell_type": "markdown",
   "metadata": {
    "collapsed": true,
    "pycharm": {
     "name": "#%% md\n"
    }
   },
   "source": [
    "## Lab Assignment One: Exploring Table Data\n",
    "\n",
    "#### Luis Garduno\n",
    "\n",
    "### 1. Business Understanding\n",
    "\n",
    "##### About League of Legends :\n",
    "Developed by Riot Studios, League of Legends, or \"LoL\", is an online multiplayer\n",
    "video-game that is available to Windows/MacOS users. LoL consists 2 teams ('Blue\n",
    "& 'Red') facing each other, where the main objective is to destroy the opposing\n",
    "teams home base while facing obstacles throughout the way. Perks & gold are able\n",
    "to be obtained by players/teams through completing tasks such as eliminating\n",
    "players, enemy creeps, or dragons. Players then spend the gold to purchase items\n",
    "that help deal more damage towards enemies.\n",
    "\n",
    "League of Legends offers different game modes, such as ranked. A ranked game on\n",
    "average lasts 30-45 minutes. In this game mode, players are given a rank based\n",
    "off of the number of wins + the number of games played. \"Diamond\" is one of the\n",
    "highest ranks a player may obtain and is known to be extremely competitive. The\n",
    "dataset contains the first 10 minute analytics of each team for different\n",
    "diamond ranked matches.\n",
    "\n",
    "The dataset contains the first 10 minute analytics of each team for different\n",
    "diamond ranked matches. Each team has 19 features (38 total) that include\n",
    "objectives such as creep score (CS), obtained dragons, total number of kills,\n",
    "etc. As for the instances, there is a total of 9,879 different diamond ranked matches.\n",
    "\n",
    "Once the data is analyzed, teams/players would be able to conceptualize the\n",
    "level of priority different features/objectives have during early stages of\n",
    "diamond ranked matches. They could then use this information to adjust their\n",
    "strategy to one proven to win matches.\n",
    "\n",
    "-------------------------------------\n",
    "\n",
    "Dataset : https://www.kaggle.com/bobbyscience/league-of-legends-diamond-ranked-games-10-min\n",
    "\n",
    "Question Of Interest : As of the first 10 minutes, which team will win?\n",
    "\n",
    "### 3. Data Visualization\n",
    "// [2 points] Visualize basic feature distributions.\n",
    "// 1. That is, plot the dynamic range and exploratory distribution plots (like boxplots, histograms, kernel density estimation) to better understand the data.\n",
    "// 2. Describe anything meaningful or potentially useful you discover from these visualizations.\n",
    "// 3. These may also help to understand what data is missing or needs imputation.\n",
    "// 4. Note: You can also use data from other sources to bolster visualizations.\n",
    "// 5. Visualize at least five plots, at least one categorical and at least one numeric.\n",
    "\n",
    "// [2.5 points]\n",
    "// 1. Ask 3 interesting questions that are relevant to your dataset & explore visuals that help answer these questions.\n",
    "// 2. Use whichever visualization method is appropriate for your data.\n",
    "// 3. Important: Interpret the implications for each visualization.\n",
    "#### 3.1 Data Exploration\n",
    "#### 3.2 Data Relationship Exploration\n",
    "\n",
    "### 4. Dimensionality Reduction\n",
    "#### Reference"
   ]
  },
  {
   "cell_type": "markdown",
   "source": [
    "### 2. Data Understanding\n",
    "// [1.5 points]\n",
    "// 1. Appropriately define data types.\n",
    "// 2. What data type should be used to represent each data attribute?\n",
    "// 3. For datasets w/ a large number of attributes, only discuss a subset of relevant attributes.\n",
    "\n",
    "// [1.5 points] Verify data quality:\n",
    "// 1. Explain any missing values or duplicate data.\n",
    "// 2. Visualize entries that are missing/complete for different attributes.\n",
    "// 3. Are those mistakes?\n",
    "// 4. Why do these quality issues exist in the data?\n",
    "// 5. How do you deal with these problems?\n",
    "// 6. Give justifications for your methods (elimination or imputation)."
   ],
   "metadata": {
    "collapsed": false,
    "pycharm": {
     "name": "#%% md\n"
    }
   }
  },
  {
   "cell_type": "code",
   "execution_count": 30,
   "outputs": [
    {
     "name": "stdout",
     "output_type": "stream",
     "text": [
      "(9879, 39)\n"
     ]
    },
    {
     "data": {
      "text/plain": "   blueWins  blueWardsPlaced  blueWardsDestroyed  blueFirstBlood  blueKills  \\\n0         0               28                   2               1          9   \n1         0               12                   1               0          5   \n2         0               15                   0               0          7   \n3         0               43                   1               0          4   \n4         0               75                   4               0          6   \n\n   blueDeaths  blueAssists  blueEliteMonsters  blueDragons  blueHeralds  ...  \\\n0           6           11                  0            0            0  ...   \n1           5            5                  0            0            0  ...   \n2          11            4                  1            1            0  ...   \n3           5            5                  1            0            1  ...   \n4           6            6                  0            0            0  ...   \n\n   redTowersDestroyed  redTotalGold  redAvgLevel  redTotalExperience  \\\n0                   0         16567          6.8               17047   \n1                   1         17620          6.8               17438   \n2                   0         17285          6.8               17254   \n3                   0         16478          7.0               17961   \n4                   0         17404          7.0               18313   \n\n   redTotalMinionsKilled  redTotalJungleMinionsKilled  redGoldDiff  \\\n0                    197                           55         -643   \n1                    240                           52         2908   \n2                    203                           28         1172   \n3                    235                           47         1321   \n4                    225                           67         1004   \n\n   redExperienceDiff  redCSPerMin  redGoldPerMin  \n0                  8         19.7         1656.7  \n1               1173         24.0         1762.0  \n2               1033         20.3         1728.5  \n3                  7         23.5         1647.8  \n4               -230         22.5         1740.4  \n\n[5 rows x 39 columns]",
      "text/html": "<div>\n<style scoped>\n    .dataframe tbody tr th:only-of-type {\n        vertical-align: middle;\n    }\n\n    .dataframe tbody tr th {\n        vertical-align: top;\n    }\n\n    .dataframe thead th {\n        text-align: right;\n    }\n</style>\n<table border=\"1\" class=\"dataframe\">\n  <thead>\n    <tr style=\"text-align: right;\">\n      <th></th>\n      <th>blueWins</th>\n      <th>blueWardsPlaced</th>\n      <th>blueWardsDestroyed</th>\n      <th>blueFirstBlood</th>\n      <th>blueKills</th>\n      <th>blueDeaths</th>\n      <th>blueAssists</th>\n      <th>blueEliteMonsters</th>\n      <th>blueDragons</th>\n      <th>blueHeralds</th>\n      <th>...</th>\n      <th>redTowersDestroyed</th>\n      <th>redTotalGold</th>\n      <th>redAvgLevel</th>\n      <th>redTotalExperience</th>\n      <th>redTotalMinionsKilled</th>\n      <th>redTotalJungleMinionsKilled</th>\n      <th>redGoldDiff</th>\n      <th>redExperienceDiff</th>\n      <th>redCSPerMin</th>\n      <th>redGoldPerMin</th>\n    </tr>\n  </thead>\n  <tbody>\n    <tr>\n      <th>0</th>\n      <td>0</td>\n      <td>28</td>\n      <td>2</td>\n      <td>1</td>\n      <td>9</td>\n      <td>6</td>\n      <td>11</td>\n      <td>0</td>\n      <td>0</td>\n      <td>0</td>\n      <td>...</td>\n      <td>0</td>\n      <td>16567</td>\n      <td>6.8</td>\n      <td>17047</td>\n      <td>197</td>\n      <td>55</td>\n      <td>-643</td>\n      <td>8</td>\n      <td>19.7</td>\n      <td>1656.7</td>\n    </tr>\n    <tr>\n      <th>1</th>\n      <td>0</td>\n      <td>12</td>\n      <td>1</td>\n      <td>0</td>\n      <td>5</td>\n      <td>5</td>\n      <td>5</td>\n      <td>0</td>\n      <td>0</td>\n      <td>0</td>\n      <td>...</td>\n      <td>1</td>\n      <td>17620</td>\n      <td>6.8</td>\n      <td>17438</td>\n      <td>240</td>\n      <td>52</td>\n      <td>2908</td>\n      <td>1173</td>\n      <td>24.0</td>\n      <td>1762.0</td>\n    </tr>\n    <tr>\n      <th>2</th>\n      <td>0</td>\n      <td>15</td>\n      <td>0</td>\n      <td>0</td>\n      <td>7</td>\n      <td>11</td>\n      <td>4</td>\n      <td>1</td>\n      <td>1</td>\n      <td>0</td>\n      <td>...</td>\n      <td>0</td>\n      <td>17285</td>\n      <td>6.8</td>\n      <td>17254</td>\n      <td>203</td>\n      <td>28</td>\n      <td>1172</td>\n      <td>1033</td>\n      <td>20.3</td>\n      <td>1728.5</td>\n    </tr>\n    <tr>\n      <th>3</th>\n      <td>0</td>\n      <td>43</td>\n      <td>1</td>\n      <td>0</td>\n      <td>4</td>\n      <td>5</td>\n      <td>5</td>\n      <td>1</td>\n      <td>0</td>\n      <td>1</td>\n      <td>...</td>\n      <td>0</td>\n      <td>16478</td>\n      <td>7.0</td>\n      <td>17961</td>\n      <td>235</td>\n      <td>47</td>\n      <td>1321</td>\n      <td>7</td>\n      <td>23.5</td>\n      <td>1647.8</td>\n    </tr>\n    <tr>\n      <th>4</th>\n      <td>0</td>\n      <td>75</td>\n      <td>4</td>\n      <td>0</td>\n      <td>6</td>\n      <td>6</td>\n      <td>6</td>\n      <td>0</td>\n      <td>0</td>\n      <td>0</td>\n      <td>...</td>\n      <td>0</td>\n      <td>17404</td>\n      <td>7.0</td>\n      <td>18313</td>\n      <td>225</td>\n      <td>67</td>\n      <td>1004</td>\n      <td>-230</td>\n      <td>22.5</td>\n      <td>1740.4</td>\n    </tr>\n  </tbody>\n</table>\n<p>5 rows × 39 columns</p>\n</div>"
     },
     "execution_count": 30,
     "metadata": {},
     "output_type": "execute_result"
    }
   ],
   "source": [
    "import numpy as np\n",
    "import pandas as pd\n",
    "\n",
    "# Load in the dataset into a dataframe\n",
    "df = pd.read_csv('https://raw.githubusercontent.com/luisegarduno/MachineLearning_Projects/master/Datasets/high_diamond_ranked_10min.csv')\n",
    "\n",
    "# delete gameID column\n",
    "del df['gameId']\n",
    "\n",
    "# Dimensions for dataframe\n",
    "print(df.shape)\n",
    "\n",
    "df.head()"
   ],
   "metadata": {
    "collapsed": false,
    "pycharm": {
     "name": "#%%\n"
    }
   }
  },
  {
   "cell_type": "markdown",
   "source": [
    "By printing out dimensions of the dataframe we able to see that there are a\n",
    "total of 9,879 instances, and 39 instances. The \"gameId\" column is then\n",
    "removed since it will have no impact on the outcome.\n",
    "\n",
    "When outputting the dataframe head, we are able to identify that there are 19\n",
    "attributes for each the blue & red team. Features for each team includes :\n",
    "- Wards placed & destroyed\n",
    "- Total number of kills, deaths, & assists\n",
    "- First Bloods (1st elimination of the game)\n",
    "- Total : towers destroyed, gold, experience\n",
    "- Average : level, CS per minute, & gold per minute\n",
    "- Difference in gold & experience between the teams\n",
    "- Objective kills : elite monsters, dragons, heralds, minions, & jungle minions\n",
    "\n",
    "The winner of the match is also included as one of the features, listed as\n",
    "\"blueWins\" where '1' means blue team won, & '0' meaning the red team won."
   ],
   "metadata": {
    "collapsed": false
   }
  }
 ],
 "metadata": {
  "kernelspec": {
   "display_name": "Python 3",
   "language": "python",
   "name": "python3"
  },
  "language_info": {
   "codemirror_mode": {
    "name": "ipython",
    "version": 2
   },
   "file_extension": ".py",
   "mimetype": "text/x-python",
   "name": "python",
   "nbconvert_exporter": "python",
   "pygments_lexer": "ipython2",
   "version": "2.7.6"
  }
 },
 "nbformat": 4,
 "nbformat_minor": 0
}