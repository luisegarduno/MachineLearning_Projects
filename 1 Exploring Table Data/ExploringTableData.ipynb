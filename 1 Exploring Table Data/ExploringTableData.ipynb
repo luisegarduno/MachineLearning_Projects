{
 "cells": [
  {
   "cell_type": "markdown",
   "metadata": {
    "collapsed": true,
    "pycharm": {
     "name": "#%% md\n"
    }
   },
   "source": [
    "## Lab Assignment One: Exploring Table Data\n",
    "\n",
    "#### Luis Garduno\n",
    "\n",
    "### 1. Business Understanding\n",
    "\n",
    "Explain Here\n",
    "\n",
    "-------------------------------------\n",
    "Dataset :\n",
    "\n",
    "Question Of Interest :\n",
    "\n",
    "### 2. Data Understanding\n",
    "### 3. Data Visualization\n",
    "#### 3.1 Data Exploration\n",
    "#### 3.2 Data Relationship Exploration\n",
    "### 4. Dimensionality Reduction\n",
    "#### Reference"
   ]
  },
  {
   "cell_type": "code",
   "source": [
    "\n"
   ],
   "metadata": {
    "collapsed": false,
    "pycharm": {
     "name": "#%%\n"
    }
   },
   "execution_count": null,
   "outputs": []
  }
 ],
 "metadata": {
  "kernelspec": {
   "display_name": "Python 3",
   "language": "python",
   "name": "python3"
  },
  "language_info": {
   "codemirror_mode": {
    "name": "ipython",
    "version": 2
   },
   "file_extension": ".py",
   "mimetype": "text/x-python",
   "name": "python",
   "nbconvert_exporter": "python",
   "pygments_lexer": "ipython2",
   "version": "2.7.6"
  }
 },
 "nbformat": 4,
 "nbformat_minor": 0
}