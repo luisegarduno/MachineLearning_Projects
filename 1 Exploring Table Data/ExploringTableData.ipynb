{
 "cells": [
  {
   "cell_type": "markdown",
   "metadata": {
    "collapsed": true,
    "pycharm": {
     "name": "#%% md\n"
    }
   },
   "source": [
    "## Lab Assignment One: Exploring Table Data\n",
    "\n",
    "#### Luis Garduno\n",
    "\n",
    "### 1. Business Understanding\n",
    "\n",
    "##### About League of Legends :\n",
    "Developed by Riot Studios, League of Legends, or \"LoL\", is a popular strategy\n",
    "video-game that is available to Windows/MacOS users. LoL consists 2 teams facing\n",
    "each other, where the main objective is to destroy the opposing teams home base\n",
    "while facing obstacles throughout the way. Perks & gold are able to be obtained\n",
    "by players/teams through completing tasks such as eliminating players, enemy\n",
    "minions, or dragons. Players then spend the gold to purchase items that help\n",
    "deal more damage towards enemies.\n",
    "\n",
    "League of Legends offers different game modes, such as ranked. A ranked game on\n",
    "average lasts 30-45 minutes. In this game mode, players are given a rank based\n",
    "off of the number of wins + the number of games played. \"Diamond\" is one of the\n",
    "highest ranks a player may obtain and is known to be extremely competitive.\n",
    "\n",
    "// Once you begin modeling, how well would your prediction algorithm\n",
    "// need to perform to be considered useful to these third parties?\n",
    "\n",
    "This dataset contains 19 features per team (blue & red), 38 in total.\n",
    "Features include the total number of kills, CS (creep score), dragons, etc.\n",
    "The winner of the match is also one of the features in the data set that is\n",
    "listed as \"blueWins\". As for the instances, there is a total of 9,980 diamond\n",
    "ranked games.\n",
    "\n",
    "-------------------------------------\n",
    "Dataset : https://www.kaggle.com/bobbyscience/league-of-legends-diamond-ranked-games-10-min\n",
    "\n",
    "Question Of Interest : Which features are tied to winning games?\n",
    "\n",
    "### 2. Data Understanding\n",
    "### 3. Data Visualization\n",
    "#### 3.1 Data Exploration\n",
    "#### 3.2 Data Relationship Exploration\n",
    "### 4. Dimensionality Reduction\n",
    "#### Reference"
   ]
  },
  {
   "cell_type": "code",
   "source": [
    "\n"
   ],
   "metadata": {
    "collapsed": false,
    "pycharm": {
     "name": "#%%\n"
    }
   },
   "execution_count": 0,
   "outputs": []
  }
 ],
 "metadata": {
  "kernelspec": {
   "display_name": "Python 3",
   "language": "python",
   "name": "python3"
  },
  "language_info": {
   "codemirror_mode": {
    "name": "ipython",
    "version": 2
   },
   "file_extension": ".py",
   "mimetype": "text/x-python",
   "name": "python",
   "nbconvert_exporter": "python",
   "pygments_lexer": "ipython2",
   "version": "2.7.6"
  }
 },
 "nbformat": 4,
 "nbformat_minor": 0
}