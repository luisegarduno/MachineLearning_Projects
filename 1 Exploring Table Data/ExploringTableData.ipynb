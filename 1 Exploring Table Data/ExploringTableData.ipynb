{
 "cells": [
  {
   "cell_type": "markdown",
   "metadata": {
    "collapsed": true,
    "pycharm": {
     "name": "#%% md\n"
    }
   },
   "source": [
    "# Lab Assignment One: Exploring Table Data\n",
    "\n",
    "### Luis Garduno\n",
    "\n",
    "## 1. Business Understanding\n",
    "\n",
    "#### &nbsp;&nbsp;&nbsp;&nbsp;&nbsp;&nbsp; About League of Legends :\n",
    "Developed by Riot Studios, League of Legends, or \"LoL\", is an online multiplayer\n",
    "video-game that is available to Windows/MacOS users. LoL consists 2 teams ('Blue\n",
    "& 'Red') facing each other, where the main objective is to destroy the opposing\n",
    "teams 'Nexus', or home base, while facing obstacles like destroying damage dealing\n",
    "towers & eliminating players throughout the way. Perks & gold are able to be\n",
    "obtained by players/teams through completing tasks such as eliminating players,\n",
    "enemy creeps, or dragons. Players then spend the gold to purchase items that help\n",
    "raise the power of their abilities.\n",
    "\n",
    "League of Legends offers different game modes, such as ranked. In this game mode,\n",
    "players are given a rank based off of the number of wins + the number of games\n",
    "played. \"Diamond\" is one of the highest ranks a player may obtain and is known\n",
    "to be extremely competitive. A ranked game on average lasts 30-45 minutes. The\n",
    "dataset we will be using contains the first 10 minute analytics of each team\n",
    "for different diamond ranked matches.\n",
    "\n",
    "Once the data is analyzed, teams/players would be able to conceptualize the level\n",
    "of priority different attributes have during early stages of diamond ranked\n",
    "matches. They could then use this information to adjust their strategy to one\n",
    "proven to win matches.\n",
    "\n",
    "-------------------------------------\n",
    "\n",
    "Dataset : https://www.kaggle.com/bobbyscience/league-of-legends-diamond-ranked-games-10-min\n",
    "\n",
    "Question Of Interest : As of the first 10 minutes, which team will win?"
   ]
  },
  {
   "cell_type": "markdown",
   "metadata": {
    "pycharm": {
     "name": "#%% md\n"
    }
   },
   "source": [
    "## 2. Data Understanding\n",
    "\n",
    "### &nbsp;&nbsp;&nbsp;&nbsp;&nbsp;&nbsp; 2.1 Data Description"
   ]
  },
  {
   "cell_type": "code",
   "execution_count": null,
   "metadata": {
    "pycharm": {
     "name": "#%%\n"
    }
   },
   "outputs": [],
   "source": [
    "import numpy as np\n",
    "import pandas as pd\n",
    "\n",
    "# Load in the dataset into a dataframe\n",
    "df = pd.read_csv('https://raw.githubusercontent.com/luisegarduno/MachineLearning_Projects/master/Datasets/high_diamond_ranked_10min.csv')\n",
    "\n",
    "df.info()"
   ]
  },
  {
   "cell_type": "markdown",
   "metadata": {},
   "source": [
    "---------------------------------\n",
    "\n",
    "Printing out the information about the dataframe we able to see that there are a\n",
    "total of 9,879 instances, and 39 attributes.\n",
    "\n",
    "Additionally we are able to see that there are 19 of the same attributes for each\n",
    "the blue & red team (columns 1-19 are the same as 20-38).\n",
    "\n",
    "Attributes for each team includes :\n",
    "- Wards placed & destroyed\n",
    "- Total number of kills, deaths, & assists\n",
    "- First Bloods (1st elimination of the game)\n",
    "- Total : towers destroyed, gold, experience\n",
    "- Average : level, CS per minute, & gold per minute\n",
    "- Difference in gold & experience between the teams\n",
    "- Objective eliminations : elite monsters, dragons, heralds, minions, & jungle minions\n",
    "\n",
    "Attributes such as total gold, experience, objectives eliminations, towers destroyed, etc.\n",
    "will be of type integer (int64) because they will always be whole numbers. Attributes involving\n",
    "averages such as cs per minute, gold per minute, & level, should be the only of double-precision floating-point\n",
    "format (float64).\n",
    "\n",
    "The data type for \"blueWins\" and \"first bloods\" could be changed to be of type boolean, but because we are wanting to\n",
    "visualize these attributes, optimally it is best to keep these as integer data types. As a result,\n",
    "the data types presented for each attribute are correct and should not be changed.\n",
    "\n",
    "Below is a brief description of some of the key attributes."
   ]
  },
  {
   "cell_type": "code",
   "execution_count": null,
   "metadata": {
    "pycharm": {
     "name": "#%%\n"
    }
   },
   "outputs": [],
   "source": [
    "import seaborn as sns\n",
    "import matplotlib.pyplot as plt\n",
    "%matplotlib inline\n",
    "\n",
    "# describe dataframe\n",
    "df.describe()"
   ]
  },
  {
   "cell_type": "code",
   "execution_count": null,
   "metadata": {
    "pycharm": {
     "name": "#%%\n"
    }
   },
   "outputs": [],
   "source": [
    "df_data_description = pd.DataFrame({'Features' : ['blueWins','WardsPlaced / WardsDestroyed','FirstBlood','Kills / Deaths / Assists','TowersDestroyed',\n",
    "                                                  'TotalGold','AvgLevel','TotalExperience','CSPerMin','GoldPerMin']})\n",
    "\n",
    "df_data_description['Description'] = ['whether blue team won or not','number of total wards placed or destroyed by team','team with the first kill of game',\n",
    "                                      'total number of kills, deaths, or assists of team','total number of towers destroyed by team','total gold obtained by team',\n",
    "                                      'average level of all players on team','total experience points accumulated by team','average creep score per minute',\n",
    "                                      'average gold obtained per minute']\n",
    "\n",
    "df_data_description['Feature type'] = ['Discrete','Continuous','Discrete','Continuous','Continuous','Continuous','Continuous','Continuous','Continuous','Continuous']\n",
    "\n",
    "df_data_description['Attribute Type'] = ['nominal','ratio','nominal','ratio','ratio','ratio','ratio','ratio','ratio','ratio']\n",
    "\n",
    "df_data_description['Range'] = ['0: red team won; 1: blue team won','placed: 5 - 250;destroyed: 0 - 27','0: did not get first kill; 1: team obtained first kill',\n",
    "                                'kills: 0-22;deaths: 0-22;assists: 0-29','0 - 2','11,000 - 25,000','4.5 - 8.5','10,000 - 24,000','10.0 - 30.0','1,100.0 - 2,000.0']\n",
    "df_data_description"
   ]
  },
  {
   "cell_type": "markdown",
   "metadata": {
    "pycharm": {
     "name": "#%% md\n"
    }
   },
   "source": [
    "### &nbsp;&nbsp;&nbsp;&nbsp;&nbsp;&nbsp; 2.2 Data Quality\n",
    "\n",
    "Using the `missingno` package, we are able to additionally confirm that all the data is complete\n",
    "and there is no missing entries with the dataset. If there was missing data, we could impute the\n",
    "missing values by using the k-nearest neighbor. But if an instance was missing a majority of its\n",
    "attributes, it would be removed from the dataset.\n",
    "\n",
    "The number of unique values in the column \"gameId\" is printed to verify that all instances\n",
    "are weighted equally."
   ]
  },
  {
   "cell_type": "code",
   "execution_count": null,
   "metadata": {
    "pycharm": {
     "name": "#%%\n"
    }
   },
   "outputs": [],
   "source": [
    "import missingno as mn\n",
    "\n",
    "mn.matrix(df)\n",
    "\n",
    "# Count unique values in column 'gameId' of the dataframe\n",
    "print('Number of unique values in column \"gameId\" : ', df['gameId'].nunique())\n",
    "\n",
    "dup_df = df.duplicated()\n",
    "print('Duplicates : ', len(df[dup_df]))"
   ]
  },
  {
   "cell_type": "markdown",
   "metadata": {},
   "source": [
    "### &nbsp;&nbsp;&nbsp;&nbsp;&nbsp;&nbsp; 2.3 Cleaning the Dataset\n",
    "\n",
    "After confirming there are no duplicates in the data, the \"gameId\" column can be removed since it\n",
    "will have no impact on the results.\n",
    "\n",
    "Using the correlation feature from the `pandas` package, for each team we find the names of\n",
    "attributes that correlate most with winning (correlation >= 7%). The names of these attributes\n",
    "are stored in a array for later use."
   ]
  },
  {
   "cell_type": "code",
   "execution_count": null,
   "metadata": {
    "pycharm": {
     "name": "#%%\n"
    }
   },
   "outputs": [],
   "source": [
    "del df['gameId']\n",
    "\n",
    "red_col = df.corr()[df.corr()['blueWins'] <= -0.07].index.values\n",
    "blue_col = df.corr()[df.corr()['blueWins'] >= 0.07].index.values"
   ]
  },
  {
   "cell_type": "markdown",
   "metadata": {
    "pycharm": {
     "name": "#%% md\n"
    }
   },
   "source": [
    "----------------------\n",
    "\n",
    "## 3. Data Visualization\n",
    "\n",
    "### &nbsp;&nbsp;&nbsp;&nbsp;&nbsp;&nbsp; 3.1 Data Exploration\n",
    "\n",
    "#### &nbsp;&nbsp;&nbsp;&nbsp;&nbsp;&nbsp;&nbsp;&nbsp;&nbsp;&nbsp;&nbsp;&nbsp; 3.1.1 Win rate by Team\n",
    "Does being on a specific team have an impact on winning?\n",
    "\n",
    "For context :\n",
    "- Red team defends the top right Nexus\n",
    "- Blue team defends the bottom left Nexus"
   ]
  },
  {
   "cell_type": "code",
   "execution_count": null,
   "outputs": [],
   "source": [
    "ax = sns.countplot(x=\"blueWins\", data=df, palette=['red', 'blue'])\n",
    "ax.set_title('Win Rate by Team')\n",
    "ax.set_xlabel('Teams')\n",
    "ax.set_xticks([0,1])\n",
    "ax.set_xticklabels(['Red', 'Blue'])\n",
    "ax.set_ylabel('Frequency')"
   ],
   "metadata": {
    "collapsed": false,
    "pycharm": {
     "name": "#%%\n"
    }
   }
  },
  {
   "cell_type": "markdown",
   "source": [
    "Because each team puts you on a specific side of the map, some may think that having a specific perspective on the map\n",
    "may make an impact on your chances of winning. As shown above, the win rate for each team is symmetrical within the\n",
    "large dataset, meaning that defending a specific side of the map will likely not have an impact on the game outcome.\n",
    "\n",
    "\n",
    "#### &nbsp;&nbsp;&nbsp;&nbsp;&nbsp;&nbsp;&nbsp;&nbsp;&nbsp;&nbsp;&nbsp;&nbsp; 3.1.2 Win rate by kill/death/assist ratio"
   ],
   "metadata": {
    "collapsed": false
   }
  },
  {
   "cell_type": "code",
   "execution_count": null,
   "outputs": [],
   "source": [
    "# Formula to calculate KDA ratio ------> KDA = (Kills + Assists) / Deaths\n",
    "df['redKDA'] = np.int64((df['redKills'] + df['redAssists']) / df['redDeaths'])\n",
    "df['blueKDA'] = np.int64((df['blueKills'] + df['blueAssists']) / df['blueDeaths'])\n",
    "df_win = df[df[\"blueWins\"]==1]\n",
    "df_lose = df[df[\"blueWins\"]==0]\n",
    "\n",
    "\n",
    "\n",
    "#df_blueKDA = df.groupby(by=['blueKDA', 'blueWins'])\n",
    "#win_rate_b = (df_blueKDA.blueWins.sum() / df.blueWins.count() * 100)\n",
    "#win_rate_b = win_rate_b.drop(index=win_rate_b.index[[0]])\n",
    "#\n",
    "#df_redKDA = df.groupby(by=['redKDA', 'blueWins'])\n",
    "#win_rate_r = (df_redKDA.blueWins.sum() / df.blueWins.count() * 100)\n",
    "#win_rate_r = win_rate_r.drop(index=win_rate_r.index[[0]])\n",
    "##df_blueKDA.plot.kde(bw_method=0.1,secondary_y=True)\n",
    "#df_blueKDA.max()\n",
    "\n",
    "#print(\"Largest Blue KDA (Win) : \", df_win['blueKDA'].max())\n",
    "#print(\"Largest Red KDA (Loss) : \", df_win['redKDA'].max())\n",
    "#print(\"Largest Blue KDA (Loss) : \", df_lose['blueKDA'].max())\n",
    "#print(\"Largest Red KDA (Win) : \", df_lose['redKDA'].max())\n",
    "#\n",
    "#ax_blue = win_rate_b.plot(label='BlueTeam KDA',color='blue')\n",
    "#ax_red = win_rate_r.plot(label='RedTeam KDA',color='red')\n",
    "#ax_blue.set_xlabel('KDA Ratio')\n",
    "#ax_blue.set_ylabel('Frequency')\n",
    "#ax_blue.set_title('Win % based on blueKDA')\n",
    "#ax_blue.legend(loc='upper right')\n",
    "#plt.show()\n",
    "\n",
    "jitter_values = ['blueKills','blueAssists','blueDeaths','blueWins']\n",
    "\n",
    "df_jitter = df[jitter_values].copy()\n",
    "df_jitter[['blueKills','blueAssists','blueDeaths']] += np.random.rand(len(df_jitter),3)/2\n",
    "sns.pairplot(df_jitter,hue=\"blueWins\",height=2,plot_kws=dict(s=20,alpha=0.15,linewidth=0),palette=['red','blue'])\n",
    "\n",
    "plt.show()"
   ],
   "metadata": {
    "collapsed": false,
    "pycharm": {
     "name": "#%%\n"
    }
   }
  },
  {
   "cell_type": "markdown",
   "source": [
    "A KDA, or Kills/Deaths/Assists, ratio is highly significant when determining whether a team will win or not.\n",
    "A KDA ratio is calculated using the formula shown in the code (Kills + Assists / Deaths).\n",
    "\n",
    "We additionally use a jitter plot to demonstrate KDA. The number of deaths as shown display the correlation\n",
    "between the number of deaths a team has and losing.\n",
    "\n",
    "#### &nbsp;&nbsp;&nbsp;&nbsp;&nbsp;&nbsp;&nbsp;&nbsp;&nbsp;&nbsp;&nbsp;&nbsp; 3.1.3 Win rate by objective eliminations"
   ],
   "metadata": {
    "collapsed": false
   }
  },
  {
   "cell_type": "code",
   "execution_count": null,
   "outputs": [],
   "source": [
    "df_blue_obj = df.groupby(by=['blueEliteMonsters', 'blueDragons', 'blueHeralds'])\n",
    "obj_blue = pd.crosstab([df['blueEliteMonsters'],df['blueDragons'],df['blueHeralds']],df.blueWins.astype(bool))\n",
    "\n",
    "ax_blue = obj_blue.plot(kind='bar', stacked=True, label='Game Outcome', color=['red', 'blue'], alpha=0.8)\n",
    "ax_blue.set_xlabel('EliteMonsters, Dragons, Heralds')\n",
    "ax_blue.set_ylabel('Frequency')\n",
    "ax_blue.set_title('Objective Eliminations : Blue Team')\n",
    "ax_blue.legend([\"Lost Game\", \"Won Game\"], title=\"Game Outcome\")\n",
    "\n",
    "obj_blue"
   ],
   "metadata": {
    "collapsed": false,
    "pycharm": {
     "name": "#%%\n"
    }
   }
  },
  {
   "cell_type": "markdown",
   "source": [
    "The stacked plot shown above contains values regarding objective eliminations. As mentioned in section `2.1`, these\n",
    "objectives include total elite monsters, dragons, & heralds eliminated.\n",
    "\n",
    "By completing these objectives, a team/player will gain perks that give will give you an advantage such as increased\n",
    "damage dealing, or regenerating health quicker. The stacked plots above show the clear impact these objectives make on\n",
    "winning.\n",
    "\n",
    "#### &nbsp;&nbsp;&nbsp;&nbsp;&nbsp;&nbsp;&nbsp;&nbsp;&nbsp;&nbsp;&nbsp;&nbsp; 3.1.4 Win rate by Kills & GoldPerMinute"
   ],
   "metadata": {
    "collapsed": false
   }
  },
  {
   "cell_type": "code",
   "execution_count": null,
   "outputs": [],
   "source": [
    "from matplotlib.lines import Line2D\n",
    "\n",
    "mark1 = {0:\"X\", 1:\"o\"}\n",
    "mark2 = {0:\"o\", 1:\"X\"}\n",
    "\n",
    "legend_elements_1 = [Line2D([0],[0],marker='X',color='w',label='Lost Game',markerfacecolor='red',markersize=8),\n",
    "                     Line2D([0],[0],marker='o',color='w',label='Won Game',markerfacecolor='blue',markersize=10)]\n",
    "legend_elements_2 = [Line2D([0],[0],marker='X',color='w',label='Lost Game',markerfacecolor='blue',markersize=8),\n",
    "                     Line2D([0],[0],marker='o',color='w',label='Won Game',markerfacecolor='red',markersize=10)]\n",
    "\n",
    "plt.subplots(figsize=(20,5))\n",
    "sns.set_style(\"white\")\n",
    "\n",
    "plt.subplot(1,2,1)\n",
    "ax1 = sns.scatterplot(data=df,x='blueGoldPerMin',y='blueKills',hue='blueWins',palette=['red','blue'],style='blueWins',markers=mark1)\n",
    "ax1.set_title('Blue Team : Kills & Gold Per Minute')\n",
    "ax1.set_xlabel('Gold Per Minute')\n",
    "ax1.set_ylabel('# of Kills')\n",
    "ax1.legend(title='Game Outcome',handles=legend_elements_1,loc='upper left')\n",
    "\n",
    "plt.subplot(1,2,2)\n",
    "ax2 = sns.scatterplot(data=df,x='redGoldPerMin',y='redKills',hue='blueWins',palette=['red','blue'],style='blueWins',markers=mark2)\n",
    "ax2.set_title('Red Team : Kills & Gold Per Minute')\n",
    "ax2.set_xlabel('Gold Per Minute')\n",
    "ax2.set_ylabel('# of Kills')\n",
    "ax2.legend(title='Game Outcome',handles=legend_elements_2,loc='upper left')\n",
    "\n",
    "plt.show()"
   ],
   "metadata": {
    "collapsed": false,
    "pycharm": {
     "name": "#%%\n"
    }
   }
  },
  {
   "cell_type": "markdown",
   "source": [
    "Above we have scatter plots for each teams performances during games that they won/lost.The x-axis\n",
    "represents the average gold per minute, & the y-axis represents the number of kills. In both scatter\n",
    "plots we see the same pattern of the higher number a kills & average gold per minute achieved by a\n",
    "team, will often lead to winning the game.\n",
    "\n",
    "\n",
    "### &nbsp;&nbsp;&nbsp;&nbsp;&nbsp;&nbsp; 3.2 Data Relationship Exploration\n",
    "\n",
    "#### &nbsp;&nbsp;&nbsp;&nbsp;&nbsp;&nbsp;&nbsp;&nbsp;&nbsp;&nbsp;&nbsp;&nbsp; 3.2.1 Correlation Matrix"
   ],
   "metadata": {
    "collapsed": false
   }
  },
  {
   "cell_type": "code",
   "source": [
    "cmap = sns.set(style=\"darkgrid\", palette=\"colorblind\")\n",
    "\n",
    "ax = plt.subplots(figsize=(17,15))\n",
    "plt.pcolor(df[blue_col].corr())\n",
    "plt.xticks(np.arange(0, len(blue_col), 1), blue_col)\n",
    "plt.yticks(np.arange(0, len(blue_col), 1), blue_col)\n",
    "plt.xticks(rotation=90)\n",
    "sns.heatmap(df[blue_col].corr(),cmap=cmap,annot=True)\n",
    "plt.show()"
   ],
   "metadata": {
    "collapsed": false,
    "pycharm": {
     "name": "#%%\n"
    }
   },
   "execution_count": null,
   "outputs": []
  },
  {
   "cell_type": "markdown",
   "source": [
    "The heatmap printed above contains correlating values pertaining to the 'blueWins' attribute.\n",
    "We observe that there are 6 attributes with a correlation value of 1 ('blueWins' not included) :\n",
    "- 'redDeaths'\n",
    "- 'blueKills'\n",
    "- 'blueCSPerMin'\n",
    "- 'blueTotalGold'\n",
    "- 'blueGoldPerMin'\n",
    "- 'blueTotalMinionsKilled'\n",
    "\n",
    "\n",
    "#### &nbsp;&nbsp;&nbsp;&nbsp;&nbsp;&nbsp;&nbsp;&nbsp;&nbsp;&nbsp;&nbsp;&nbsp; 3.2.2 Winning attributes"
   ],
   "metadata": {
    "collapsed": false
   }
  },
  {
   "cell_type": "code",
   "source": [
    "df_win = df[df[\"blueWins\"]==1]\n",
    "df_lose = df[df[\"blueWins\"]==0]\n",
    "\n",
    "corr_blue = ['blueKills', 'blueTotalGold', 'blueTotalMinionsKilled', 'blueCSPerMin', 'redDeaths', 'blueGoldPerMin']\n",
    "\n",
    "c = 0\n",
    "plt.subplots(figsize=(20,5))\n",
    "for i in corr_blue:\n",
    "    plt.subplot(1,3,c+1)\n",
    "    sns.distplot(df_win[i],label='Won Game',color='blue')\n",
    "    sns.distplot(df_lose[i],label='Lost Game',color='red')\n",
    "    plt.legend(title='Game Outcome')\n",
    "    c=c+1\n",
    "\n",
    "    if c == 3:\n",
    "        plt.show()\n",
    "        if i != corr_blue[len(corr_blue) - 1]:\n",
    "            plt.subplots(figsize=(20,5))\n",
    "        c=0"
   ],
   "metadata": {
    "collapsed": false,
    "pycharm": {
     "name": "#%%\n"
    }
   },
   "execution_count": null,
   "outputs": []
  },
  {
   "cell_type": "markdown",
   "source": [
    "Using the attributes we found in `3.2.1` with a correlation value of 1, we output the distribution plot\n",
    "(kernel density estimation + histogram) for each attribute to help us visualize how significantly\n",
    "important each of these are to winning.\n",
    "\n",
    "The distribution plots shown above help visualize the importance of these attributes and how the higher\n",
    "these attribute values are, the greater chance a team has at winning the game. Players/teams can adjust\n",
    "their strategy by using the averaged values displayed in the plots above as a measure of success within\n",
    "their first 10 minutes of a game."
   ],
   "metadata": {
    "collapsed": false
   }
  }
 ],
 "metadata": {
  "kernelspec": {
   "display_name": "Python 3",
   "language": "python",
   "name": "python3"
  },
  "language_info": {
   "codemirror_mode": {
    "name": "ipython",
    "version": 3
   },
   "file_extension": ".py",
   "mimetype": "text/x-python",
   "name": "python",
   "nbconvert_exporter": "python",
   "pygments_lexer": "ipython3",
   "version": "3.8.5"
  }
 },
 "nbformat": 4,
 "nbformat_minor": 1
}