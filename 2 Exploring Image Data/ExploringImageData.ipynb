{
 "cells": [
  {
   "cell_type": "markdown",
   "metadata": {
    "collapsed": true,
    "pycharm": {
     "name": "#%% md\n"
    }
   },
   "source": [
    "## Lab Assignment Two: Exploring Image Data\n",
    "\n",
    "#### Luis Garduno\n",
    "\n",
    "### 1. Business Understanding\n",
    "\n",
    "Explain Here\n",
    "\n",
    "-------------------------------------\n",
    "Dataset :\n",
    "\n",
    "Question Of Interest :\n",
    "\n",
    "### 2. Data Preparation\n",
    "### 3. Data Reduction\n",
    "### 4. Feature Extraction\n",
    "#### Reference\n"
   ]
  },
  {
   "cell_type": "code",
   "source": [],
   "metadata": {
    "collapsed": false,
    "pycharm": {
     "name": "#%%\n"
    }
   },
   "execution_count": null,
   "outputs": []
  }
 ],
 "metadata": {
  "kernelspec": {
   "display_name": "Python 3",
   "language": "python",
   "name": "python3"
  },
  "language_info": {
   "codemirror_mode": {
    "name": "ipython",
    "version": 2
   },
   "file_extension": ".py",
   "mimetype": "text/x-python",
   "name": "python",
   "nbconvert_exporter": "python",
   "pygments_lexer": "ipython2",
   "version": "2.7.6"
  }
 },
 "nbformat": 4,
 "nbformat_minor": 0
}