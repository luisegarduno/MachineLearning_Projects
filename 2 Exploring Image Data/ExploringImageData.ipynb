{
 "cells": [
  {
   "cell_type": "markdown",
   "metadata": {
    "collapsed": true,
    "pycharm": {
     "name": "#%% md\n"
    }
   },
   "source": [
    "# Lab Assignment Two: Exploring Image Data\n",
    "\n",
    "### Luis Garduno\n",
    "\n",
    "## 1. Business Understanding [20 points]\n",
    "#### &nbsp;&nbsp;&nbsp;&nbsp;&nbsp;&nbsp; <u>`About STL-10`</u>\n",
    "\n",
    "Inspired by the\n",
    "<a href=\"http://www.cs.toronto.edu/~kriz/cifar.html\" target=\"_top\"><b>CIFAR-10</b></a>\n",
    "dataset, STL-10 is a dataset containing a combination of images (gathered from\n",
    "<a href=\"http://www.image-net.org/\" target=\"_top\"><b>ImageNet</b></a>)\n",
    "of animals and transportation objects. Within the dataset there are 6 animal & 4 transportation object classes:\n",
    "- __Animals__ : bird, cat, deer, dog, horse, monkey\n",
    "- __Transportation Objects__ : airplane, car, ship, truck\n",
    "\n",
    "The dataset contains 3 folders that will be used at specified times:\n",
    "- __Train__ : 5000 images used to train the algorithm\n",
    "- __Test__ : 8000 images used to test an algorithm (800 images per class)\n",
    "- __Unlabeled__ : 100,000 unlabeled image files\n",
    "\n",
    "Aside from having not having identical classes, another difference between the datasets, is that the\n",
    "images in STL-10 are 3x's the resolution of CIFAR-10's images (96x96 versus 32x32).\n",
    "\n",
    "STL-10 is specifically an image recognition dataset. The dataset is intended to be used for developing\n",
    "unsupervised feature learning, deep learning, self-taught algorithms. That being said, the primary prediction\n",
    "task is to determine the type of animal or transportation object found in each of the pictures in the Unlabeled folder.\n",
    "Something that should be noted about the \"Unlabeled\" folder, aside from it containing the the classes mentioned above,\n",
    "it additionally includes other types of animals (bears, rabbits, etc.) and transportation objects[trains, buses, etc.).\n",
    "\n",
    "#### <u>`Measuring Success`</u>\n",
    "\n",
    "One reason this data is important is if trained correctly & the prediction task is achieved, third parties that\n",
    "use image captcha's for their websites, networks, etc. could use this data as a way to visualize how captcha's can\n",
    "be bypassed by __unsupervised__ feature learning, which essentially defeats the purpose of having a captcha test.\n",
    "\n",
    "In order for this data to be of use to third parties using captcha's, I believe the prediction algorithm will\n",
    "have to render at least an 80% accuracy. The reason it isn't 90% is because if the prediction algorithm selects a\n",
    "wrong image, or doesn't recognize an image, often times captcha test's will let you get away with about 2 or less errors.\n",
    "\n",
    "-------------------------------------\n",
    "Dataset : <a href=\"https://www.kaggle.com/jessicali9530/stl10\" target=\"_top\"><b>STL-10 Kaggle Dataset</b></a>\n",
    "\n",
    "Question Of Interest : Identify the type of animal or transportation object shown in the picture\n",
    "\n",
    "----------------------------------------------\n",
    "\n",
    "## 2. Data Understanding\n",
    "\n",
    "###  &nbsp;&nbsp;&nbsp;&nbsp;&nbsp;&nbsp; 2.1 Data Preparation\n",
    "#### &nbsp;&nbsp;&nbsp;&nbsp;&nbsp;&nbsp;&nbsp;&nbsp;&nbsp;&nbsp;&nbsp;&nbsp; 2.1.1 Data Description [25 points]"
   ]
  },
  {
   "cell_type": "code",
   "execution_count": 1,
   "metadata": {
    "pycharm": {
     "name": "#%%\n"
    }
   },
   "outputs": [
    {
     "ename": "ModuleNotFoundError",
     "evalue": "No module named 'torch'",
     "output_type": "error",
     "traceback": [
      "\u001B[1;31m---------------------------------------------------------------------------\u001B[0m",
      "\u001B[1;31mModuleNotFoundError\u001B[0m                       Traceback (most recent call last)",
      "\u001B[1;32m<ipython-input-1-d88041eb9402>\u001B[0m in \u001B[0;36m<module>\u001B[1;34m\u001B[0m\n\u001B[0;32m      3\u001B[0m \u001B[1;32mimport\u001B[0m \u001B[0mmatplotlib\u001B[0m\u001B[1;33m.\u001B[0m\u001B[0mpyplot\u001B[0m \u001B[1;32mas\u001B[0m \u001B[0mplt\u001B[0m\u001B[1;33m\u001B[0m\u001B[1;33m\u001B[0m\u001B[0m\n\u001B[0;32m      4\u001B[0m \u001B[1;32mimport\u001B[0m \u001B[0mmatplotlib\u001B[0m\u001B[1;33m.\u001B[0m\u001B[0mimage\u001B[0m \u001B[1;32mas\u001B[0m \u001B[0mmpimg\u001B[0m\u001B[1;33m\u001B[0m\u001B[1;33m\u001B[0m\u001B[0m\n\u001B[1;32m----> 5\u001B[1;33m \u001B[1;32mimport\u001B[0m \u001B[0mtorch\u001B[0m\u001B[1;33m\u001B[0m\u001B[1;33m\u001B[0m\u001B[0m\n\u001B[0m\u001B[0;32m      6\u001B[0m \u001B[0mget_ipython\u001B[0m\u001B[1;33m(\u001B[0m\u001B[1;33m)\u001B[0m\u001B[1;33m.\u001B[0m\u001B[0mrun_line_magic\u001B[0m\u001B[1;33m(\u001B[0m\u001B[1;34m'matplotlib'\u001B[0m\u001B[1;33m,\u001B[0m \u001B[1;34m'inline'\u001B[0m\u001B[1;33m)\u001B[0m\u001B[1;33m\u001B[0m\u001B[1;33m\u001B[0m\u001B[0m\n\u001B[0;32m      7\u001B[0m \u001B[1;33m\u001B[0m\u001B[0m\n",
      "\u001B[1;31mModuleNotFoundError\u001B[0m: No module named 'torch'"
     ]
    }
   ],
   "source": [
    "import numpy as np\n",
    "import pandas as pd\n",
    "import matplotlib.pyplot as plt\n",
    "import matplotlib.image as mpimg\n",
    "import torch\n",
    "%matplotlib inline\n",
    "\n",
    "#train = np.load('..\\Datasets\\Train_Small')\n",
    "#img = mpimg.imread('..\\Datasets\\Train_Small\\\\train_image_png_1.png')\n",
    "#print(train);\n",
    "\n",
    "# Read in your images as numpy arrays"
   ]
  },
  {
   "cell_type": "markdown",
   "metadata": {
    "pycharm": {
     "name": "#%% md\n"
    }
   },
   "source": [
    "#### &nbsp;&nbsp;&nbsp;&nbsp;&nbsp;&nbsp;&nbsp;&nbsp;&nbsp;&nbsp;&nbsp;&nbsp; 2.1.2 Data Adjustments [25 points]"
   ]
  },
  {
   "cell_type": "code",
   "execution_count": null,
   "metadata": {
    "pycharm": {
     "name": "#%%\n"
    }
   },
   "outputs": [],
   "source": [
    "# Resize & Recolor images as necessary"
   ]
  },
  {
   "cell_type": "markdown",
   "metadata": {
    "pycharm": {
     "name": "#%% md\n"
    }
   },
   "source": [
    "### &nbsp;&nbsp;&nbsp;&nbsp;&nbsp;&nbsp; 2.2 Table of Image features [29 points]"
   ]
  },
  {
   "cell_type": "code",
   "execution_count": null,
   "metadata": {
    "pycharm": {
     "name": "#%%\n"
    }
   },
   "outputs": [],
   "source": [
    "# Linearize the images to create a table of 1D image features (each row should be 1 image)"
   ]
  },
  {
   "cell_type": "markdown",
   "metadata": {
    "pycharm": {
     "name": "#%% md\n"
    }
   },
   "source": [
    "### &nbsp;&nbsp;&nbsp;&nbsp;&nbsp;&nbsp; 2.3 Visualizing Images [30 points]"
   ]
  },
  {
   "cell_type": "code",
   "execution_count": null,
   "metadata": {
    "pycharm": {
     "name": "#%%\n"
    }
   },
   "outputs": [],
   "source": [
    "# Visualize several images"
   ]
  },
  {
   "cell_type": "markdown",
   "metadata": {
    "pycharm": {
     "name": "#%% md\n"
    }
   },
   "source": [
    "----------------------------\n",
    "\n",
    "## 3. Data Reduction\n",
    "### &nbsp;&nbsp;&nbsp;&nbsp;&nbsp;&nbsp; 3.1 Linear Dimensionality Reduction\n",
    "#### &nbsp;&nbsp;&nbsp;&nbsp;&nbsp;&nbsp;&nbsp;&nbsp;&nbsp;&nbsp;&nbsp;&nbsp; 3.1.1 PCA [35 points]"
   ]
  },
  {
   "cell_type": "code",
   "execution_count": null,
   "metadata": {
    "pycharm": {
     "name": "#%%\n"
    }
   },
   "outputs": [],
   "source": [
    "# Perform linear dimensionality reduction of the images using __PCA__.\n",
    "# Visualize the explained variance of each component.\n",
    "# Analyze how many dimensions are required to adequately represent your image data"
   ]
  },
  {
   "cell_type": "markdown",
   "metadata": {
    "pycharm": {
     "name": "#%% md\n"
    }
   },
   "source": [
    "Explain your analysis and conclusion\n",
    "\n",
    "#### &nbsp;&nbsp;&nbsp;&nbsp;&nbsp;&nbsp;&nbsp;&nbsp;&nbsp;&nbsp;&nbsp;&nbsp; 3.1.2 Randomized PCA [40 points]"
   ]
  },
  {
   "cell_type": "code",
   "execution_count": null,
   "metadata": {
    "pycharm": {
     "name": "#%%\n"
    }
   },
   "outputs": [],
   "source": [
    "# Perform linear dimensionality reduction of your image using __Randomized PCA__\n",
    "# Visualize the explained variance of each component.\n",
    "# Analyze how many dimensions are required to adequately represent your image data"
   ]
  },
  {
   "cell_type": "markdown",
   "metadata": {
    "pycharm": {
     "name": "#%% md\n"
    }
   },
   "source": [
    "Explain your analysis and conclusion\n",
    "\n",
    "#### &nbsp;&nbsp;&nbsp;&nbsp;&nbsp;&nbsp;&nbsp;&nbsp;&nbsp;&nbsp;&nbsp;&nbsp; 3.1.3 PCA vs Randomized PCA [60 points]"
   ]
  },
  {
   "cell_type": "code",
   "execution_count": null,
   "metadata": {
    "pycharm": {
     "name": "#%%\n"
    }
   },
   "outputs": [],
   "source": [
    "# Compare the representation using __PCA__ & __Randomized PCA__.\n",
    "# The method I choose to compare dimensionality methods should quantitatively explain which method\n",
    "# is better at representing the images w/ fewer components."
   ]
  },
  {
   "cell_type": "markdown",
   "metadata": {
    "pycharm": {
     "name": "#%% md\n"
    }
   },
   "source": [
    "Do you prefer one method over another?\n",
    "Why?\n",
    "\n",
    "### &nbsp;&nbsp;&nbsp;&nbsp;&nbsp;&nbsp; 3.2 Feature Extraction [70 points]"
   ]
  },
  {
   "cell_type": "code",
   "execution_count": null,
   "metadata": {
    "pycharm": {
     "name": "#%%\n"
    }
   },
   "outputs": [],
   "source": [
    "# Perform feature extraction upon the images using any feature extraction technique (e.g. gabor\n",
    "# filters, ordered gradients, DAISY, etc.)."
   ]
  },
  {
   "cell_type": "markdown",
   "metadata": {
    "pycharm": {
     "name": "#%% md\n"
    }
   },
   "source": [
    "### &nbsp;&nbsp;&nbsp;&nbsp;&nbsp;&nbsp; 3.3 Visualizing Feature Extraction efficiency [90 points]\n",
    "    - Does this feature extraction method show promise for your prediction task? Why?\n",
    "    - Use visualizations to analyze this questions.\n",
    "    - Example : Visualize the difference __between statistics of extracted features__ in each target class.\n",
    "    - Example : Use a heat map of the pairwise differences (ordered by class) among all extracted features.\n",
    "    - Example : build a nearest neighbor classifier to see actual classification performance.\n"
   ]
  },
  {
   "cell_type": "markdown",
   "metadata": {
    "pycharm": {
     "name": "#%% md\n"
    }
   },
   "source": [
    "#### References\n",
    "\n",
    "Kaggle. STL-10. https://www.kaggle.com/jessicali9530/stl10 (Accessed 9-25-2020)\n",
    "\n",
    "Adam Coates, Honglak Lee, Andrew Y. Ng An Analysis of Single Layer Networks in Unsupervised Feature Learning AISTATS, 2011.\n"
   ]
  },
  {
   "cell_type": "code",
   "execution_count": null,
   "metadata": {
    "pycharm": {
     "name": "#%%\n"
    }
   },
   "outputs": [],
   "source": []
  }
 ],
 "metadata": {
  "kernelspec": {
   "display_name": "Python 3",
   "language": "python",
   "name": "python3"
  },
  "language_info": {
   "codemirror_mode": {
    "name": "ipython",
    "version": 3
   },
   "file_extension": ".py",
   "mimetype": "text/x-python",
   "name": "python",
   "nbconvert_exporter": "python",
   "pygments_lexer": "ipython3",
   "version": "3.8.5"
  }
 },
 "nbformat": 4,
 "nbformat_minor": 1
}