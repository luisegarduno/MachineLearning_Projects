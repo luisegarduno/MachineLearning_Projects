{
 "cells": [
  {
   "cell_type": "markdown",
   "metadata": {},
   "source": [
    "# Lab Assignment Three: Extending Logistic Regression\n",
    "\n",
    "### Luis Garduno\n",
    "## 1. Data Overview\n",
    "\n",
    "###  1.1 Business Understanding\n",
    "\n",
    "#### <u>`About League of Legends`<u>\n",
    "    \n",
    "Developed by Riot Studios, League of Legends, or \"LoL\", is an online multiplayer\n",
    "video-game that is available to Windows/MacOS users. LoL consists 2 teams ('Blue\n",
    "& 'Red') facing each other, where the main objective is to destroy the opposing\n",
    "teams 'Nexus', or home base, while facing obstacles like destroying damage dealing\n",
    "towers & eliminating players throughout the way. Perks & gold are able to be\n",
    "obtained by players/teams through completing tasks such as eliminating players,\n",
    "enemy creeps, or dragons. Players then spend the gold to purchase items that help\n",
    "raise the power of their abilities.\n",
    "\n",
    "League of Legends offers different game modes, such as ranked. In this game mode,\n",
    "players are given a rank based off of the number of wins + the number of games\n",
    "played. \"Diamond\" is one of the highest ranks a player may obtain and is known\n",
    "to be extremely competitive. A ranked game on average lasts 30-45 minutes. The\n",
    "dataset we will be using contains the first 10 minute analytics of each team\n",
    "for different diamond ranked matches.\n",
    "\n",
    "Once the data is analyzed, third parties, or teams/players, would be able to conceptualize the level\n",
    "of priority different attributes have during early stages of diamond ranked matches. With the first\n",
    "ten minutes of each game being critical, they could then use this information to adjust their strategy\n",
    "to one proven to win matches. In order for this data to be useful and trusted by third parties in\n",
    "specific situations such as playing at professional level, the data would have to render at least a 90%\n",
    "accuracy.\n",
    "\n",
    "Additionally, players who are accustomed to playing as the 'jungle' role (a player\n",
    "role that focuses on obtaining objective eliminations within the jungle areas of\n",
    "the map) can use this analyzed data to better understand the impact elite monsters\n",
    "have on winning games.\n",
    "\n",
    "-------------------------------------\n",
    "\n",
    "Dataset [Kaggle]: <a href=\"https://www.kaggle.com/bobbyscience/league-of-legends-diamond-ranked-games-10-min\" target=\"_top\"><b>First 10 minutes of diamond ranked League of Legends matches</b></a>\n",
    "\n",
    "Question Of Interest : As of the first 10 minutes, which team will win?\n",
    "\n",
    "### 1.2 Data Preparation\n",
    "#### 1.2.1 Data Description"
   ]
  },
  {
   "cell_type": "code",
   "execution_count": 1,
   "metadata": {
    "pycharm": {
     "name": "#%%\n"
    }
   },
   "outputs": [
    {
     "name": "stdout",
     "output_type": "stream",
     "text": [
      "<class 'pandas.core.frame.DataFrame'>\n",
      "RangeIndex: 9879 entries, 0 to 9878\n",
      "Data columns (total 40 columns):\n",
      " #   Column                        Non-Null Count  Dtype  \n",
      "---  ------                        --------------  -----  \n",
      " 0   gameId                        9879 non-null   int64  \n",
      " 1   blueWins                      9879 non-null   int64  \n",
      " 2   blueWardsPlaced               9879 non-null   int64  \n",
      " 3   blueWardsDestroyed            9879 non-null   int64  \n",
      " 4   blueFirstBlood                9879 non-null   int64  \n",
      " 5   blueKills                     9879 non-null   int64  \n",
      " 6   blueDeaths                    9879 non-null   int64  \n",
      " 7   blueAssists                   9879 non-null   int64  \n",
      " 8   blueEliteMonsters             9879 non-null   int64  \n",
      " 9   blueDragons                   9879 non-null   int64  \n",
      " 10  blueHeralds                   9879 non-null   int64  \n",
      " 11  blueTowersDestroyed           9879 non-null   int64  \n",
      " 12  blueTotalGold                 9879 non-null   int64  \n",
      " 13  blueAvgLevel                  9879 non-null   float64\n",
      " 14  blueTotalExperience           9879 non-null   int64  \n",
      " 15  blueTotalMinionsKilled        9879 non-null   int64  \n",
      " 16  blueTotalJungleMinionsKilled  9879 non-null   int64  \n",
      " 17  blueGoldDiff                  9879 non-null   int64  \n",
      " 18  blueExperienceDiff            9879 non-null   int64  \n",
      " 19  blueCSPerMin                  9879 non-null   float64\n",
      " 20  blueGoldPerMin                9879 non-null   float64\n",
      " 21  redWardsPlaced                9879 non-null   int64  \n",
      " 22  redWardsDestroyed             9879 non-null   int64  \n",
      " 23  redFirstBlood                 9879 non-null   int64  \n",
      " 24  redKills                      9879 non-null   int64  \n",
      " 25  redDeaths                     9879 non-null   int64  \n",
      " 26  redAssists                    9879 non-null   int64  \n",
      " 27  redEliteMonsters              9879 non-null   int64  \n",
      " 28  redDragons                    9879 non-null   int64  \n",
      " 29  redHeralds                    9879 non-null   int64  \n",
      " 30  redTowersDestroyed            9879 non-null   int64  \n",
      " 31  redTotalGold                  9879 non-null   int64  \n",
      " 32  redAvgLevel                   9879 non-null   float64\n",
      " 33  redTotalExperience            9879 non-null   int64  \n",
      " 34  redTotalMinionsKilled         9879 non-null   int64  \n",
      " 35  redTotalJungleMinionsKilled   9879 non-null   int64  \n",
      " 36  redGoldDiff                   9879 non-null   int64  \n",
      " 37  redExperienceDiff             9879 non-null   int64  \n",
      " 38  redCSPerMin                   9879 non-null   float64\n",
      " 39  redGoldPerMin                 9879 non-null   float64\n",
      "dtypes: float64(6), int64(34)\n",
      "memory usage: 3.0 MB\n"
     ]
    }
   ],
   "source": [
    "import numpy as np\n",
    "import pandas as pd\n",
    "\n",
    "# Load in the dataset into dataframe X\n",
    "X = pd.read_csv('https://raw.githubusercontent.com/luisegarduno/MachineLearning_Projects/master/Datasets/high_diamond_ranked_10min.csv')\n",
    "\n",
    "X.info()"
   ]
  },
  {
   "cell_type": "markdown",
   "metadata": {
    "pycharm": {
     "name": "#%% md\n"
    }
   },
   "source": [
    "---------------------------------\n",
    "\n",
    "Printing out the information about the dataframe we are able to see that there are a\n",
    "total of 9,879 instances, and 39 attributes.\n",
    "\n",
    "Additionally we are able to see that there are 19 of the same attributes for each\n",
    "the blue & red team (columns 1-19 are the same as 20-38).\n",
    "\n",
    "Attributes for each team includes :\n",
    "- Wards placed & destroyed\n",
    "- Total number of kills, deaths, & assists\n",
    "- First Bloods (1st elimination of the game)\n",
    "- Total : towers destroyed, gold, experience\n",
    "- Average : level, CS per minute, & gold per minute\n",
    "- Difference in gold & experience between the teams\n",
    "- Objective eliminations : elite monsters(dragons, heralds), minions, & jungle minions\n",
    "\n",
    "Attributes such as total gold, experience, objectives eliminations, towers destroyed, etc.\n",
    "will be of type integer (int64) because they will always be whole numbers. Attributes involving\n",
    "averages such as cs per minute, gold per minute, & level, should be the only of double-precision floating-point\n",
    "format (float64).\n",
    "\n",
    "The data type for \"blueWins\" and \"first bloods\" could be changed to be of type boolean, but because we are wanting to\n",
    "visualize these attributes later on, optimally it is best to keep these as integer data types. As a result,\n",
    "the data types presented for each attribute are correct and should not be changed.\n",
    "\n",
    "Below is a brief description of some of the key attributes."
   ]
  },
  {
   "cell_type": "code",
   "execution_count": 2,
   "metadata": {
    "pycharm": {
     "name": "#%%\n"
    }
   },
   "outputs": [
    {
     "data": {
      "text/html": [
       "<div>\n",
       "<style scoped>\n",
       "    .dataframe tbody tr th:only-of-type {\n",
       "        vertical-align: middle;\n",
       "    }\n",
       "\n",
       "    .dataframe tbody tr th {\n",
       "        vertical-align: top;\n",
       "    }\n",
       "\n",
       "    .dataframe thead th {\n",
       "        text-align: right;\n",
       "    }\n",
       "</style>\n",
       "<table border=\"1\" class=\"dataframe\">\n",
       "  <thead>\n",
       "    <tr style=\"text-align: right;\">\n",
       "      <th></th>\n",
       "      <th>gameId</th>\n",
       "      <th>blueWins</th>\n",
       "      <th>blueWardsPlaced</th>\n",
       "      <th>blueWardsDestroyed</th>\n",
       "      <th>blueFirstBlood</th>\n",
       "      <th>blueKills</th>\n",
       "      <th>blueDeaths</th>\n",
       "      <th>blueAssists</th>\n",
       "      <th>blueEliteMonsters</th>\n",
       "      <th>blueDragons</th>\n",
       "      <th>...</th>\n",
       "      <th>redTowersDestroyed</th>\n",
       "      <th>redTotalGold</th>\n",
       "      <th>redAvgLevel</th>\n",
       "      <th>redTotalExperience</th>\n",
       "      <th>redTotalMinionsKilled</th>\n",
       "      <th>redTotalJungleMinionsKilled</th>\n",
       "      <th>redGoldDiff</th>\n",
       "      <th>redExperienceDiff</th>\n",
       "      <th>redCSPerMin</th>\n",
       "      <th>redGoldPerMin</th>\n",
       "    </tr>\n",
       "  </thead>\n",
       "  <tbody>\n",
       "    <tr>\n",
       "      <th>count</th>\n",
       "      <td>9.879000e+03</td>\n",
       "      <td>9879.000000</td>\n",
       "      <td>9879.000000</td>\n",
       "      <td>9879.000000</td>\n",
       "      <td>9879.000000</td>\n",
       "      <td>9879.000000</td>\n",
       "      <td>9879.000000</td>\n",
       "      <td>9879.000000</td>\n",
       "      <td>9879.000000</td>\n",
       "      <td>9879.000000</td>\n",
       "      <td>...</td>\n",
       "      <td>9879.000000</td>\n",
       "      <td>9879.000000</td>\n",
       "      <td>9879.000000</td>\n",
       "      <td>9879.000000</td>\n",
       "      <td>9879.000000</td>\n",
       "      <td>9879.000000</td>\n",
       "      <td>9879.000000</td>\n",
       "      <td>9879.000000</td>\n",
       "      <td>9879.000000</td>\n",
       "      <td>9879.000000</td>\n",
       "    </tr>\n",
       "    <tr>\n",
       "      <th>mean</th>\n",
       "      <td>4.500084e+09</td>\n",
       "      <td>0.499038</td>\n",
       "      <td>22.288288</td>\n",
       "      <td>2.824881</td>\n",
       "      <td>0.504808</td>\n",
       "      <td>6.183925</td>\n",
       "      <td>6.137666</td>\n",
       "      <td>6.645106</td>\n",
       "      <td>0.549954</td>\n",
       "      <td>0.361980</td>\n",
       "      <td>...</td>\n",
       "      <td>0.043021</td>\n",
       "      <td>16489.041401</td>\n",
       "      <td>6.925316</td>\n",
       "      <td>17961.730438</td>\n",
       "      <td>217.349226</td>\n",
       "      <td>51.313088</td>\n",
       "      <td>-14.414111</td>\n",
       "      <td>33.620306</td>\n",
       "      <td>21.734923</td>\n",
       "      <td>1648.904140</td>\n",
       "    </tr>\n",
       "    <tr>\n",
       "      <th>std</th>\n",
       "      <td>2.757328e+07</td>\n",
       "      <td>0.500024</td>\n",
       "      <td>18.019177</td>\n",
       "      <td>2.174998</td>\n",
       "      <td>0.500002</td>\n",
       "      <td>3.011028</td>\n",
       "      <td>2.933818</td>\n",
       "      <td>4.064520</td>\n",
       "      <td>0.625527</td>\n",
       "      <td>0.480597</td>\n",
       "      <td>...</td>\n",
       "      <td>0.216900</td>\n",
       "      <td>1490.888406</td>\n",
       "      <td>0.305311</td>\n",
       "      <td>1198.583912</td>\n",
       "      <td>21.911668</td>\n",
       "      <td>10.027885</td>\n",
       "      <td>2453.349179</td>\n",
       "      <td>1920.370438</td>\n",
       "      <td>2.191167</td>\n",
       "      <td>149.088841</td>\n",
       "    </tr>\n",
       "    <tr>\n",
       "      <th>min</th>\n",
       "      <td>4.295358e+09</td>\n",
       "      <td>0.000000</td>\n",
       "      <td>5.000000</td>\n",
       "      <td>0.000000</td>\n",
       "      <td>0.000000</td>\n",
       "      <td>0.000000</td>\n",
       "      <td>0.000000</td>\n",
       "      <td>0.000000</td>\n",
       "      <td>0.000000</td>\n",
       "      <td>0.000000</td>\n",
       "      <td>...</td>\n",
       "      <td>0.000000</td>\n",
       "      <td>11212.000000</td>\n",
       "      <td>4.800000</td>\n",
       "      <td>10465.000000</td>\n",
       "      <td>107.000000</td>\n",
       "      <td>4.000000</td>\n",
       "      <td>-11467.000000</td>\n",
       "      <td>-8348.000000</td>\n",
       "      <td>10.700000</td>\n",
       "      <td>1121.200000</td>\n",
       "    </tr>\n",
       "    <tr>\n",
       "      <th>25%</th>\n",
       "      <td>4.483301e+09</td>\n",
       "      <td>0.000000</td>\n",
       "      <td>14.000000</td>\n",
       "      <td>1.000000</td>\n",
       "      <td>0.000000</td>\n",
       "      <td>4.000000</td>\n",
       "      <td>4.000000</td>\n",
       "      <td>4.000000</td>\n",
       "      <td>0.000000</td>\n",
       "      <td>0.000000</td>\n",
       "      <td>...</td>\n",
       "      <td>0.000000</td>\n",
       "      <td>15427.500000</td>\n",
       "      <td>6.800000</td>\n",
       "      <td>17209.500000</td>\n",
       "      <td>203.000000</td>\n",
       "      <td>44.000000</td>\n",
       "      <td>-1596.000000</td>\n",
       "      <td>-1212.000000</td>\n",
       "      <td>20.300000</td>\n",
       "      <td>1542.750000</td>\n",
       "    </tr>\n",
       "    <tr>\n",
       "      <th>50%</th>\n",
       "      <td>4.510920e+09</td>\n",
       "      <td>0.000000</td>\n",
       "      <td>16.000000</td>\n",
       "      <td>3.000000</td>\n",
       "      <td>1.000000</td>\n",
       "      <td>6.000000</td>\n",
       "      <td>6.000000</td>\n",
       "      <td>6.000000</td>\n",
       "      <td>0.000000</td>\n",
       "      <td>0.000000</td>\n",
       "      <td>...</td>\n",
       "      <td>0.000000</td>\n",
       "      <td>16378.000000</td>\n",
       "      <td>7.000000</td>\n",
       "      <td>17974.000000</td>\n",
       "      <td>218.000000</td>\n",
       "      <td>51.000000</td>\n",
       "      <td>-14.000000</td>\n",
       "      <td>28.000000</td>\n",
       "      <td>21.800000</td>\n",
       "      <td>1637.800000</td>\n",
       "    </tr>\n",
       "    <tr>\n",
       "      <th>75%</th>\n",
       "      <td>4.521733e+09</td>\n",
       "      <td>1.000000</td>\n",
       "      <td>20.000000</td>\n",
       "      <td>4.000000</td>\n",
       "      <td>1.000000</td>\n",
       "      <td>8.000000</td>\n",
       "      <td>8.000000</td>\n",
       "      <td>9.000000</td>\n",
       "      <td>1.000000</td>\n",
       "      <td>1.000000</td>\n",
       "      <td>...</td>\n",
       "      <td>0.000000</td>\n",
       "      <td>17418.500000</td>\n",
       "      <td>7.200000</td>\n",
       "      <td>18764.500000</td>\n",
       "      <td>233.000000</td>\n",
       "      <td>57.000000</td>\n",
       "      <td>1585.500000</td>\n",
       "      <td>1290.500000</td>\n",
       "      <td>23.300000</td>\n",
       "      <td>1741.850000</td>\n",
       "    </tr>\n",
       "    <tr>\n",
       "      <th>max</th>\n",
       "      <td>4.527991e+09</td>\n",
       "      <td>1.000000</td>\n",
       "      <td>250.000000</td>\n",
       "      <td>27.000000</td>\n",
       "      <td>1.000000</td>\n",
       "      <td>22.000000</td>\n",
       "      <td>22.000000</td>\n",
       "      <td>29.000000</td>\n",
       "      <td>2.000000</td>\n",
       "      <td>1.000000</td>\n",
       "      <td>...</td>\n",
       "      <td>2.000000</td>\n",
       "      <td>22732.000000</td>\n",
       "      <td>8.200000</td>\n",
       "      <td>22269.000000</td>\n",
       "      <td>289.000000</td>\n",
       "      <td>92.000000</td>\n",
       "      <td>10830.000000</td>\n",
       "      <td>9333.000000</td>\n",
       "      <td>28.900000</td>\n",
       "      <td>2273.200000</td>\n",
       "    </tr>\n",
       "  </tbody>\n",
       "</table>\n",
       "<p>8 rows × 40 columns</p>\n",
       "</div>"
      ],
      "text/plain": [
       "             gameId     blueWins  blueWardsPlaced  blueWardsDestroyed  \\\n",
       "count  9.879000e+03  9879.000000      9879.000000         9879.000000   \n",
       "mean   4.500084e+09     0.499038        22.288288            2.824881   \n",
       "std    2.757328e+07     0.500024        18.019177            2.174998   \n",
       "min    4.295358e+09     0.000000         5.000000            0.000000   \n",
       "25%    4.483301e+09     0.000000        14.000000            1.000000   \n",
       "50%    4.510920e+09     0.000000        16.000000            3.000000   \n",
       "75%    4.521733e+09     1.000000        20.000000            4.000000   \n",
       "max    4.527991e+09     1.000000       250.000000           27.000000   \n",
       "\n",
       "       blueFirstBlood    blueKills   blueDeaths  blueAssists  \\\n",
       "count     9879.000000  9879.000000  9879.000000  9879.000000   \n",
       "mean         0.504808     6.183925     6.137666     6.645106   \n",
       "std          0.500002     3.011028     2.933818     4.064520   \n",
       "min          0.000000     0.000000     0.000000     0.000000   \n",
       "25%          0.000000     4.000000     4.000000     4.000000   \n",
       "50%          1.000000     6.000000     6.000000     6.000000   \n",
       "75%          1.000000     8.000000     8.000000     9.000000   \n",
       "max          1.000000    22.000000    22.000000    29.000000   \n",
       "\n",
       "       blueEliteMonsters  blueDragons  ...  redTowersDestroyed  redTotalGold  \\\n",
       "count        9879.000000  9879.000000  ...         9879.000000   9879.000000   \n",
       "mean            0.549954     0.361980  ...            0.043021  16489.041401   \n",
       "std             0.625527     0.480597  ...            0.216900   1490.888406   \n",
       "min             0.000000     0.000000  ...            0.000000  11212.000000   \n",
       "25%             0.000000     0.000000  ...            0.000000  15427.500000   \n",
       "50%             0.000000     0.000000  ...            0.000000  16378.000000   \n",
       "75%             1.000000     1.000000  ...            0.000000  17418.500000   \n",
       "max             2.000000     1.000000  ...            2.000000  22732.000000   \n",
       "\n",
       "       redAvgLevel  redTotalExperience  redTotalMinionsKilled  \\\n",
       "count  9879.000000         9879.000000            9879.000000   \n",
       "mean      6.925316        17961.730438             217.349226   \n",
       "std       0.305311         1198.583912              21.911668   \n",
       "min       4.800000        10465.000000             107.000000   \n",
       "25%       6.800000        17209.500000             203.000000   \n",
       "50%       7.000000        17974.000000             218.000000   \n",
       "75%       7.200000        18764.500000             233.000000   \n",
       "max       8.200000        22269.000000             289.000000   \n",
       "\n",
       "       redTotalJungleMinionsKilled   redGoldDiff  redExperienceDiff  \\\n",
       "count                  9879.000000   9879.000000        9879.000000   \n",
       "mean                     51.313088    -14.414111          33.620306   \n",
       "std                      10.027885   2453.349179        1920.370438   \n",
       "min                       4.000000 -11467.000000       -8348.000000   \n",
       "25%                      44.000000  -1596.000000       -1212.000000   \n",
       "50%                      51.000000    -14.000000          28.000000   \n",
       "75%                      57.000000   1585.500000        1290.500000   \n",
       "max                      92.000000  10830.000000        9333.000000   \n",
       "\n",
       "       redCSPerMin  redGoldPerMin  \n",
       "count  9879.000000    9879.000000  \n",
       "mean     21.734923    1648.904140  \n",
       "std       2.191167     149.088841  \n",
       "min      10.700000    1121.200000  \n",
       "25%      20.300000    1542.750000  \n",
       "50%      21.800000    1637.800000  \n",
       "75%      23.300000    1741.850000  \n",
       "max      28.900000    2273.200000  \n",
       "\n",
       "[8 rows x 40 columns]"
      ]
     },
     "execution_count": 2,
     "metadata": {},
     "output_type": "execute_result"
    }
   ],
   "source": [
    "import seaborn as sns\n",
    "import matplotlib.pyplot as plt\n",
    "%matplotlib inline\n",
    "\n",
    "# describe dataframe X\n",
    "X.describe()"
   ]
  },
  {
   "cell_type": "code",
   "execution_count": 3,
   "metadata": {
    "pycharm": {
     "name": "#%%\n"
    }
   },
   "outputs": [
    {
     "data": {
      "text/html": [
       "<div>\n",
       "<style scoped>\n",
       "    .dataframe tbody tr th:only-of-type {\n",
       "        vertical-align: middle;\n",
       "    }\n",
       "\n",
       "    .dataframe tbody tr th {\n",
       "        vertical-align: top;\n",
       "    }\n",
       "\n",
       "    .dataframe thead th {\n",
       "        text-align: right;\n",
       "    }\n",
       "</style>\n",
       "<table border=\"1\" class=\"dataframe\">\n",
       "  <thead>\n",
       "    <tr style=\"text-align: right;\">\n",
       "      <th></th>\n",
       "      <th>Features</th>\n",
       "      <th>Description</th>\n",
       "      <th>Feature type</th>\n",
       "      <th>Attribute Type</th>\n",
       "      <th>Range</th>\n",
       "    </tr>\n",
       "  </thead>\n",
       "  <tbody>\n",
       "    <tr>\n",
       "      <th>0</th>\n",
       "      <td>blueWins</td>\n",
       "      <td>whether blue team won or not</td>\n",
       "      <td>Discrete</td>\n",
       "      <td>nominal</td>\n",
       "      <td>0: red team won; 1: blue team won</td>\n",
       "    </tr>\n",
       "    <tr>\n",
       "      <th>1</th>\n",
       "      <td>WardsPlaced / WardsDestroyed</td>\n",
       "      <td>number of total wards placed or destroyed by team</td>\n",
       "      <td>Continuous</td>\n",
       "      <td>ratio</td>\n",
       "      <td>placed: 5 - 250;destroyed: 0 - 27</td>\n",
       "    </tr>\n",
       "    <tr>\n",
       "      <th>2</th>\n",
       "      <td>FirstBlood</td>\n",
       "      <td>team with the first kill of game</td>\n",
       "      <td>Discrete</td>\n",
       "      <td>nominal</td>\n",
       "      <td>0: did not get first kill; 1: team obtained fi...</td>\n",
       "    </tr>\n",
       "    <tr>\n",
       "      <th>3</th>\n",
       "      <td>Kills / Deaths / Assists</td>\n",
       "      <td>total number of kills, deaths, or assists of team</td>\n",
       "      <td>Continuous</td>\n",
       "      <td>ratio</td>\n",
       "      <td>kills: 0-22;deaths: 0-22;assists: 0-29</td>\n",
       "    </tr>\n",
       "    <tr>\n",
       "      <th>4</th>\n",
       "      <td>TowersDestroyed</td>\n",
       "      <td>total number of towers destroyed by team</td>\n",
       "      <td>Continuous</td>\n",
       "      <td>ratio</td>\n",
       "      <td>0 - 2</td>\n",
       "    </tr>\n",
       "    <tr>\n",
       "      <th>5</th>\n",
       "      <td>TotalGold</td>\n",
       "      <td>total gold obtained by team</td>\n",
       "      <td>Continuous</td>\n",
       "      <td>ratio</td>\n",
       "      <td>11,000 - 25,000</td>\n",
       "    </tr>\n",
       "    <tr>\n",
       "      <th>6</th>\n",
       "      <td>AvgLevel</td>\n",
       "      <td>average level of all players on team</td>\n",
       "      <td>Continuous</td>\n",
       "      <td>ratio</td>\n",
       "      <td>4.5 - 8.5</td>\n",
       "    </tr>\n",
       "    <tr>\n",
       "      <th>7</th>\n",
       "      <td>TotalExperience</td>\n",
       "      <td>total experience points accumulated by team</td>\n",
       "      <td>Continuous</td>\n",
       "      <td>ratio</td>\n",
       "      <td>10,000 - 24,000</td>\n",
       "    </tr>\n",
       "    <tr>\n",
       "      <th>8</th>\n",
       "      <td>CSPerMin</td>\n",
       "      <td>average creep score per minute</td>\n",
       "      <td>Continuous</td>\n",
       "      <td>ratio</td>\n",
       "      <td>10.0 - 30.0</td>\n",
       "    </tr>\n",
       "    <tr>\n",
       "      <th>9</th>\n",
       "      <td>GoldPerMin</td>\n",
       "      <td>average gold obtained per minute</td>\n",
       "      <td>Continuous</td>\n",
       "      <td>ratio</td>\n",
       "      <td>1,100.0 - 2,000.0</td>\n",
       "    </tr>\n",
       "  </tbody>\n",
       "</table>\n",
       "</div>"
      ],
      "text/plain": [
       "                       Features  \\\n",
       "0                      blueWins   \n",
       "1  WardsPlaced / WardsDestroyed   \n",
       "2                    FirstBlood   \n",
       "3      Kills / Deaths / Assists   \n",
       "4               TowersDestroyed   \n",
       "5                     TotalGold   \n",
       "6                      AvgLevel   \n",
       "7               TotalExperience   \n",
       "8                      CSPerMin   \n",
       "9                    GoldPerMin   \n",
       "\n",
       "                                         Description Feature type  \\\n",
       "0                       whether blue team won or not     Discrete   \n",
       "1  number of total wards placed or destroyed by team   Continuous   \n",
       "2                   team with the first kill of game     Discrete   \n",
       "3  total number of kills, deaths, or assists of team   Continuous   \n",
       "4           total number of towers destroyed by team   Continuous   \n",
       "5                        total gold obtained by team   Continuous   \n",
       "6               average level of all players on team   Continuous   \n",
       "7        total experience points accumulated by team   Continuous   \n",
       "8                     average creep score per minute   Continuous   \n",
       "9                   average gold obtained per minute   Continuous   \n",
       "\n",
       "  Attribute Type                                              Range  \n",
       "0        nominal                  0: red team won; 1: blue team won  \n",
       "1          ratio                  placed: 5 - 250;destroyed: 0 - 27  \n",
       "2        nominal  0: did not get first kill; 1: team obtained fi...  \n",
       "3          ratio             kills: 0-22;deaths: 0-22;assists: 0-29  \n",
       "4          ratio                                              0 - 2  \n",
       "5          ratio                                    11,000 - 25,000  \n",
       "6          ratio                                          4.5 - 8.5  \n",
       "7          ratio                                    10,000 - 24,000  \n",
       "8          ratio                                        10.0 - 30.0  \n",
       "9          ratio                                  1,100.0 - 2,000.0  "
      ]
     },
     "execution_count": 3,
     "metadata": {},
     "output_type": "execute_result"
    }
   ],
   "source": [
    "X_describe = pd.DataFrame({'Features' : ['blueWins','WardsPlaced / WardsDestroyed','FirstBlood','Kills / Deaths / Assists',\n",
    "                                         'TowersDestroyed','TotalGold','AvgLevel','TotalExperience','CSPerMin','GoldPerMin']})\n",
    "\n",
    "X_describe['Description'] = ['whether blue team won or not','number of total wards placed or destroyed by team','team with the first kill of game',\n",
    "                              'total number of kills, deaths, or assists of team','total number of towers destroyed by team','total gold obtained by team',\n",
    "                              'average level of all players on team','total experience points accumulated by team','average creep score per minute','average gold obtained per minute']\n",
    "\n",
    "X_describe['Feature type'] = ['Discrete','Continuous','Discrete','Continuous','Continuous','Continuous','Continuous','Continuous','Continuous','Continuous']\n",
    "\n",
    "X_describe['Attribute Type'] = ['nominal','ratio','nominal','ratio','ratio','ratio','ratio','ratio','ratio','ratio']\n",
    "\n",
    "X_describe['Range'] = ['0: red team won; 1: blue team won','placed: 5 - 250;destroyed: 0 - 27','0: did not get first kill; 1: team obtained first kill',\n",
    "                       'kills: 0-22;deaths: 0-22;assists: 0-29','0 - 2','11,000 - 25,000','4.5 - 8.5','10,000 - 24,000','10.0 - 30.0','1,100.0 - 2,000.0']\n",
    "X_describe"
   ]
  },
  {
   "cell_type": "markdown",
   "metadata": {
    "pycharm": {
     "name": "#%% md\n"
    }
   },
   "source": [
    "\n",
    "---------------\n",
    "\n",
    "#### 1.2.2 Data Quality\n",
    "\n",
    "Using the `missingno` package, we are able to additionally confirm that all the data is complete\n",
    "and there is no missing entries with the dataset. If there was missing data, we could impute the\n",
    "missing values by using the k-nearest neighbor. But if an instance was missing a majority of its\n",
    "attributes, it would be removed from the dataset.\n",
    "\n",
    "The number of unique values in the column \"gameId\" is printed to verify that all instances\n",
    "are weighted equally."
   ]
  },
  {
   "cell_type": "code",
   "execution_count": 4,
   "metadata": {
    "pycharm": {
     "name": "#%%\n"
    }
   },
   "outputs": [
    {
     "name": "stdout",
     "output_type": "stream",
     "text": [
      "Number of unique values in column \"gameId\" :  9879\n",
      "Duplicates :  0\n"
     ]
    },
    {
     "data": {
      "image/png": "[encoded data removed]",
      "text/plain": [
       "<Figure size 1800x720 with 2 Axes>"
      ]
     },
     "metadata": {
      "needs_background": "light"
     },
     "output_type": "display_data"
    }
   ],
   "source": [
    "import missingno as mn\n",
    "\n",
    "mn.matrix(X)\n",
    "\n",
    "# Count unique values in column 'gameId' of the dataframe\n",
    "print('Number of unique values in column \"gameId\" : ', X['gameId'].nunique())\n",
    "\n",
    "dup_X = X.replace(to_replace=-1,value=np.nan)\n",
    "\n",
    "dup_X = dup_X.duplicated()\n",
    "print('Duplicates : ', len(X[dup_X]))"
   ]
  },
  {
   "cell_type": "markdown",
   "metadata": {
    "pycharm": {
     "name": "#%% md\n"
    }
   },
   "source": [
    "\n",
    "------------------------------\n",
    "\n",
    "#### 1.2.3 Cleaning the Dataset\n",
    "\n",
    "After confirming there are no duplicates in the data, the \"gameId\" column can be removed since it\n",
    "will have no impact on the results.\n",
    "\n",
    "Using the correlation feature from the `pandas` package, for each team we find the names of\n",
    "attributes that correlate most with winning (correlation >= 7%). The names of these attributes\n",
    "are stored in a array for later use.\n",
    "\n",
    "Lastly, two dataframes are created to hold the attributes at instances when blue team wins, and\n",
    "when blue team loses."
   ]
  },
  {
   "cell_type": "code",
   "execution_count": 5,
   "metadata": {
    "pycharm": {
     "name": "#%%\n"
    }
   },
   "outputs": [
    {
     "data": {
      "text/plain": [
       "((9879, 39), (9879,))"
      ]
     },
     "execution_count": 5,
     "metadata": {},
     "output_type": "execute_result"
    }
   ],
   "source": [
    "del X['gameId']\n",
    "\n",
    "red_col = X.corr()[X.corr()['blueWins'] <= -0.07].index.values\n",
    "blue_col = X.corr()[X.corr()['blueWins'] >= 0.07].index.values\n",
    "\n",
    "# Create dataframes for the 2 possible outcomes :\n",
    "X_win  = X[X[\"blueWins\"]==1]     # Blue Team Win  /  Red Team Lost\n",
    "X_lose = X[X[\"blueWins\"]==0]     # Red Team Win   /  Blue Team Lost\n",
    "\n",
    "# Finally create y, target dataframe\n",
    "y = X.blueWins\n",
    "\n",
    "# Shape of Data & Target\n",
    "X.shape, y.shape"
   ]
  },
  {
   "cell_type": "markdown",
   "metadata": {
    "code_folding": []
   },
   "source": [
    "\n",
    "-------------------\n",
    "\n",
    "### 1.3 Creating Training & Test Data [30 points]\n",
    "Using Scikit-learn's \n",
    "<a href=\"https://scikit-learn.org/stable/modules/cross_validation.html\" target=\"_top\"><b>cross-validation modules</b></a>\n",
    "we are able to split our dataset for training and testing purposes. "
   ]
  },
  {
   "cell_type": "code",
   "execution_count": 6,
   "metadata": {},
   "outputs": [
    {
     "name": "stdout",
     "output_type": "stream",
     "text": [
      "Training Set \n",
      "   - Data Shape: (7903, 39) \n",
      "   - Target Shape: (7903,)\n",
      "\n",
      "Testing Set \n",
      "   - Data Shape: (1976, 39) \n",
      "   - Target Shape: (1976,)\n"
     ]
    }
   ],
   "source": [
    "from sklearn.model_selection import train_test_split\n",
    "\n",
    "# Divide the data: 80% Training & 20% Testing.  \n",
    "X_train, X_test, y_train, y_test = train_test_split(X, y, train_size=0.8, test_size=0.2, random_state=0)\n",
    "\n",
    "print(\"Training Set\", \"\\n   - Data Shape:\",X_train.shape,\"\\n   - Target Shape:\",y_train.shape)\n",
    "print(\"\\nTesting Set\",\"\\n   - Data Shape:\",X_test.shape ,\"\\n   - Target Shape:\",y_test.shape)"
   ]
  },
  {
   "cell_type": "markdown",
   "metadata": {},
   "source": [
    "-------------------\n",
    "\n",
    "We perform a split within our dataset: 80% will be used for training, and 20% for testing. The 80/20 split is appropriate for\n",
    "the dataset because recall that the end goal is for users to be able to determine the probabilities of them winning their\n",
    "on-going game, or in other words we will only be predicting the win probability of __ONE__ game.\n",
    "\n",
    "Additionally if a 90/10 split was applied it would also be appropriate to use as well. With League of Legends being a\n",
    "strategy based game, our prediction algorithm essentially uses the training data to find which combination of \n",
    "objectives/attributes have the biggest impact/correlation withing winning games. These game winning objectives/attributes could\n",
    "be found quite early on during training, but we need to account that these objectives/attributes can be wrong in certain\n",
    "instances due to the fact of the dataset only containing attributes for the first 10 minutes. So as the size of the training\n",
    "set increases, the amount of fine-tunning performed increases, thus rendering a higher accuracy when predicting through the\n",
    "testing dataset. "
   ]
  },
  {
   "cell_type": "markdown",
   "metadata": {},
   "source": [
    "\n",
    "--------------------\n",
    "\n",
    "## 2. Modeling\n",
    "\n",
    "### 2.1 Custom Logistic Regression Classifier [50 points]"
   ]
  },
  {
   "cell_type": "code",
   "execution_count": 7,
   "metadata": {},
   "outputs": [],
   "source": [
    "# Create a custom, one-versus-all logistic regression classifier using numpy & scipy to optimize.\n",
    "# - Use OOConventions identical to scikit-learn.\n",
    "# - Start w/ the template developed in class.\n",
    "# - Add the following functionality to the logistic regression classifier:\n",
    "#      - Ability to choose optimization technique when class is instantiated between either: \n",
    "#            - steepest descent,\n",
    "#            - stochastic gradient descent,\n",
    "#            - Newton's method.\n",
    "#      - Update the gradient calculation to include a customizable regularization term\n",
    "#        (either : no regularization, L1 regularization, L2 regularization, or both L1 & L2 regularization).\n",
    "#        Associate a cost with the regularization term, \"C\", that can be adjusted when the class is instantiated. "
   ]
  },
  {
   "cell_type": "markdown",
   "metadata": {},
   "source": [
    "\n",
    "----------------------\n",
    "\n",
    "### 2.2 Custom Classifier Training [65 points]\n"
   ]
  },
  {
   "cell_type": "code",
   "execution_count": 8,
   "metadata": {},
   "outputs": [],
   "source": [
    " # Train my classifier to achieve good generalization performance.\n",
    "    \n",
    " # That is, adjust the optimization technique & the value of the regularization term \"C\" to achieve the best\n",
    " # performance on my test set."
   ]
  },
  {
   "cell_type": "code",
   "execution_count": 9,
   "metadata": {},
   "outputs": [],
   "source": [
    "\n",
    "# Visualize the performance of the classifier versus the parameters you investigated.\n"
   ]
  },
  {
   "cell_type": "markdown",
   "metadata": {},
   "source": [
    "\n",
    "- Is my method of selecting parameters justified?\n",
    "- That is, do I think there is any \"data snooping\" involved w/ this method of selecting parameters?"
   ]
  },
  {
   "cell_type": "markdown",
   "metadata": {},
   "source": [
    "\n",
    "------------------------------\n",
    "\n",
    "### 2.3 Comparing Classifier Performance [80 Points]\n",
    "\n",
    "- Compare the performance of your \"best\" logistic regression optimization procedure to the procedure used in scikit-learn."
   ]
  },
  {
   "cell_type": "code",
   "execution_count": 10,
   "metadata": {},
   "outputs": [],
   "source": [
    " \n",
    "# Visualize the performance differences in terms of training time and classification performance.\n",
    "    "
   ]
  },
  {
   "cell_type": "markdown",
   "metadata": {},
   "source": [
    "\n",
    "- Discuss the results.\n"
   ]
  },
  {
   "cell_type": "markdown",
   "metadata": {},
   "source": [
    "\n",
    "------------------------\n",
    "\n",
    "## 3. Deployment [90 points]\n",
    "- Which implementation of logistic regression would I advise be used in a deployed machine learning model, my implementation or scikit-learn (or other third party)? Why?"
   ]
  },
  {
   "cell_type": "markdown",
   "metadata": {
    "pycharm": {
     "name": "#%% md\n"
    }
   },
   "source": [
    "\n",
    "----------------------------\n",
    "\n",
    "### 4. Logistic Regression Optimization [100 points]"
   ]
  },
  {
   "cell_type": "code",
   "execution_count": 11,
   "metadata": {},
   "outputs": [],
   "source": [
    "# Idea 1: Update the code to use either \"one-versus-all\" or \"one-versus-one\" extensions of binary to multi-class\n",
    "#         classification.\n",
    "# Idea 2: Implement an optimization technique for logistic regression using MSE as my obj func (instead of binary entropy).\n",
    "#         My solution should be able to solve the binary logistic regression problem in one update step. "
   ]
  },
  {
   "cell_type": "markdown",
   "metadata": {
    "pycharm": {
     "name": "#%%\n"
    }
   },
   "source": [
    "\n",
    "---------------------\n",
    "\n",
    "#### References\n",
    "\n",
    "\n",
    "Kaggle. League of Legends Diamond Ranked Games (First 10 Minutes).\n",
    "https://www.kaggle.com/bobbyscience/league-of-legends-diamond-ranked-games-10-min (Accessed 9-10-2020)\n",
    "\n",
    "Scikit-learn. Cross-validation. https://scikit-learn.org/stable/modules/cross_validation.html (Accessed 10-10-2020)\n"
   ]
  }
 ],
 "metadata": {
  "kernelspec": {
   "display_name": "Python 3",
   "language": "python",
   "name": "python3"
  },
  "language_info": {
   "codemirror_mode": {
    "name": "ipython",
    "version": 3
   },
   "file_extension": ".py",
   "mimetype": "text/x-python",
   "name": "python",
   "nbconvert_exporter": "python",
   "pygments_lexer": "ipython3",
   "version": "3.8.3"
  }
 },
 "nbformat": 4,
 "nbformat_minor": 1
}
