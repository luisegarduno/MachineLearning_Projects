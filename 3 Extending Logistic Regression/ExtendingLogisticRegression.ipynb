{
 "cells": [
  {
   "cell_type": "markdown",
   "source": [
    "## Lab Assignment Three: Extending Logistic Regression\n",
    "\n",
    "#### Luis Garduno\n",
    "\n",
    "### 1. Overview & Preparation\n",
    "\n",
    "Explain Here\n",
    "\n",
    "-------------------------------------\n",
    "Dataset :\n",
    "\n",
    "Question Of Interest :\n",
    "\n",
    "### 2. Modeling\n",
    "### 3. Deployment\n",
    "### 4. Logistic Regression Optimization\n",
    "#### Reference"
   ],
   "metadata": {
    "collapsed": false
   }
  },
  {
   "cell_type": "code",
   "execution_count": null,
   "outputs": [],
   "source": [
    "\n"
   ],
   "metadata": {
    "collapsed": false,
    "pycharm": {
     "name": "#%%\n"
    }
   }
  }
 ],
 "metadata": {
  "kernelspec": {
   "display_name": "Python 3",
   "language": "python",
   "name": "python3"
  },
  "language_info": {
   "codemirror_mode": {
    "name": "ipython",
    "version": 2
   },
   "file_extension": ".py",
   "mimetype": "text/x-python",
   "name": "python",
   "nbconvert_exporter": "python",
   "pygments_lexer": "ipython2",
   "version": "2.7.6"
  }
 },
 "nbformat": 4,
 "nbformat_minor": 0
}