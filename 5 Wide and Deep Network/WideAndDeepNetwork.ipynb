{
 "cells": [
  {
   "cell_type": "markdown",
   "metadata": {},
   "source": [
    "## Lab Assignment Five: Wide and Deep Network\n",
    "\n",
    "### Luis Garduno\n",
    "\n",
    "#### &nbsp;&nbsp;&nbsp;&nbsp;&nbsp;&nbsp; - Brief Business Understanding\n",
    "\n",
    "#### <ins>`About League of Legends`<ins>\n",
    "\n",
    "Developed by Riot Studios, League of Legends, or \"LoL\", is an online multiplayer\n",
    "video-game that is available to Windows/MacOS users. LoL consists 2 teams ('Blue\n",
    "&amp; 'Red') facing each other, where the main objective is to destroy the opposing\n",
    "teams 'Nexus', or home base, while facing obstacles like destroying damage dealing\n",
    "towers &amp; eliminating players throughout the way. Perks &amp; gold are able to be\n",
    "obtained by players/teams through completing tasks such as eliminating players,\n",
    "enemy creeps, or dragons. Players then spend the gold to purchase items that help\n",
    "raise the power of their abilities.\n",
    "\n",
    "League of Legends offers different game modes, such as ranked. In this game mode,\n",
    "players are given a rank based off of the number of wins + the number of games\n",
    "played. \"Diamond\" is one of the highest ranks a player may obtain and is known\n",
    "to be extremely competitive. A ranked game on average lasts 30-45 minutes. The\n",
    "dataset we will be using contains the first 10 minute analytics of each team\n",
    "for different diamond ranked matches.\n",
    "\n",
    "#### <ins>`Measure of Success`<ins>\n",
    "\n",
    "Once the data is analyzed, third parties, or teams/players, would be able to conceptualize the level\n",
    "of priority different attributes have during early stages of diamond ranked matches. With the first\n",
    "ten minutes of each game being critical, they could then use this information to adjust their strategy\n",
    "to one proven to win matches. In order for this data to be useful and trusted by third parties in\n",
    "specific situations such as playing at professional level, the data would have to render at least a 80%\n",
    "accuracy. The reason for it being 80% and not any higher is because as mentioned this data only include\n",
    "the first 10 minutes of a game (average full game: 30-45 minutes). We leave a 20% error gap for any\n",
    "changes of pace the winning team might have for the remaining time of the game (~67%).\n",
    "\n",
    "Additionally, players who are accustomed to playing as the 'jungle' role (a player\n",
    "role that focuses on obtaining objective eliminations within the jungle areas of\n",
    "the map) can use this analyzed data to better understand the impact elite monsters\n",
    "have on winning games.\n",
    "\n",
    "-------------------------------------\n",
    "\n",
    "Dataset [Kaggle]: <a href=\"https://www.kaggle.com/bobbyscience/league-of-legends-diamond-ranked-games-10-min\" target=\"_top\"><b>First 10 minutes of diamond ranked League of Legends matches</b></a>\n",
    "\n",
    "Question Of Interest : As of the first 10 minutes, which team will win?\n",
    "\n",
    "## 1. Preparation\n",
    "\n",
    "### &nbsp;&nbsp;&nbsp;&nbsp;&nbsp;&nbsp; 1.1 Loading Data & Adjustments\n",
    "\n",
    "#### &nbsp;&nbsp;&nbsp;&nbsp;&nbsp;&nbsp;&nbsp;&nbsp; 1.1.1 Data Description"
   ]
  },
  {
   "cell_type": "code",
   "execution_count": 1,
   "metadata": {},
   "outputs": [
    {
     "name": "stdout",
     "output_type": "stream",
     "text": [
      "<class 'pandas.core.frame.DataFrame'>\n",
      "RangeIndex: 9879 entries, 0 to 9878\n",
      "Data columns (total 40 columns):\n",
      " #   Column                        Non-Null Count  Dtype  \n",
      "---  ------                        --------------  -----  \n",
      " 0   gameId                        9879 non-null   int64  \n",
      " 1   blueWins                      9879 non-null   int64  \n",
      " 2   blueWardsPlaced               9879 non-null   int64  \n",
      " 3   blueWardsDestroyed            9879 non-null   int64  \n",
      " 4   blueFirstBlood                9879 non-null   int64  \n",
      " 5   blueKills                     9879 non-null   int64  \n",
      " 6   blueDeaths                    9879 non-null   int64  \n",
      " 7   blueAssists                   9879 non-null   int64  \n",
      " 8   blueEliteMonsters             9879 non-null   int64  \n",
      " 9   blueDragons                   9879 non-null   int64  \n",
      " 10  blueHeralds                   9879 non-null   int64  \n",
      " 11  blueTowersDestroyed           9879 non-null   int64  \n",
      " 12  blueTotalGold                 9879 non-null   int64  \n",
      " 13  blueAvgLevel                  9879 non-null   float64\n",
      " 14  blueTotalExperience           9879 non-null   int64  \n",
      " 15  blueTotalMinionsKilled        9879 non-null   int64  \n",
      " 16  blueTotalJungleMinionsKilled  9879 non-null   int64  \n",
      " 17  blueGoldDiff                  9879 non-null   int64  \n",
      " 18  blueExperienceDiff            9879 non-null   int64  \n",
      " 19  blueCSPerMin                  9879 non-null   float64\n",
      " 20  blueGoldPerMin                9879 non-null   float64\n",
      " 21  redWardsPlaced                9879 non-null   int64  \n",
      " 22  redWardsDestroyed             9879 non-null   int64  \n",
      " 23  redFirstBlood                 9879 non-null   int64  \n",
      " 24  redKills                      9879 non-null   int64  \n",
      " 25  redDeaths                     9879 non-null   int64  \n",
      " 26  redAssists                    9879 non-null   int64  \n",
      " 27  redEliteMonsters              9879 non-null   int64  \n",
      " 28  redDragons                    9879 non-null   int64  \n",
      " 29  redHeralds                    9879 non-null   int64  \n",
      " 30  redTowersDestroyed            9879 non-null   int64  \n",
      " 31  redTotalGold                  9879 non-null   int64  \n",
      " 32  redAvgLevel                   9879 non-null   float64\n",
      " 33  redTotalExperience            9879 non-null   int64  \n",
      " 34  redTotalMinionsKilled         9879 non-null   int64  \n",
      " 35  redTotalJungleMinionsKilled   9879 non-null   int64  \n",
      " 36  redGoldDiff                   9879 non-null   int64  \n",
      " 37  redExperienceDiff             9879 non-null   int64  \n",
      " 38  redCSPerMin                   9879 non-null   float64\n",
      " 39  redGoldPerMin                 9879 non-null   float64\n",
      "dtypes: float64(6), int64(34)\n",
      "memory usage: 3.0 MB\n"
     ]
    }
   ],
   "source": [
    "import numpy as np\n",
    "import pandas as pd\n",
    "\n",
    "# Load in the dataset into dataframe\n",
    "df = pd.read_csv('https://raw.githubusercontent.com/luisegarduno/MachineLearning_Projects/master/Datasets/high_diamond_ranked_10min.csv')\n",
    "\n",
    "df.info()"
   ]
  },
  {
   "cell_type": "markdown",
   "metadata": {},
   "source": [
    "---------------------------------\n",
    "\n",
    "Printing out the information about the dataframe we are able to see that there are a\n",
    "total of 9,879 instances, and 39 attributes.\n",
    "\n",
    "Additionally we are able to see that there are 19 of the same attributes for each\n",
    "the blue & red team (columns 1-19 are the same as 20-38).\n",
    "\n",
    "Attributes for each team includes :\n",
    "- Wards placed & destroyed\n",
    "- Total number of kills, deaths, & assists\n",
    "- First Bloods (1st elimination of the game)\n",
    "- Total : towers destroyed, gold, experience\n",
    "- Average : level, CS per minute, & gold per minute\n",
    "- Difference in gold & experience between the teams\n",
    "- Objective eliminations : elite monsters(dragons, heralds), minions, & jungle minions\n",
    "\n",
    "Attributes such as total gold, experience, objectives eliminations, towers destroyed, etc.\n",
    "will be of type integer (int64) because they will always be whole numbers. Attributes involving\n",
    "averages such as cs per minute, gold per minute, & level, should be the only of double-precision floating-point\n",
    "format (float64).\n",
    "\n",
    "The data type for \"blueWins\" and \"first bloods\" could be changed to be of type boolean, but because we are wanting to\n",
    "visualize these attributes later on, optimally it is best to keep these as integer data types. As a result,\n",
    "the data types presented for each attribute are correct and should not be changed.\n",
    "\n",
    "Below is a brief description of some of the key attributes."
   ]
  },
  {
   "cell_type": "code",
   "execution_count": 2,
   "metadata": {
    "pycharm": {
     "name": "#%%\n"
    }
   },
   "outputs": [
    {
     "data": {
      "text/html": [
       "<div>\n",
       "<style scoped>\n",
       "    .dataframe tbody tr th:only-of-type {\n",
       "        vertical-align: middle;\n",
       "    }\n",
       "\n",
       "    .dataframe tbody tr th {\n",
       "        vertical-align: top;\n",
       "    }\n",
       "\n",
       "    .dataframe thead th {\n",
       "        text-align: right;\n",
       "    }\n",
       "</style>\n",
       "<table border=\"1\" class=\"dataframe\">\n",
       "  <thead>\n",
       "    <tr style=\"text-align: right;\">\n",
       "      <th></th>\n",
       "      <th>gameId</th>\n",
       "      <th>blueWins</th>\n",
       "      <th>blueWardsPlaced</th>\n",
       "      <th>blueWardsDestroyed</th>\n",
       "      <th>blueFirstBlood</th>\n",
       "      <th>blueKills</th>\n",
       "      <th>blueDeaths</th>\n",
       "      <th>blueAssists</th>\n",
       "      <th>blueEliteMonsters</th>\n",
       "      <th>blueDragons</th>\n",
       "      <th>...</th>\n",
       "      <th>redAvgLevel</th>\n",
       "      <th>redTotalExperience</th>\n",
       "      <th>redTotalMinionsKilled</th>\n",
       "      <th>redTotalJungleMinionsKilled</th>\n",
       "      <th>redGoldDiff</th>\n",
       "      <th>redExperienceDiff</th>\n",
       "      <th>redCSPerMin</th>\n",
       "      <th>redGoldPerMin</th>\n",
       "      <th>blueVisionScore</th>\n",
       "      <th>redVisionScore</th>\n",
       "    </tr>\n",
       "  </thead>\n",
       "  <tbody>\n",
       "    <tr>\n",
       "      <th>count</th>\n",
       "      <td>9.879000e+03</td>\n",
       "      <td>9879.000000</td>\n",
       "      <td>9879.000000</td>\n",
       "      <td>9879.000000</td>\n",
       "      <td>9879.000000</td>\n",
       "      <td>9879.000000</td>\n",
       "      <td>9879.000000</td>\n",
       "      <td>9879.000000</td>\n",
       "      <td>9879.000000</td>\n",
       "      <td>9879.000000</td>\n",
       "      <td>...</td>\n",
       "      <td>9879.000000</td>\n",
       "      <td>9879.000000</td>\n",
       "      <td>9879.000000</td>\n",
       "      <td>9879.000000</td>\n",
       "      <td>9879.000000</td>\n",
       "      <td>9879.000000</td>\n",
       "      <td>9879.000000</td>\n",
       "      <td>9879.000000</td>\n",
       "      <td>9879.000000</td>\n",
       "      <td>9879.000000</td>\n",
       "    </tr>\n",
       "    <tr>\n",
       "      <th>mean</th>\n",
       "      <td>4.500084e+09</td>\n",
       "      <td>0.499038</td>\n",
       "      <td>22.288288</td>\n",
       "      <td>2.824881</td>\n",
       "      <td>0.504808</td>\n",
       "      <td>6.183925</td>\n",
       "      <td>6.137666</td>\n",
       "      <td>6.645106</td>\n",
       "      <td>0.549954</td>\n",
       "      <td>0.361980</td>\n",
       "      <td>...</td>\n",
       "      <td>6.925316</td>\n",
       "      <td>17961.730438</td>\n",
       "      <td>217.349226</td>\n",
       "      <td>51.313088</td>\n",
       "      <td>-14.414111</td>\n",
       "      <td>33.620306</td>\n",
       "      <td>21.734923</td>\n",
       "      <td>1648.904140</td>\n",
       "      <td>3.855147</td>\n",
       "      <td>3.897763</td>\n",
       "    </tr>\n",
       "    <tr>\n",
       "      <th>std</th>\n",
       "      <td>2.757328e+07</td>\n",
       "      <td>0.500024</td>\n",
       "      <td>18.019177</td>\n",
       "      <td>2.174998</td>\n",
       "      <td>0.500002</td>\n",
       "      <td>3.011028</td>\n",
       "      <td>2.933818</td>\n",
       "      <td>4.064520</td>\n",
       "      <td>0.625527</td>\n",
       "      <td>0.480597</td>\n",
       "      <td>...</td>\n",
       "      <td>0.305311</td>\n",
       "      <td>1198.583912</td>\n",
       "      <td>21.911668</td>\n",
       "      <td>10.027885</td>\n",
       "      <td>2453.349179</td>\n",
       "      <td>1920.370438</td>\n",
       "      <td>2.191167</td>\n",
       "      <td>149.088841</td>\n",
       "      <td>2.912674</td>\n",
       "      <td>2.904060</td>\n",
       "    </tr>\n",
       "    <tr>\n",
       "      <th>min</th>\n",
       "      <td>4.295358e+09</td>\n",
       "      <td>0.000000</td>\n",
       "      <td>5.000000</td>\n",
       "      <td>0.000000</td>\n",
       "      <td>0.000000</td>\n",
       "      <td>0.000000</td>\n",
       "      <td>0.000000</td>\n",
       "      <td>0.000000</td>\n",
       "      <td>0.000000</td>\n",
       "      <td>0.000000</td>\n",
       "      <td>...</td>\n",
       "      <td>4.800000</td>\n",
       "      <td>10465.000000</td>\n",
       "      <td>107.000000</td>\n",
       "      <td>4.000000</td>\n",
       "      <td>-11467.000000</td>\n",
       "      <td>-8348.000000</td>\n",
       "      <td>10.700000</td>\n",
       "      <td>1121.200000</td>\n",
       "      <td>0.000000</td>\n",
       "      <td>0.000000</td>\n",
       "    </tr>\n",
       "    <tr>\n",
       "      <th>25%</th>\n",
       "      <td>4.483301e+09</td>\n",
       "      <td>0.000000</td>\n",
       "      <td>14.000000</td>\n",
       "      <td>1.000000</td>\n",
       "      <td>0.000000</td>\n",
       "      <td>4.000000</td>\n",
       "      <td>4.000000</td>\n",
       "      <td>4.000000</td>\n",
       "      <td>0.000000</td>\n",
       "      <td>0.000000</td>\n",
       "      <td>...</td>\n",
       "      <td>6.800000</td>\n",
       "      <td>17209.500000</td>\n",
       "      <td>203.000000</td>\n",
       "      <td>44.000000</td>\n",
       "      <td>-1596.000000</td>\n",
       "      <td>-1212.000000</td>\n",
       "      <td>20.300000</td>\n",
       "      <td>1542.750000</td>\n",
       "      <td>1.000000</td>\n",
       "      <td>1.000000</td>\n",
       "    </tr>\n",
       "    <tr>\n",
       "      <th>50%</th>\n",
       "      <td>4.510920e+09</td>\n",
       "      <td>0.000000</td>\n",
       "      <td>16.000000</td>\n",
       "      <td>3.000000</td>\n",
       "      <td>1.000000</td>\n",
       "      <td>6.000000</td>\n",
       "      <td>6.000000</td>\n",
       "      <td>6.000000</td>\n",
       "      <td>0.000000</td>\n",
       "      <td>0.000000</td>\n",
       "      <td>...</td>\n",
       "      <td>7.000000</td>\n",
       "      <td>17974.000000</td>\n",
       "      <td>218.000000</td>\n",
       "      <td>51.000000</td>\n",
       "      <td>-14.000000</td>\n",
       "      <td>28.000000</td>\n",
       "      <td>21.800000</td>\n",
       "      <td>1637.800000</td>\n",
       "      <td>4.000000</td>\n",
       "      <td>4.000000</td>\n",
       "    </tr>\n",
       "    <tr>\n",
       "      <th>75%</th>\n",
       "      <td>4.521733e+09</td>\n",
       "      <td>1.000000</td>\n",
       "      <td>20.000000</td>\n",
       "      <td>4.000000</td>\n",
       "      <td>1.000000</td>\n",
       "      <td>8.000000</td>\n",
       "      <td>8.000000</td>\n",
       "      <td>9.000000</td>\n",
       "      <td>1.000000</td>\n",
       "      <td>1.000000</td>\n",
       "      <td>...</td>\n",
       "      <td>7.200000</td>\n",
       "      <td>18764.500000</td>\n",
       "      <td>233.000000</td>\n",
       "      <td>57.000000</td>\n",
       "      <td>1585.500000</td>\n",
       "      <td>1290.500000</td>\n",
       "      <td>23.300000</td>\n",
       "      <td>1741.850000</td>\n",
       "      <td>6.000000</td>\n",
       "      <td>6.000000</td>\n",
       "    </tr>\n",
       "    <tr>\n",
       "      <th>max</th>\n",
       "      <td>4.527991e+09</td>\n",
       "      <td>1.000000</td>\n",
       "      <td>250.000000</td>\n",
       "      <td>27.000000</td>\n",
       "      <td>1.000000</td>\n",
       "      <td>22.000000</td>\n",
       "      <td>22.000000</td>\n",
       "      <td>29.000000</td>\n",
       "      <td>2.000000</td>\n",
       "      <td>1.000000</td>\n",
       "      <td>...</td>\n",
       "      <td>8.200000</td>\n",
       "      <td>22269.000000</td>\n",
       "      <td>289.000000</td>\n",
       "      <td>92.000000</td>\n",
       "      <td>10830.000000</td>\n",
       "      <td>9333.000000</td>\n",
       "      <td>28.900000</td>\n",
       "      <td>2273.200000</td>\n",
       "      <td>9.000000</td>\n",
       "      <td>9.000000</td>\n",
       "    </tr>\n",
       "  </tbody>\n",
       "</table>\n",
       "<p>8 rows × 42 columns</p>\n",
       "</div>"
      ],
      "text/plain": [
       "             gameId     blueWins  blueWardsPlaced  blueWardsDestroyed  \\\n",
       "count  9.879000e+03  9879.000000      9879.000000         9879.000000   \n",
       "mean   4.500084e+09     0.499038        22.288288            2.824881   \n",
       "std    2.757328e+07     0.500024        18.019177            2.174998   \n",
       "min    4.295358e+09     0.000000         5.000000            0.000000   \n",
       "25%    4.483301e+09     0.000000        14.000000            1.000000   \n",
       "50%    4.510920e+09     0.000000        16.000000            3.000000   \n",
       "75%    4.521733e+09     1.000000        20.000000            4.000000   \n",
       "max    4.527991e+09     1.000000       250.000000           27.000000   \n",
       "\n",
       "       blueFirstBlood    blueKills   blueDeaths  blueAssists  \\\n",
       "count     9879.000000  9879.000000  9879.000000  9879.000000   \n",
       "mean         0.504808     6.183925     6.137666     6.645106   \n",
       "std          0.500002     3.011028     2.933818     4.064520   \n",
       "min          0.000000     0.000000     0.000000     0.000000   \n",
       "25%          0.000000     4.000000     4.000000     4.000000   \n",
       "50%          1.000000     6.000000     6.000000     6.000000   \n",
       "75%          1.000000     8.000000     8.000000     9.000000   \n",
       "max          1.000000    22.000000    22.000000    29.000000   \n",
       "\n",
       "       blueEliteMonsters  blueDragons  ...  redAvgLevel  redTotalExperience  \\\n",
       "count        9879.000000  9879.000000  ...  9879.000000         9879.000000   \n",
       "mean            0.549954     0.361980  ...     6.925316        17961.730438   \n",
       "std             0.625527     0.480597  ...     0.305311         1198.583912   \n",
       "min             0.000000     0.000000  ...     4.800000        10465.000000   \n",
       "25%             0.000000     0.000000  ...     6.800000        17209.500000   \n",
       "50%             0.000000     0.000000  ...     7.000000        17974.000000   \n",
       "75%             1.000000     1.000000  ...     7.200000        18764.500000   \n",
       "max             2.000000     1.000000  ...     8.200000        22269.000000   \n",
       "\n",
       "       redTotalMinionsKilled  redTotalJungleMinionsKilled   redGoldDiff  \\\n",
       "count            9879.000000                  9879.000000   9879.000000   \n",
       "mean              217.349226                    51.313088    -14.414111   \n",
       "std                21.911668                    10.027885   2453.349179   \n",
       "min               107.000000                     4.000000 -11467.000000   \n",
       "25%               203.000000                    44.000000  -1596.000000   \n",
       "50%               218.000000                    51.000000    -14.000000   \n",
       "75%               233.000000                    57.000000   1585.500000   \n",
       "max               289.000000                    92.000000  10830.000000   \n",
       "\n",
       "       redExperienceDiff  redCSPerMin  redGoldPerMin  blueVisionScore  \\\n",
       "count        9879.000000  9879.000000    9879.000000      9879.000000   \n",
       "mean           33.620306    21.734923    1648.904140         3.855147   \n",
       "std          1920.370438     2.191167     149.088841         2.912674   \n",
       "min         -8348.000000    10.700000    1121.200000         0.000000   \n",
       "25%         -1212.000000    20.300000    1542.750000         1.000000   \n",
       "50%            28.000000    21.800000    1637.800000         4.000000   \n",
       "75%          1290.500000    23.300000    1741.850000         6.000000   \n",
       "max          9333.000000    28.900000    2273.200000         9.000000   \n",
       "\n",
       "       redVisionScore  \n",
       "count     9879.000000  \n",
       "mean         3.897763  \n",
       "std          2.904060  \n",
       "min          0.000000  \n",
       "25%          1.000000  \n",
       "50%          4.000000  \n",
       "75%          6.000000  \n",
       "max          9.000000  \n",
       "\n",
       "[8 rows x 42 columns]"
      ]
     },
     "execution_count": 2,
     "metadata": {},
     "output_type": "execute_result"
    }
   ],
   "source": [
    "import seaborn as sns\n",
    "import matplotlib.pyplot as plt\n",
    "%matplotlib inline\n",
    "\n",
    "df['blueVisionScore'] = (df['blueWardsPlaced'].values * df['blueWardsDestroyed'].values) % 10\n",
    "df['redVisionScore'] = (df['redWardsPlaced'].values * df['redWardsDestroyed'].values) % 10\n",
    "\n",
    "# Describe dataframe\n",
    "df.describe()"
   ]
  },
  {
   "cell_type": "code",
   "execution_count": 3,
   "metadata": {},
   "outputs": [
    {
     "data": {
      "text/html": [
       "<div>\n",
       "<style scoped>\n",
       "    .dataframe tbody tr th:only-of-type {\n",
       "        vertical-align: middle;\n",
       "    }\n",
       "\n",
       "    .dataframe tbody tr th {\n",
       "        vertical-align: top;\n",
       "    }\n",
       "\n",
       "    .dataframe thead th {\n",
       "        text-align: right;\n",
       "    }\n",
       "</style>\n",
       "<table border=\"1\" class=\"dataframe\">\n",
       "  <thead>\n",
       "    <tr style=\"text-align: right;\">\n",
       "      <th></th>\n",
       "      <th>Task</th>\n",
       "      <th>RedTeam</th>\n",
       "      <th>BlueTeam</th>\n",
       "    </tr>\n",
       "  </thead>\n",
       "  <tbody>\n",
       "    <tr>\n",
       "      <th>0</th>\n",
       "      <td>Max Dragon Kills</td>\n",
       "      <td>1</td>\n",
       "      <td>1</td>\n",
       "    </tr>\n",
       "    <tr>\n",
       "      <th>1</th>\n",
       "      <td>Max Herald Kills</td>\n",
       "      <td>1</td>\n",
       "      <td>1</td>\n",
       "    </tr>\n",
       "    <tr>\n",
       "      <th>2</th>\n",
       "      <td>Max Elite Monster Kills</td>\n",
       "      <td>2</td>\n",
       "      <td>2</td>\n",
       "    </tr>\n",
       "  </tbody>\n",
       "</table>\n",
       "</div>"
      ],
      "text/plain": [
       "                      Task  RedTeam  BlueTeam\n",
       "0         Max Dragon Kills        1         1\n",
       "1         Max Herald Kills        1         1\n",
       "2  Max Elite Monster Kills        2         2"
      ]
     },
     "execution_count": 3,
     "metadata": {},
     "output_type": "execute_result"
    }
   ],
   "source": [
    "obj_kills = pd.DataFrame({'Task' : ['Max Dragon Kills', 'Max Herald Kills', 'Max Elite Monster Kills']})\n",
    "obj_kills['RedTeam'] = [df.redDragons.max(), df.redHeralds.max(), df.redEliteMonsters.max()] \n",
    "obj_kills['BlueTeam'] = [df.blueDragons.max(), df.blueHeralds.max(), df.blueEliteMonsters.max()] \n",
    "\n",
    "obj_kills"
   ]
  },
  {
   "cell_type": "markdown",
   "metadata": {},
   "source": [
    "After viewing the max values for these 3 variables, we see that it is unlikely for either team to kill more than 1 dragon or herald within the span of the first 10 minutes. So although both of these are technically numeric variables, we can model them to be categorical variables, so that we can use them as a boolean to answer the question of whether or not a team killed a dragon/herald:\n",
    "- 0 = False, Team did not kill a dragon/herald\n",
    "- 1 = True, Team killed a dragon/herald \n",
    "\n",
    "We leave _'EliteMonsterKills'_ to be a numeric type variable."
   ]
  },
  {
   "cell_type": "markdown",
   "metadata": {
    "pycharm": {
     "name": "#%% md\n"
    }
   },
   "source": [
    "| Variable | Description | Type | Range |\n",
    "| -------- | ----------- | ---- | ----- |\n",
    "| **blueWins** (target) | whether blue team won or not | Discrete | [0] red team won; [1] blue team won; |\n",
    "| WardsPlaced / WardsDestroyed | number of total wards placed or destroyed by team | Continuous | [placed] 5 - 250; [destroyed] 0 - 27 |\n",
    "| FirstBlood | team with the first kill of game | Discrete | [0] did not get first kill; [1] team obtained first kill |\n",
    "| Kills / Deaths / Assists | total number of kills, deaths, or assists of team | Continuous | [kills] 0 - 22; [deaths] 0 - 22; [assists] 0 - 29 |\n",
    "| TowersDestroyed | total number of towers destroyed by team | Continuous | 0 - 2 |\n",
    "| TotalGold | total gold obtained by team | Continuous | 11,000 - 25,000 |\n",
    "| AvgLevel | average level of all players on team | Continuous | 4.5 - 8.5 |\n",
    "| TotalExperience | total experience points accumulated by team | Continuous | 10,000 - 24,000 |\n",
    "| CSPerMin | average creep score per minute | Continuous | 10.0 - 30.0 |\n",
    "| GoldPerMin | average gold obtained per minute | Continuous | 1,100.0 - 2,000.0 |\n",
    "\n",
    "\n",
    "#### &nbsp;&nbsp;&nbsp;&nbsp;&nbsp;&nbsp;&nbsp;&nbsp; 1.1.2 Normalizing the Dataset"
   ]
  },
  {
   "cell_type": "code",
   "execution_count": 4,
   "metadata": {
    "pycharm": {
     "name": "#%%\n"
    }
   },
   "outputs": [
    {
     "data": {
      "text/html": [
       "<div>\n",
       "<style scoped>\n",
       "    .dataframe tbody tr th:only-of-type {\n",
       "        vertical-align: middle;\n",
       "    }\n",
       "\n",
       "    .dataframe tbody tr th {\n",
       "        vertical-align: top;\n",
       "    }\n",
       "\n",
       "    .dataframe thead th {\n",
       "        text-align: right;\n",
       "    }\n",
       "</style>\n",
       "<table border=\"1\" class=\"dataframe\">\n",
       "  <thead>\n",
       "    <tr style=\"text-align: right;\">\n",
       "      <th></th>\n",
       "      <th>gameId</th>\n",
       "      <th>blueWins</th>\n",
       "      <th>blueWardsPlaced</th>\n",
       "      <th>blueWardsDestroyed</th>\n",
       "      <th>blueFirstBlood</th>\n",
       "      <th>blueKills</th>\n",
       "      <th>blueDeaths</th>\n",
       "      <th>blueAssists</th>\n",
       "      <th>blueEliteMonsters</th>\n",
       "      <th>blueDragons</th>\n",
       "      <th>...</th>\n",
       "      <th>redCSPerMin</th>\n",
       "      <th>redGoldPerMin</th>\n",
       "      <th>blueVisionScore</th>\n",
       "      <th>redVisionScore</th>\n",
       "      <th>blueFirstBlood_int</th>\n",
       "      <th>redFirstBlood_int</th>\n",
       "      <th>blueDragons_int</th>\n",
       "      <th>blueHeralds_int</th>\n",
       "      <th>redDragons_int</th>\n",
       "      <th>redHeralds_int</th>\n",
       "    </tr>\n",
       "  </thead>\n",
       "  <tbody>\n",
       "    <tr>\n",
       "      <th>0</th>\n",
       "      <td>0.691784</td>\n",
       "      <td>0</td>\n",
       "      <td>0.316996</td>\n",
       "      <td>-0.379275</td>\n",
       "      <td>1</td>\n",
       "      <td>0.935301</td>\n",
       "      <td>-0.046926</td>\n",
       "      <td>1.071495</td>\n",
       "      <td>-0.879231</td>\n",
       "      <td>0</td>\n",
       "      <td>...</td>\n",
       "      <td>-0.928741</td>\n",
       "      <td>0.052293</td>\n",
       "      <td>0.736423</td>\n",
       "      <td>-1.342245</td>\n",
       "      <td>1</td>\n",
       "      <td>0</td>\n",
       "      <td>0</td>\n",
       "      <td>0</td>\n",
       "      <td>0</td>\n",
       "      <td>0</td>\n",
       "    </tr>\n",
       "    <tr>\n",
       "      <th>1</th>\n",
       "      <td>0.844625</td>\n",
       "      <td>0</td>\n",
       "      <td>-0.570992</td>\n",
       "      <td>-0.839069</td>\n",
       "      <td>0</td>\n",
       "      <td>-0.393216</td>\n",
       "      <td>-0.387796</td>\n",
       "      <td>-0.404768</td>\n",
       "      <td>-0.879231</td>\n",
       "      <td>0</td>\n",
       "      <td>...</td>\n",
       "      <td>1.033784</td>\n",
       "      <td>0.758619</td>\n",
       "      <td>-0.636955</td>\n",
       "      <td>-0.653519</td>\n",
       "      <td>0</td>\n",
       "      <td>1</td>\n",
       "      <td>0</td>\n",
       "      <td>0</td>\n",
       "      <td>1</td>\n",
       "      <td>1</td>\n",
       "    </tr>\n",
       "    <tr>\n",
       "      <th>2</th>\n",
       "      <td>0.775808</td>\n",
       "      <td>0</td>\n",
       "      <td>-0.404494</td>\n",
       "      <td>-1.298863</td>\n",
       "      <td>0</td>\n",
       "      <td>0.271042</td>\n",
       "      <td>1.657424</td>\n",
       "      <td>-0.650812</td>\n",
       "      <td>0.719503</td>\n",
       "      <td>1</td>\n",
       "      <td>...</td>\n",
       "      <td>-0.654900</td>\n",
       "      <td>0.533909</td>\n",
       "      <td>-1.323643</td>\n",
       "      <td>0.379570</td>\n",
       "      <td>0</td>\n",
       "      <td>1</td>\n",
       "      <td>1</td>\n",
       "      <td>0</td>\n",
       "      <td>0</td>\n",
       "      <td>0</td>\n",
       "    </tr>\n",
       "    <tr>\n",
       "      <th>3</th>\n",
       "      <td>0.881333</td>\n",
       "      <td>0</td>\n",
       "      <td>1.149484</td>\n",
       "      <td>-0.839069</td>\n",
       "      <td>0</td>\n",
       "      <td>-0.725346</td>\n",
       "      <td>-0.387796</td>\n",
       "      <td>-0.404768</td>\n",
       "      <td>0.719503</td>\n",
       "      <td>0</td>\n",
       "      <td>...</td>\n",
       "      <td>0.805583</td>\n",
       "      <td>-0.007406</td>\n",
       "      <td>-0.293610</td>\n",
       "      <td>-1.342245</td>\n",
       "      <td>0</td>\n",
       "      <td>1</td>\n",
       "      <td>0</td>\n",
       "      <td>1</td>\n",
       "      <td>0</td>\n",
       "      <td>0</td>\n",
       "    </tr>\n",
       "    <tr>\n",
       "      <th>4</th>\n",
       "      <td>-2.323029</td>\n",
       "      <td>0</td>\n",
       "      <td>2.925460</td>\n",
       "      <td>0.540312</td>\n",
       "      <td>0</td>\n",
       "      <td>-0.061087</td>\n",
       "      <td>-0.046926</td>\n",
       "      <td>-0.158724</td>\n",
       "      <td>-0.879231</td>\n",
       "      <td>0</td>\n",
       "      <td>...</td>\n",
       "      <td>0.349182</td>\n",
       "      <td>0.613731</td>\n",
       "      <td>-1.323643</td>\n",
       "      <td>0.035207</td>\n",
       "      <td>0</td>\n",
       "      <td>1</td>\n",
       "      <td>0</td>\n",
       "      <td>0</td>\n",
       "      <td>1</td>\n",
       "      <td>0</td>\n",
       "    </tr>\n",
       "  </tbody>\n",
       "</table>\n",
       "<p>5 rows × 48 columns</p>\n",
       "</div>"
      ],
      "text/plain": [
       "     gameId  blueWins  blueWardsPlaced  blueWardsDestroyed  blueFirstBlood  \\\n",
       "0  0.691784         0         0.316996           -0.379275               1   \n",
       "1  0.844625         0        -0.570992           -0.839069               0   \n",
       "2  0.775808         0        -0.404494           -1.298863               0   \n",
       "3  0.881333         0         1.149484           -0.839069               0   \n",
       "4 -2.323029         0         2.925460            0.540312               0   \n",
       "\n",
       "   blueKills  blueDeaths  blueAssists  blueEliteMonsters  blueDragons  ...  \\\n",
       "0   0.935301   -0.046926     1.071495          -0.879231            0  ...   \n",
       "1  -0.393216   -0.387796    -0.404768          -0.879231            0  ...   \n",
       "2   0.271042    1.657424    -0.650812           0.719503            1  ...   \n",
       "3  -0.725346   -0.387796    -0.404768           0.719503            0  ...   \n",
       "4  -0.061087   -0.046926    -0.158724          -0.879231            0  ...   \n",
       "\n",
       "   redCSPerMin  redGoldPerMin  blueVisionScore  redVisionScore  \\\n",
       "0    -0.928741       0.052293         0.736423       -1.342245   \n",
       "1     1.033784       0.758619        -0.636955       -0.653519   \n",
       "2    -0.654900       0.533909        -1.323643        0.379570   \n",
       "3     0.805583      -0.007406        -0.293610       -1.342245   \n",
       "4     0.349182       0.613731        -1.323643        0.035207   \n",
       "\n",
       "   blueFirstBlood_int  redFirstBlood_int  blueDragons_int  blueHeralds_int  \\\n",
       "0                   1                  0                0                0   \n",
       "1                   0                  1                0                0   \n",
       "2                   0                  1                1                0   \n",
       "3                   0                  1                0                1   \n",
       "4                   0                  1                0                0   \n",
       "\n",
       "   redDragons_int  redHeralds_int  \n",
       "0               0               0  \n",
       "1               1               1  \n",
       "2               0               0  \n",
       "3               0               0  \n",
       "4               1               0  \n",
       "\n",
       "[5 rows x 48 columns]"
      ]
     },
     "execution_count": 4,
     "metadata": {},
     "output_type": "execute_result"
    }
   ],
   "source": [
    "from sklearn.preprocessing import LabelEncoder\n",
    "from sklearn.preprocessing import StandardScaler\n",
    "\n",
    "# --- Scale the Numeric, continuous variables ---\n",
    "numeric_headers = df.drop(['blueWins','blueFirstBlood','redFirstBlood', 'blueDragons', 'blueHeralds', 'redDragons', 'redHeralds'], axis=1)\n",
    "\n",
    "for column in numeric_headers:\n",
    "    df[column] = df[column].astype(np.float)\n",
    "    ss = StandardScaler()\n",
    "    df[column] = ss.fit_transform(df[column].values.reshape(-1, 1))\n",
    "\n",
    "# --- Encode the Categorical, discrete variables ---\n",
    "encoders = dict()\n",
    "categorical_headers = ['blueFirstBlood','redFirstBlood', 'blueDragons', 'blueHeralds', 'redDragons', 'redHeralds']\n",
    "\n",
    "categorical_headers_int = []\n",
    "for col in categorical_headers:\n",
    "    col_name = col + '_int'\n",
    "    encoders[col] = LabelEncoder()\n",
    "    df[col_name] = encoders[col].fit_transform(df[col])\n",
    "    categorical_headers_int.append(col_name)\n",
    "\n",
    "df.head()"
   ]
  },
  {
   "cell_type": "markdown",
   "metadata": {},
   "source": [
    "\n",
    "---------------\n",
    "\n",
    "#### &nbsp;&nbsp;&nbsp;&nbsp;&nbsp;&nbsp;&nbsp;&nbsp; 1.1.3 Data Quality\n",
    "\n",
    "Using the `missingno` package, we are able to additionally confirm that all the data is complete\n",
    "and there is no missing entries with the dataset. If there was missing data, we could impute the\n",
    "missing values by using the k-nearest neighbor. But if an instance was missing a majority of its\n",
    "attributes, it would be removed from the dataset.\n",
    "\n",
    "The number of unique values in the column \"gameId\" is printed to verify that all instances\n",
    "are weighted equally."
   ]
  },
  {
   "cell_type": "code",
   "execution_count": 5,
   "metadata": {
    "pycharm": {
     "name": "#%%\n"
    }
   },
   "outputs": [
    {
     "name": "stdout",
     "output_type": "stream",
     "text": [
      "Number of unique values in column \"gameId\" :  9879\n",
      "Duplicates :  0\n"
     ]
    },
    {
     "data": {
      "image/png": "[encoded data removed]",
      "text/plain": [
       "<Figure size 1800x720 with 2 Axes>"
      ]
     },
     "metadata": {
      "needs_background": "light"
     },
     "output_type": "display_data"
    }
   ],
   "source": [
    "import missingno as mn\n",
    "\n",
    "mn.matrix(df)\n",
    "\n",
    "# Count unique values in column 'gameId' of the dataframe\n",
    "print('Number of unique values in column \"gameId\" : ', df['gameId'].nunique())\n",
    "\n",
    "dup_df = df.replace(to_replace=-1,value=np.nan)\n",
    "\n",
    "dup_df = dup_df.duplicated()\n",
    "print('Duplicates : ', len(df[dup_df]))"
   ]
  },
  {
   "cell_type": "markdown",
   "metadata": {},
   "source": [
    "\n",
    "------------------------------\n",
    "\n",
    "#### &nbsp;&nbsp;&nbsp;&nbsp;&nbsp;&nbsp;&nbsp;&nbsp; 1.1.4 Cleaning the Dataset\n",
    "\n",
    "After confirming there are no duplicates in the data, the \"gameId\" column can be removed since it\n",
    "will have no impact on the results.\n",
    "\n",
    "Using the correlation feature from the `pandas` package, for each team we find the names of\n",
    "attributes that correlate most with winning (correlation >= 7%). The names of these attributes\n",
    "are stored in a array for later use.\n",
    "\n",
    "Lastly, two dataframes are created to hold the attributes at instances when blue team wins, and\n",
    "when blue team loses."
   ]
  },
  {
   "cell_type": "code",
   "execution_count": 6,
   "metadata": {
    "pycharm": {
     "name": "#%%\n"
    }
   },
   "outputs": [],
   "source": [
    "del df['gameId']\n",
    "\n",
    "red_col = df.corr()[df.corr()['blueWins'] <= -0.07].index.values\n",
    "blue_col = df.corr()[df.corr()['blueWins'] >= 0.07].index.values\n",
    "\n",
    "# Create dataframes for the 2 possible outcomes :\n",
    "df_win  = df[df[\"blueWins\"] == 1]     # Blue Team Win  /  Red Team Lost\n",
    "df_lose = df[df[\"blueWins\"] == 0]     # Red Team Win   /  Blue Team Lost"
   ]
  },
  {
   "cell_type": "markdown",
   "metadata": {},
   "source": [
    "\n",
    "### &nbsp;&nbsp;&nbsp;&nbsp;&nbsp;&nbsp; 1.2 Finding & Creating Cross-Product Features"
   ]
  },
  {
   "cell_type": "code",
   "execution_count": 7,
   "metadata": {
    "collapsed": false,
    "jupyter": {
     "outputs_hidden": false
    },
    "pycharm": {
     "name": "#%%\n"
    }
   },
   "outputs": [],
   "source": [
    "cross_columns = [['redFirstBlood', 'redDragons', 'redHeralds'],\n",
    "                 ['blueFirstBlood','blueDragons', 'blueHeralds']]\n",
    "\n",
    "cross_col_df_names = []\n",
    "for col in cross_columns:\n",
    "    enc = LabelEncoder()\n",
    "    X = df[col].apply(lambda x: '_'.join(str(x)), axis=1)\n",
    "    cross_col_name = '_'.join(col)\n",
    "    enc.fit(np.hstack((X.to_numpy())))\n",
    "    #df[cross_col_name] = enc.transform(X)\n",
    "    cross_col_df_names.append(cross_col_name)"
   ]
  },
  {
   "cell_type": "markdown",
   "metadata": {},
   "source": [
    "To provide some brief amount of justification towards the groups chosen & why they were not added towards the actual dataframe itself:\n",
    "- 'FirstBlood's, 'Dragons', 'Heralds' : These three categorical columns for each team, from my perpective are one of the most impactful ones.\n",
    "The 'FirstBlood' objective can be only obtained by one team per game. When a team completes this objective they receive a reward of gold coins that is then split between all of the team members. As for killing 'dragons' & 'heralds', this two objectives can be done by both teams with every game but it is very unlikely for both to do it within the span of the first 10 minutes of the game.\n",
    "\n",
    "\n",
    "I decided to not further add these crossed columns to the dataframe after seeing the how significant the drop in accuracy was after running an initial model."
   ]
  },
  {
   "cell_type": "markdown",
   "metadata": {},
   "source": [
    "\n",
    "### &nbsp;&nbsp;&nbsp;&nbsp;&nbsp;&nbsp; 1.3 Measuring Algorithm Performance"
   ]
  },
  {
   "cell_type": "code",
   "execution_count": 8,
   "metadata": {
    "pycharm": {
     "name": "#%%\n"
    }
   },
   "outputs": [
    {
     "data": {
      "text/plain": [
       "Text(0, 0.5, 'Frequency')"
      ]
     },
     "execution_count": 8,
     "metadata": {},
     "output_type": "execute_result"
    },
    {
     "data": {
      "image/png": "[encoded data removed]",
      "text/plain": [
       "<Figure size 432x288 with 1 Axes>"
      ]
     },
     "metadata": {
      "needs_background": "light"
     },
     "output_type": "display_data"
    }
   ],
   "source": [
    "ax = sns.countplot(x=\"blueWins\", data=df, palette=['red', 'blue'])\n",
    "ax.set_title('Win Rate by Team')\n",
    "ax.set_xlabel('Teams')\n",
    "ax.set_xticks([0,1])\n",
    "ax.set_xticklabels(['Red', 'Blue'])\n",
    "ax.set_ylabel('Frequency')"
   ]
  },
  {
   "cell_type": "markdown",
   "metadata": {
    "pycharm": {
     "name": "#%% md\n"
    }
   },
   "source": [
    "- Choose & explain what metric(s) I will use to evaluate your algorithm’s performance.\n",
    "- I should give a detailed argument for why this (these) metric(s) are appropriate on my data.\n",
    "- That is, why is the metric appropriate for the task (e.g., in terms of the business case for the task).\n",
    "- Note: rarely is accuracy the best evaluation metric to use.Think deeply about an appropriate measure of performance."
   ]
  },
  {
   "cell_type": "markdown",
   "metadata": {},
   "source": [
    "\n",
    "-------------------\n",
    "\n",
    "### &nbsp;&nbsp;&nbsp;&nbsp;&nbsp;&nbsp; 1.4 Splitting the Dataset\n",
    "Using Scikit-learn's\n",
    "<a href=\"https://scikit-learn.org/stable/modules/cross_validation.html\" target=\"_top\"><b>cross-validation modules</b></a>\n",
    "we are able to split our dataset for training and testing purposes."
   ]
  },
  {
   "cell_type": "code",
   "execution_count": 9,
   "metadata": {
    "pycharm": {
     "name": "#%%\n"
    }
   },
   "outputs": [
    {
     "name": "stdout",
     "output_type": "stream",
     "text": [
      "Training Set \n",
      "   - Data Shape: (8891, 46) \n",
      "   - Target Shape: (8891,)\n",
      "\n",
      "Testing Set \n",
      "   - Data Shape: (988, 46) \n",
      "   - Target Shape: (988,)\n"
     ]
    }
   ],
   "source": [
    "from sklearn.model_selection import train_test_split\n",
    "\n",
    "# Create X data & y target dataframe's\n",
    "if 'blueWins' in df:\n",
    "    y = df['blueWins'].values\n",
    "    del df['blueWins']\n",
    "    X = df.to_numpy()\n",
    "\n",
    "# Divide the data: 80% Training & 20% Testing.\n",
    "X_train, X_test, y_train, y_test = train_test_split(X, y, train_size=0.9, test_size=0.1, random_state=0)\n",
    "\n",
    "print(\"Training Set\", \"\\n   - Data Shape:\",X_train.shape,\"\\n   - Target Shape:\",y_train.shape)\n",
    "print(\"\\nTesting Set\",\"\\n   - Data Shape:\",X_test.shape ,\"\\n   - Target Shape:\",y_test.shape)"
   ]
  },
  {
   "cell_type": "markdown",
   "metadata": {},
   "source": [
    "-------------------\n",
    "\n",
    "We perform a split within our dataset: 90% will be used for training, and 10% for testing. The 80/20 split is appropriate for\n",
    "the dataset because recall that the end goal is for users to be able to determine the probabilities of them winning their\n",
    "on-going game, or in other words we will only be predicting the win probability of __ONE__ game.\n",
    "\n",
    "Additionally if a 95/5 split was applied it would also be appropriate to use as well. With League of Legends being a\n",
    "strategy based game, our prediction algorithm essentially uses the training data to find which combination of\n",
    "objectives/attributes have the biggest impact/correlation withing winning games. These game winning objectives/attributes could\n",
    "be found quite early on during training, but we need to account that these objectives/attributes can be wrong in certain\n",
    "instances due to the fact of the dataset only containing attributes for the first 10 minutes. So as the size of the training\n",
    "set increases, the amount of fine-tunning performed increases, thus rendering a higher accuracy when predicting through the\n",
    "testing dataset."
   ]
  },
  {
   "cell_type": "code",
   "execution_count": 10,
   "metadata": {},
   "outputs": [],
   "source": [
    "# - Choose the method I will use for dividing my data into training & testing"
   ]
  },
  {
   "cell_type": "markdown",
   "metadata": {},
   "source": [
    "\n",
    "- Explain what i'm using & why (i.e Stratified 10-fold cross validation? Shuffle splits?)\n",
    "- Explain why my chosen method is appropriate or use more than one method as appropriate.\n",
    "- Argue why my cross validation method is a realistic mirroring of how an algorithm would be used in practice. \n"
   ]
  },
  {
   "cell_type": "markdown",
   "metadata": {},
   "source": [
    "\n",
    "--------------------------\n",
    "\n",
    "## 2. Modeling"
   ]
  },
  {
   "cell_type": "markdown",
   "metadata": {},
   "source": [
    "\n",
    "### &nbsp;&nbsp;&nbsp;&nbsp;&nbsp;&nbsp; 2.1 Creating Wide & Deep Networks"
   ]
  },
  {
   "cell_type": "code",
   "execution_count": 11,
   "metadata": {},
   "outputs": [],
   "source": [
    "# - Create at least 3 combined wide & deep networks to classify your data using Keras.\n",
    "from tensorflow import keras\n",
    "from sklearn import metrics as mt\n",
    "from tensorflow.keras.models import Model\n",
    "from tensorflow.keras.layers import Dense, Activation, Input\n",
    "\n",
    "input_tensor = Input(shape=(X_train.shape[1],))\n",
    "x = Dense(units=10, activation='relu')(input_tensor)\n",
    "x = Dense(units=5, activation='tanh')(x)\n",
    "predictions = Dense(1, activation='sigmoid')(x)\n",
    "model = Model(inputs=input_tensor, outputs=predictions)"
   ]
  },
  {
   "cell_type": "code",
   "execution_count": 12,
   "metadata": {},
   "outputs": [],
   "source": [
    "# embed_branches = []\n",
    "# all_branch_outputs = []\n",
    "# input_branch = Input(shape=(X_train.shape[1],), dtype='int64', name='categorical')\n",
    "# for idx,col in enumerate(categorical_headers_int):\n",
    "#     x = tf.gather(input_branch, idx, axis=1)\n",
    "#     x = Embedding(input_dim=2, output_dim=int(np.sqrt(2)), input_length=1, name=col+'_embed')(x)\n",
    "#     all_branch_outputs.append(x)\n",
    "# final_branch = concatenate(all_branch_outputs, name='concat_1')\n",
    "# final_branch = Dense(units=1, activation='sigmoid', name='combined')(final_branch)\n",
    "# model = Model(inputs=input_branch, outputs=final_branch)"
   ]
  },
  {
   "cell_type": "code",
   "execution_count": 13,
   "metadata": {},
   "outputs": [
    {
     "name": "stdout",
     "output_type": "stream",
     "text": [
      "Model: \"model\"\n",
      "_________________________________________________________________\n",
      "Layer (type)                 Output Shape              Param #   \n",
      "=================================================================\n",
      "input_1 (InputLayer)         [(None, 46)]              0         \n",
      "_________________________________________________________________\n",
      "dense (Dense)                (None, 10)                470       \n",
      "_________________________________________________________________\n",
      "dense_1 (Dense)              (None, 5)                 55        \n",
      "_________________________________________________________________\n",
      "dense_2 (Dense)              (None, 1)                 6         \n",
      "=================================================================\n",
      "Total params: 531\n",
      "Trainable params: 531\n",
      "Non-trainable params: 0\n",
      "_________________________________________________________________\n"
     ]
    }
   ],
   "source": [
    "model.compile(optimizer='sgd',\n",
    "              loss='mean_squared_error',\n",
    "              metrics=['accuracy'])\n",
    "model.summary()"
   ]
  },
  {
   "cell_type": "code",
   "execution_count": 14,
   "metadata": {},
   "outputs": [
    {
     "name": "stdout",
     "output_type": "stream",
     "text": [
      "Failed to import pydot. You must install pydot and graphviz for `pydotprint` to work.\n"
     ]
    }
   ],
   "source": [
    "from tensorflow.keras.utils import plot_model\n",
    "\n",
    "# you will need to install pydot properly on your machine to get this running\n",
    "plot_model(\n",
    "    model, to_file='model.png', show_shapes=True, show_layer_names=True,\n",
    "    rankdir='LR', expand_nested=False, dpi=96\n",
    ")"
   ]
  },
  {
   "cell_type": "code",
   "execution_count": 15,
   "metadata": {},
   "outputs": [
    {
     "name": "stdout",
     "output_type": "stream",
     "text": [
      "Epoch 1/10\n",
      "178/178 [==============================] - 1s 3ms/step - loss: 0.2417 - accuracy: 0.5897\n",
      "Epoch 2/10\n",
      "178/178 [==============================] - 0s 3ms/step - loss: 0.2075 - accuracy: 0.6669\n",
      "Epoch 3/10\n",
      "178/178 [==============================] - 0s 3ms/step - loss: 0.1975 - accuracy: 0.6932\n",
      "Epoch 4/10\n",
      "178/178 [==============================] - 1s 3ms/step - loss: 0.1931 - accuracy: 0.7014\n",
      "Epoch 5/10\n",
      "178/178 [==============================] - 1s 3ms/step - loss: 0.1907 - accuracy: 0.7084\n",
      "Epoch 6/10\n",
      "178/178 [==============================] - 1s 3ms/step - loss: 0.1891 - accuracy: 0.7121\n",
      "Epoch 7/10\n",
      "178/178 [==============================] - 1s 3ms/step - loss: 0.1880 - accuracy: 0.7135\n",
      "Epoch 8/10\n",
      "178/178 [==============================] - 1s 3ms/step - loss: 0.1872 - accuracy: 0.7142\n",
      "Epoch 9/10\n",
      "178/178 [==============================] - 0s 3ms/step - loss: 0.1865 - accuracy: 0.7160\n",
      "Epoch 10/10\n",
      "178/178 [==============================] - 0s 3ms/step - loss: 0.1859 - accuracy: 0.7170\n",
      "[[366 138]\n",
      " [150 334]]\n",
      "              precision    recall  f1-score   support\n",
      "\n",
      "           0       0.71      0.73      0.72       504\n",
      "           1       0.71      0.69      0.70       484\n",
      "\n",
      "    accuracy                           0.71       988\n",
      "   macro avg       0.71      0.71      0.71       988\n",
      "weighted avg       0.71      0.71      0.71       988\n",
      "\n",
      "CPU times: user 8 s, sys: 1.69 s, total: 9.69 s\n",
      "Wall time: 6.27 s\n"
     ]
    }
   ],
   "source": [
    "%%time\n",
    "\n",
    "model.fit(X_train, y_train, epochs=10, batch_size=50, verbose=1)\n",
    "\n",
    "yhat_proba = model.predict(X_test)\n",
    "yhat = np.round(yhat_proba)\n",
    "print(mt.confusion_matrix(y_test,yhat))\n",
    "print(mt.classification_report(y_test,yhat))"
   ]
  },
  {
   "cell_type": "code",
   "execution_count": 16,
   "metadata": {},
   "outputs": [],
   "source": [
    "# - Visualize the performance of the network on the training data & validation data in:\n",
    "# - the same plot\n",
    "# - vs.\n",
    "# - training iterations.\n",
    "# - Note: use the \"history\" return parameter that is part of Keras \"fit\" function to easily access this data."
   ]
  },
  {
   "cell_type": "markdown",
   "metadata": {},
   "source": [
    "\n",
    "### &nbsp;&nbsp;&nbsp;&nbsp;&nbsp;&nbsp; 2.2 Investigating Generalization Performance"
   ]
  },
  {
   "cell_type": "code",
   "execution_count": 17,
   "metadata": {},
   "outputs": [],
   "source": [
    "# - Investigate generalization performance by altering the number of layers in the deep branch of the network.\n",
    "# - Try at least 2 different number of layers."
   ]
  },
  {
   "cell_type": "code",
   "execution_count": 18,
   "metadata": {},
   "outputs": [],
   "source": [
    "# - Use the method of cross validation & evaluation metric I chose at the start of the lab to help select\n",
    "#   the # of layers that performs superiorly. "
   ]
  },
  {
   "cell_type": "markdown",
   "metadata": {},
   "source": [
    "\n",
    "### &nbsp;&nbsp;&nbsp;&nbsp;&nbsp;&nbsp; 2.3 Comparing Performaces\n",
    "\n",
    "- Use proper statistical method to compare the performance of different models.  "
   ]
  },
  {
   "cell_type": "code",
   "execution_count": 19,
   "metadata": {},
   "outputs": [],
   "source": [
    "# - Compare the performance of my best wide & deep network to a standard multi-layer perceptron (MLP)."
   ]
  },
  {
   "cell_type": "code",
   "execution_count": 20,
   "metadata": {},
   "outputs": [],
   "source": [
    "# - For classification tasks, use the receiver operating characteristic & area under the curve."
   ]
  },
  {
   "cell_type": "code",
   "execution_count": 21,
   "metadata": {},
   "outputs": [],
   "source": [
    "#- For regression tasks, use Bland-Altman plots & residual variance calculations."
   ]
  },
  {
   "cell_type": "markdown",
   "metadata": {},
   "source": [
    "--------------------------------------------------\n",
    "\n",
    "## 3. t-SNE Dimensionality Reduction"
   ]
  },
  {
   "cell_type": "markdown",
   "metadata": {
    "pycharm": {
     "name": "#%% md\n"
    }
   },
   "source": [
    "Reference"
   ]
  },
  {
   "cell_type": "code",
   "execution_count": null,
   "metadata": {},
   "outputs": [],
   "source": []
  }
 ],
 "metadata": {
  "kernelspec": {
   "display_name": "Python 3",
   "language": "python",
   "name": "python3"
  },
  "language_info": {
   "codemirror_mode": {
    "name": "ipython",
    "version": 3
   },
   "file_extension": ".py",
   "mimetype": "text/x-python",
   "name": "python",
   "nbconvert_exporter": "python",
   "pygments_lexer": "ipython3",
   "version": "3.8.8"
  }
 },
 "nbformat": 4,
 "nbformat_minor": 4
}
