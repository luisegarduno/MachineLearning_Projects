{
 "cells": [
  {
   "cell_type": "markdown",
   "source": [
    "# Lab Assignment Six: CNN's\n",
    "\n",
    "### Luis Garduno\n",
    "#### &nbsp;&nbsp;&nbsp;&nbsp;&nbsp;&nbsp; - Brief Business Understanding\n",
    "#### <u>`About STL-10`</u>\n",
    "\n",
    "Inspired by the\n",
    "<a href=\"http://www.cs.toronto.edu/~kriz/cifar.html\" target=\"_top\"><b>CIFAR-10</b></a>\n",
    "dataset, STL-10 is a dataset containing a combination of images (gathered from\n",
    "<a href=\"http://www.image-net.org/\" target=\"_top\"><b>ImageNet</b></a>)\n",
    "of animals and transportation objects. Within the dataset there are 6 animal & 4 transportation object classes:\n",
    "- __Animals__ : bird, cat, deer, dog, horse, monkey\n",
    "- __Transportation Objects__ : airplane, car, ship, truck\n",
    "\n",
    "The dataset contains 3 folders that will be used at specified times:\n",
    "- __Train__ : 5000 images used to train the algorithm\n",
    "- __Test__ : 8000 images used to test an algorithm (800 images per class)\n",
    "- __Unlabeled__ : 100,000 unlabeled image files\n",
    "\n",
    "Aside from having not having identical classes, another difference between the datasets, is that the\n",
    "images in STL-10 are 3x's the resolution of CIFAR-10's images (96x96 versus 32x32).\n",
    "\n",
    "STL-10 is specifically an image recognition dataset. The dataset is intended to be used for developing\n",
    "unsupervised feature learning, deep learning, self-taught algorithms. That being said, the primary prediction\n",
    "task is to determine the type of animal or transportation object found in each of the pictures in the Unlabeled folder.\n",
    "Something that should be noted about the \"Unlabeled\" folder, aside from it containing the the classes mentioned above,\n",
    "it additionally includes other types of animals (bears, rabbits, etc.) and transportation objects[trains, buses, etc.).\n",
    "\n",
    "#### <u>`Measuring Success`</u>\n",
    "\n",
    "One reason this data is important is if trained correctly & the prediction task is achieved, third parties that\n",
    "use image captcha's for their websites, networks, etc. could use this data as a way to visualize how captcha's can\n",
    "be bypassed by __unsupervised__ feature learning, which essentially defeats the purpose of having a captcha test.\n",
    "\n",
    "In order for this data to be of use to third parties using captcha's, I believe the prediction algorithm will\n",
    "have to render at least an 80% accuracy. The reason it isn't 90% is because if the prediction algorithm selects a\n",
    "wrong image, or doesn't recognize an image, often times captcha test's will let you get away with about 2 or less errors.\n",
    "\n",
    "- Choose & explain what metric(s) I will use to evaluate my algorithm’s performance.\n",
    "- I should give a detailed argument for why this (these) metric(s) are appropriate on your data.\n",
    "- That is, why is the metric appropriate for the task (e.g., in terms of the business case for the task).\n",
    "- (accuracy is RARELY the best evaluation metric to use. Think deeply about an appropriate measure of performance.)\n",
    "\n",
    "\n",
    "-------------------------------------\n",
    "Dataset : <a href=\"https://www.kaggle.com/jessicali9530/stl10\" target=\"_top\"><b>STL-10 Kaggle Dataset</b></a>\n",
    "\n",
    "Question Of Interest : Identify the type of animal or transportation object shown in the picture\n",
    "\n",
    "----------------------------------------------"
   ],
   "metadata": {
    "collapsed": false
   }
  },
  {
   "cell_type": "markdown",
   "source": [
    "### &nbsp;&nbsp;&nbsp;&nbsp;&nbsp;&nbsp; 1.1 Data Preparation"
   ],
   "metadata": {
    "collapsed": false,
    "pycharm": {
     "name": "#%% md\n"
    }
   }
  },
  {
   "cell_type": "code",
   "execution_count": 1,
   "outputs": [
    {
     "ename": "FileNotFoundError",
     "evalue": "[Errno 2] No such file or directory: './data/stl10_binary/train_y.bin'",
     "output_type": "error",
     "traceback": [
      "\u001B[1;31m---------------------------------------------------------------------------\u001B[0m",
      "\u001B[1;31mFileNotFoundError\u001B[0m                         Traceback (most recent call last)",
      "\u001B[1;32m<ipython-input-1-41fd6a0ab084>\u001B[0m in \u001B[0;36m<module>\u001B[1;34m\u001B[0m\n\u001B[0;32m      7\u001B[0m \u001B[0mget_ipython\u001B[0m\u001B[1;33m(\u001B[0m\u001B[1;33m)\u001B[0m\u001B[1;33m.\u001B[0m\u001B[0mrun_line_magic\u001B[0m\u001B[1;33m(\u001B[0m\u001B[1;34m'matplotlib'\u001B[0m\u001B[1;33m,\u001B[0m \u001B[1;34m'inline'\u001B[0m\u001B[1;33m)\u001B[0m\u001B[1;33m\u001B[0m\u001B[1;33m\u001B[0m\u001B[0m\n\u001B[0;32m      8\u001B[0m \u001B[1;33m\u001B[0m\u001B[0m\n\u001B[1;32m----> 9\u001B[1;33m \u001B[1;32mwith\u001B[0m \u001B[0mopen\u001B[0m\u001B[1;33m(\u001B[0m\u001B[1;34m'./data/stl10_binary/train_y.bin'\u001B[0m\u001B[1;33m,\u001B[0m \u001B[1;34m'rb'\u001B[0m\u001B[1;33m)\u001B[0m \u001B[1;32mas\u001B[0m \u001B[0mf\u001B[0m\u001B[1;33m:\u001B[0m\u001B[1;33m\u001B[0m\u001B[1;33m\u001B[0m\u001B[0m\n\u001B[0m\u001B[0;32m     10\u001B[0m     \u001B[0mlabels\u001B[0m \u001B[1;33m=\u001B[0m \u001B[0mnp\u001B[0m\u001B[1;33m.\u001B[0m\u001B[0mfromfile\u001B[0m\u001B[1;33m(\u001B[0m\u001B[0mf\u001B[0m\u001B[1;33m,\u001B[0m \u001B[0mdtype\u001B[0m\u001B[1;33m=\u001B[0m\u001B[0mnp\u001B[0m\u001B[1;33m.\u001B[0m\u001B[0muint8\u001B[0m\u001B[1;33m)\u001B[0m\u001B[1;33m\u001B[0m\u001B[1;33m\u001B[0m\u001B[0m\n\u001B[0;32m     11\u001B[0m \u001B[1;33m\u001B[0m\u001B[0m\n",
      "\u001B[1;31mFileNotFoundError\u001B[0m: [Errno 2] No such file or directory: './data/stl10_binary/train_y.bin'"
     ]
    }
   ],
   "source": [
    "import glob\n",
    "import pandas as pd\n",
    "import numpy as np\n",
    "from tkinter import Tcl\n",
    "import matplotlib.pyplot as plt\n",
    "from PIL import Image\n",
    "%matplotlib inline\n",
    "\n",
    "with open('./data/stl10_binary/train_y.bin', 'rb') as f:\n",
    "    labels = np.fromfile(f, dtype=np.uint8)\n",
    "\n",
    "with open('./data/stl10_binary/class_names.txt', 'r') as f:\n",
    "    classNames = [line.rstrip() for line in f]\n",
    "\n",
    "# Reading in the dataset (sorted by filename) into a numpy array\n",
    "file_X = list(Tcl().call('lsort', '-dict', glob.glob('..\\..\\STL10\\Train\\*.png')))\n",
    "rgb_matrix = np.array([np.array(Image.open(file)) for file in file_X])\n",
    "_, h, w, c = rgb_matrix.shape\n",
    "\n",
    "# Create new numpy array w/ re-colored greyscaled images\n",
    "greyscale_matrix = np.array([np.array(Image.open(file).convert(\"L\")) for file in file_X])\n",
    "\n",
    "df = pd.DataFrame({'' : ['# of Samples','# of Features','Image Resolution','# of Channels','Image Size']})\n",
    "df['Original Data']  = [_, h*w*c, '{} x {}'.format(h,w), c, str(h*w*c) + 'px\\'s']\n",
    "df['Greyscale Data']  = [_, h*w, '{} x {}'.format(h,w), 1, str(h*w) + 'px\\'s']\n",
    "\n",
    "rgb_vec = rgb_matrix.reshape((_,h*w*c))\n",
    "greyscale_vec = greyscale_matrix.reshape((_,h*w))\n",
    "\n",
    "print(\"\\nOriginal Matrix Shape   :  Before\", rgb_matrix.shape, \"----->  After\", rgb_vec.shape,\"\\n\")\n",
    "print(\"Greyscale Matrix Shape  :  Before\", greyscale_matrix.shape, \"   ----->  After\",greyscale_vec.shape, \"\\n\\n\")\n",
    "\n",
    "df"
   ],
   "metadata": {
    "collapsed": false,
    "pycharm": {
     "name": "#%%\n"
    }
   }
  },
  {
   "cell_type": "markdown",
   "source": [
    "We begin by reading the dataset into a numpy array, but because it contains colored images, it would be optimal\n",
    "to turn it into a grayscale array so we are able to compute faster.\n",
    "\n",
    "Then after doing so, the shape of the original matrix and grayscale are outputted to show the initial dimensions.\n",
    "To the right of these shapes, are the concatenated versions of those matrices.\n",
    "\n",
    "At the bottom a table is created to better understand the differences between the 2 matrices, one containing color\n",
    "pictures and the other one containing greyscaled images. Here, is where we notice the large distance between the image\n",
    "sizes for each matrix. Notice how each greyscaled picture is 3 times smaller than the original color pictures."
   ],
   "metadata": {
    "collapsed": false
   }
  },
  {
   "cell_type": "markdown",
   "source": [
    "### &nbsp;&nbsp;&nbsp;&nbsp;&nbsp;&nbsp; 1.2 Visualizing Images"
   ],
   "metadata": {
    "collapsed": false
   }
  },
  {
   "cell_type": "code",
   "execution_count": null,
   "outputs": [],
   "source": [
    "def plot_gallery(images, titles, h, w, flag, n_row=3, n_col=6):\n",
    "    plt.figure(figsize=(1.7 * n_col, 2.3 * n_row))\n",
    "    plt.subplots_adjust(bottom=0, left=.01, right=.99, top=1.0, hspace=.25)\n",
    "    for i in range(n_row * n_col):\n",
    "        plt.subplot(n_row, n_col, i + 1)\n",
    "        plt.imshow(images[i].reshape((h,w)), cmap=plt.cm.gray)\n",
    "        if flag:\n",
    "            plt.title(classNames[titles[i] - 1], size=12)\n",
    "        if not flag:\n",
    "            plt.title(titles[i], size=12)\n",
    "        plt.xticks(());  plt.yticks(())\n",
    "\n",
    "plot_gallery(greyscale_vec, labels, h, w, True)"
   ],
   "metadata": {
    "collapsed": false,
    "pycharm": {
     "name": "#%%\n"
    }
   }
  },
  {
   "cell_type": "markdown",
   "source": [
    "Here we visualize 18 images within the greyscale numpy array. This function will be helpful later\n",
    "on to output certain images given a certain certain array.\n",
    "\n",
    "----------------------------"
   ],
   "metadata": {
    "collapsed": false
   }
  },
  {
   "cell_type": "markdown",
   "source": [
    "### &nbsp;&nbsp;&nbsp;&nbsp;&nbsp;&nbsp; 1.3 Creating Training & Test Data (7%)"
   ],
   "metadata": {
    "collapsed": false,
    "pycharm": {
     "name": "#%% md\n"
    }
   }
  },
  {
   "cell_type": "code",
   "source": [
    "# - Choose the method you will use for dividing your data into training & testing\n",
    "\n",
    "# Split data set (train & fold)"
   ],
   "metadata": {
    "collapsed": false,
    "pycharm": {
     "name": "#%%\n"
    }
   },
   "execution_count": null,
   "outputs": []
  },
  {
   "cell_type": "markdown",
   "source": [
    "----------------------------\n",
    "\n",
    "- Explain, Why am I using : a Stratisfied 10-fold cross validation? or Shuffle splits?\n",
    "\n",
    "- Explain why my chosen method is appropriate or use more than one method as appropriate.\n",
    "\n",
    "- Convince me that your cross validation method is a realistic mirroring of how an algorithm would be used in practice.\n"
   ],
   "metadata": {
    "collapsed": false,
    "pycharm": {
     "name": "#%% md\n"
    }
   }
  },
  {
   "cell_type": "markdown",
   "source": [
    "----------------------------\n",
    "\n",
    "## 2. Modeling\n",
    "\n",
    "### &nbsp;&nbsp;&nbsp;&nbsp;&nbsp;&nbsp; 2.1 Training w/ Data Expansion (15%)"
   ],
   "metadata": {
    "collapsed": false,
    "pycharm": {
     "name": "#%% md\n"
    }
   }
  },
  {
   "cell_type": "code",
   "execution_count": null,
   "outputs": [],
   "source": [
    "# - Setup the training to use data expansion in Keras."
   ],
   "metadata": {
    "collapsed": false,
    "pycharm": {
     "name": "#%%\n"
    }
   }
  },
  {
   "cell_type": "markdown",
   "source": [
    "- Explain why the chosen data expansion techniques are appropriate for my dataset."
   ],
   "metadata": {
    "collapsed": false,
    "pycharm": {
     "name": "#%% md\n"
    }
   }
  },
  {
   "cell_type": "markdown",
   "source": [
    "\n",
    "#### &nbsp;&nbsp;&nbsp;&nbsp;&nbsp;&nbsp; 2.2 Exploring Convolutional Architectures (20%)\n",
    "\n",
    "##### &nbsp;&nbsp;&nbsp;&nbsp;&nbsp;&nbsp; 2.2.1 Method 1:"
   ],
   "metadata": {
    "collapsed": false
   }
  },
  {
   "cell_type": "code",
   "execution_count": null,
   "outputs": [],
   "source": [
    "# 1.) CNN - Variation 1 : Investigate a Convolutional Network Architecture --- (& investigate changing some parameters of each arch\n",
    "# - Create a CNN to use on my data using Keras."
   ],
   "metadata": {
    "collapsed": false,
    "pycharm": {
     "name": "#%%\n"
    }
   }
  },
  {
   "cell_type": "code",
   "execution_count": null,
   "outputs": [],
   "source": [
    "# 2.) CNN - Variation 2 : Investigate a Convolutional Network Architecture --- (& investigate changing some parameters of each arch\n",
    "# - Create a CNN to use on my data using Keras."
   ],
   "metadata": {
    "collapsed": false,
    "pycharm": {
     "name": "#%%\n"
    }
   }
  },
  {
   "cell_type": "markdown",
   "source": [
    "##### &nbsp;&nbsp;&nbsp;&nbsp;&nbsp;&nbsp; 2.2.2 Method 2:"
   ],
   "metadata": {
    "collapsed": false,
    "pycharm": {
     "name": "#%% md\n"
    }
   }
  },
  {
   "cell_type": "code",
   "execution_count": null,
   "outputs": [],
   "source": [
    "# 1.) CNN - Variation 1 : Investigate a Convolutional Network Architecture --- (& investigate changing some parameters of each arch\n",
    "# - Create a CNN to use on my data using Keras."
   ],
   "metadata": {
    "collapsed": false,
    "pycharm": {
     "name": "#%%\n"
    }
   }
  },
  {
   "cell_type": "code",
   "execution_count": null,
   "outputs": [],
   "source": [
    "# 2.) CNN - Variation 2 : Investigate a Convolutional Network Architecture --- (& investigate changing some parameters of each arch\n",
    "# - Create a CNN to use on my data using Keras."
   ],
   "metadata": {
    "collapsed": false,
    "pycharm": {
     "name": "#%%\n"
    }
   }
  },
  {
   "cell_type": "markdown",
   "source": [
    "- Use the method of cross validation & evaluation metric that you argued for at the beginning of the lab.\n",
    "- Visualize the performance of the training & validation sets per iteration (use the \"history\" parameter of Keras)."
   ],
   "metadata": {
    "collapsed": false,
    "pycharm": {
     "name": "#%% md\n"
    }
   }
  },
  {
   "cell_type": "markdown",
   "source": [
    "#### &nbsp;&nbsp;&nbsp;&nbsp;&nbsp;&nbsp; 2.3 (15 points)\n",
    "- Visualize the final results of the CNNs & interpret the performance.\n",
    "- Use proper statistics as appropriate, especially for comparing models."
   ],
   "metadata": {
    "collapsed": false
   }
  },
  {
   "cell_type": "markdown",
   "source": [
    "#### &nbsp;&nbsp;&nbsp;&nbsp;&nbsp;&nbsp; 2.4 (10 points)\n",
    "- Compare the performance of my convolutional network to a standard multi-layer perceptron (MLP) using the receiver\n",
    "  operating characteristic & area under the curve.\n",
    "- Use proper statistical comparison techniques.\n",
    "\n",
    "\n",
    "### 3. Transfer Learning\n",
    "Exceptional Work (1 points total)\n",
    "You have free reign to provide additional analyses.\n",
    "One idea (required for 7000 level students): Use transfer learning to pre-train the weights of your initial layers of your CNN. Compare the performance when using transfer learning to training from scratch in terms of classification performance.\n",
    "\n",
    "\n",
    "#### Reference"
   ],
   "metadata": {
    "collapsed": false,
    "pycharm": {
     "name": "#%% md\n"
    }
   }
  },
  {
   "cell_type": "code",
   "execution_count": null,
   "outputs": [],
   "source": [
    "\n"
   ],
   "metadata": {
    "collapsed": false,
    "pycharm": {
     "name": "#%%\n"
    }
   }
  }
 ],
 "metadata": {
  "kernelspec": {
   "display_name": "Python 3",
   "language": "python",
   "name": "python3"
  },
  "language_info": {
   "codemirror_mode": {
    "name": "ipython",
    "version": 2
   },
   "file_extension": ".py",
   "mimetype": "text/x-python",
   "name": "python",
   "nbconvert_exporter": "python",
   "pygments_lexer": "ipython2",
   "version": "2.7.6"
  }
 },
 "nbformat": 4,
 "nbformat_minor": 0
}