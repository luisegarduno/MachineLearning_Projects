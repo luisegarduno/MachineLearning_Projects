{
 "cells": [
  {
   "cell_type": "markdown",
   "metadata": {
    "pycharm": {
     "name": "#%% md\n"
    }
   },
   "source": [
    "# Lab Assignment Seven: RNNs\n",
    "\n",
    "### Luis Garduno\n",
    "\n",
    "Dataset : [Sentiment140 Kaggle Dataset](https://www.kaggle.com/kazanova/sentiment140) "
   ]
  },
  {
   "cell_type": "markdown",
   "metadata": {
    "pycharm": {
     "name": "#%% md\n"
    }
   },
   "source": [
    "----------------------------\n",
    "\n",
    "## 1. Preparation\n",
    "\n",
    "### &nbsp;&nbsp;&nbsp;&nbsp;&nbsp;&nbsp; 1.1 Data Preparation"
   ]
  },
  {
   "cell_type": "code",
   "execution_count": 1,
   "metadata": {
    "collapsed": false,
    "jupyter": {
     "outputs_hidden": false
    },
    "pycharm": {
     "name": "#%%\n"
    }
   },
   "outputs": [
    {
     "name": "stdout",
     "output_type": "stream",
     "text": [
      "Number of Total Tweets: 200000 \n",
      "\n",
      "<class 'pandas.core.frame.DataFrame'>\n",
      "Int64Index: 200000 entries, 953713 to 841974\n",
      "Data columns (total 6 columns):\n",
      " #   Column    Non-Null Count   Dtype \n",
      "---  ------    --------------   ----- \n",
      " 0   polarity  200000 non-null  int64 \n",
      " 1   id        200000 non-null  int64 \n",
      " 2   date      200000 non-null  object\n",
      " 3   query     200000 non-null  object\n",
      " 4   user      200000 non-null  object\n",
      " 5   tweet     200000 non-null  object\n",
      "dtypes: int64(2), object(4)\n",
      "memory usage: 10.7+ MB\n"
     ]
    }
   ],
   "source": [
    "import glob, re\n",
    "import numpy as np\n",
    "import pandas as pd\n",
    "import seaborn as sns\n",
    "import matplotlib.pyplot as plt\n",
    "\n",
    "from PIL import Image\n",
    "from tkinter import Tcl\n",
    "from skimage.io import imshow\n",
    "from sklearn import metrics as mt\n",
    "from sklearn import preprocessing\n",
    "%matplotlib inline\n",
    "\n",
    "le = preprocessing.LabelEncoder()\n",
    "\n",
    "# Load in Sentiment140 Dataset in pandas array\n",
    "df = pd.read_csv('../data/Sentiment140/training.1600000.processed.noemoticon.csv',\n",
    "                 names=['polarity', 'id', 'date', 'query', 'user', 'tweet'],\n",
    "                 encoding='ISO-8859-1')\n",
    "\n",
    "# Create sample (Remove later)\n",
    "df = df.sample(frac=1)\n",
    "df = df[:200000]\n",
    "\n",
    "print(\"Number of Total Tweets:\", len(df), \"\\n\")\n",
    "\n",
    "# Check if our dataset is missing any columns\n",
    "df.info()"
   ]
  },
  {
   "cell_type": "markdown",
   "metadata": {},
   "source": [
    "| Field | Description | Type |\n",
    "| ----- | ----------- | ---- |\n",
    "| **Polarity** | &nbsp;&nbsp;&nbsp; - The target/polarity of the tweet <br /> &nbsp;&nbsp; [0] Negative; [2] Neutral; [4] Positive; | Discrete |\n",
    "| **id**    | &nbsp;&nbsp;&nbsp; - The id of the tweet    | Discrete |\n",
    "| **date**  | &nbsp;&nbsp;&nbsp; - The date of the tweet  | Interval |\n",
    "| **query** | &nbsp;&nbsp;&nbsp; - The query | Nominal |\n",
    "| **user**  | &nbsp;&nbsp;&nbsp; - The user that tweeted  | nominal  |\n",
    "| **tweet**  | &nbsp;&nbsp;&nbsp; - The text of the tweet  | nominal  |"
   ]
  },
  {
   "cell_type": "code",
   "execution_count": 2,
   "metadata": {},
   "outputs": [
    {
     "data": {
      "text/plain": [
       "polarity         2\n",
       "id          199978\n",
       "date        175362\n",
       "query            1\n",
       "user        148805\n",
       "tweet       199110\n",
       "dtype: int64"
      ]
     },
     "execution_count": 2,
     "metadata": {},
     "output_type": "execute_result"
    },
    {
     "data": {
      "image/png": "[encoded data removed]",
      "text/plain": [
       "<Figure size 1800x720 with 2 Axes>"
      ]
     },
     "metadata": {
      "needs_background": "light"
     },
     "output_type": "display_data"
    }
   ],
   "source": [
    "import missingno as mn\n",
    "\n",
    "# Check for any missing/null values within dataset\n",
    "mn.matrix(df)\n",
    "\n",
    "# Find unique values within each field, before dropping columns.\n",
    "df.nunique()"
   ]
  },
  {
   "cell_type": "markdown",
   "metadata": {},
   "source": [
    "After outputting all of the unique values, we see that there is only 1 unique value\n",
    "within the query field, meaning that it will not make an impact when further doing\n",
    "our analysis because all the values are the same. Other fields that can be dropped\n",
    "are the user tweet id, username, iand date because these these do not impact whether a\n",
    "user's tweet is negative or positive.\n",
    "\n",
    "Addtionally we're able to see that there's 2 unique values within the polarity field,\n",
    "it is probably best to find out what these two values are and change them so that 0\n",
    "equals negative and 1 equals positive."
   ]
  },
  {
   "cell_type": "code",
   "execution_count": 3,
   "metadata": {},
   "outputs": [
    {
     "data": {
      "text/plain": [
       "array([4, 0])"
      ]
     },
     "execution_count": 3,
     "metadata": {},
     "output_type": "execute_result"
    }
   ],
   "source": [
    "# Drop the fields we don't need\n",
    "df.drop(['id', 'date', 'query','user'], axis=1, inplace=True)\n",
    "\n",
    "# Find the 2 unique polarity fields\n",
    "df['polarity'].unique()"
   ]
  },
  {
   "cell_type": "code",
   "execution_count": 4,
   "metadata": {},
   "outputs": [
    {
     "data": {
      "text/plain": [
       "Text(0, 0.5, 'Number of Tweets')"
      ]
     },
     "execution_count": 4,
     "metadata": {},
     "output_type": "execute_result"
    },
    {
     "data": {
      "image/png": "[encoded data removed]",
      "text/plain": [
       "<Figure size 432x288 with 1 Axes>"
      ]
     },
     "metadata": {
      "needs_background": "light"
     },
     "output_type": "display_data"
    }
   ],
   "source": [
    "# Change [4] to [1] so the data is easier to understand.\n",
    "df['polarity'] = df['polarity'].replace(4,1)\n",
    "\n",
    "# Visualize whether data is evenly divided in terms of the polarity of tweets.\n",
    "ax = sns.countplot(x=\"polarity\", data=df, palette=['red', 'blue'])\n",
    "ax.set_title('Distribution in Polarity within Tweets')\n",
    "ax.set_xlabel('Polarity')\n",
    "ax.set_xticks([0,1])\n",
    "ax.set_xticklabels(['[0] Negative', '[1] Positive'])\n",
    "ax.set_ylabel('Number of Tweets')"
   ]
  },
  {
   "cell_type": "code",
   "execution_count": 5,
   "metadata": {},
   "outputs": [
    {
     "name": "stdout",
     "output_type": "stream",
     "text": [
      "<class 'pandas.core.frame.DataFrame'>\n",
      "Int64Index: 200000 entries, 953713 to 841974\n",
      "Data columns (total 2 columns):\n",
      " #   Column    Non-Null Count   Dtype \n",
      "---  ------    --------------   ----- \n",
      " 0   polarity  200000 non-null  int64 \n",
      " 1   tweet     200000 non-null  object\n",
      "dtypes: int64(1), object(1)\n",
      "memory usage: 8.6+ MB\n"
     ]
    }
   ],
   "source": [
    "# Check for proper variable representations\n",
    "# Make all tweets lowercase for future processing\n",
    "df['tweet'] = df['tweet'].astype('str')\n",
    "df['tweet'] = df['tweet'].str.lower()\n",
    "\n",
    "df.info()"
   ]
  },
  {
   "cell_type": "markdown",
   "metadata": {},
   "source": [
    "#### &nbsp;&nbsp;&nbsp;&nbsp;&nbsp;&nbsp; 1.2 Text/Word Pre-processing"
   ]
  },
  {
   "cell_type": "markdown",
   "metadata": {},
   "source": [
    "For this section I used some of the most common text-preprocessing that are practiced\n",
    "in Natural Language Processing projects such as:     \n",
    "- Removing stop words     \n",
    "- Stemming words     \n",
    "- Lemmatizing words\n",
    "- Tokenizing individual words"
   ]
  },
  {
   "cell_type": "code",
   "execution_count": 6,
   "metadata": {},
   "outputs": [],
   "source": [
    "import nltk\n",
    "from nltk import TweetTokenizer\n",
    "from nltk.corpus import stopwords\n",
    "from nltk.corpus import wordnet as wn\n",
    "from nltk.stem import SnowballStemmer\n",
    "from nltk.tokenize import word_tokenize\n",
    "from nltk.stem import WordNetLemmatizer\n",
    "from tensorflow.keras.preprocessing.text import Tokenizer\n",
    "\n",
    "stemmer = SnowballStemmer('english')\n",
    "stop_words = set(stopwords.words('english'))\n",
    "txt_rm = \"@\\S+|https?:\\S+|http?:\\S|[^A-Za-z0-9]+\"\n",
    "\n",
    "# First we tokenize the words for the tweets \n",
    "#tweet_tokenizer= TweetTokenizer(reduce_len=False)\n",
    "#df['tweet'] = df['tweet'].apply(lambda x: tweet_tokenizer.tokenize(x))\n",
    "#df4 = df\n",
    "#from copy import deepcopy\n",
    "#df1 = deepcopy(df)\n",
    "#df.head(15)"
   ]
  },
  {
   "cell_type": "code",
   "execution_count": 7,
   "metadata": {},
   "outputs": [
    {
     "data": {
      "text/html": [
       "<div>\n",
       "<style scoped>\n",
       "    .dataframe tbody tr th:only-of-type {\n",
       "        vertical-align: middle;\n",
       "    }\n",
       "\n",
       "    .dataframe tbody tr th {\n",
       "        vertical-align: top;\n",
       "    }\n",
       "\n",
       "    .dataframe thead th {\n",
       "        text-align: right;\n",
       "    }\n",
       "</style>\n",
       "<table border=\"1\" class=\"dataframe\">\n",
       "  <thead>\n",
       "    <tr style=\"text-align: right;\">\n",
       "      <th></th>\n",
       "      <th>polarity</th>\n",
       "      <th>tweet</th>\n",
       "    </tr>\n",
       "  </thead>\n",
       "  <tbody>\n",
       "    <tr>\n",
       "      <th>953713</th>\n",
       "      <td>1</td>\n",
       "      <td>awesome awesome</td>\n",
       "    </tr>\n",
       "    <tr>\n",
       "      <th>1409115</th>\n",
       "      <td>1</td>\n",
       "      <td>would say busted</td>\n",
       "    </tr>\n",
       "    <tr>\n",
       "      <th>1357369</th>\n",
       "      <td>1</td>\n",
       "      <td>pesto curry never thought add two keyboard gon...</td>\n",
       "    </tr>\n",
       "    <tr>\n",
       "      <th>125703</th>\n",
       "      <td>0</td>\n",
       "      <td>babys show nursery time masters interview</td>\n",
       "    </tr>\n",
       "    <tr>\n",
       "      <th>1035396</th>\n",
       "      <td>1</td>\n",
       "      <td>hey stan</td>\n",
       "    </tr>\n",
       "    <tr>\n",
       "      <th>1254216</th>\n",
       "      <td>1</td>\n",
       "      <td>going run let operation quot self power quot b...</td>\n",
       "    </tr>\n",
       "    <tr>\n",
       "      <th>1442470</th>\n",
       "      <td>1</td>\n",
       "      <td>laying bed hopefully sleeping soon wait lay ar...</td>\n",
       "    </tr>\n",
       "    <tr>\n",
       "      <th>439316</th>\n",
       "      <td>0</td>\n",
       "      <td>wishing throat sore</td>\n",
       "    </tr>\n",
       "    <tr>\n",
       "      <th>1588605</th>\n",
       "      <td>1</td>\n",
       "      <td>hehehe look funny yes would nice</td>\n",
       "    </tr>\n",
       "    <tr>\n",
       "      <th>293369</th>\n",
       "      <td>0</td>\n",
       "      <td>hey u love u babys im big fann</td>\n",
       "    </tr>\n",
       "    <tr>\n",
       "      <th>412789</th>\n",
       "      <td>0</td>\n",
       "      <td>like sun burn</td>\n",
       "    </tr>\n",
       "    <tr>\n",
       "      <th>584768</th>\n",
       "      <td>0</td>\n",
       "      <td>sadly sonic chicago believe searched whole yea...</td>\n",
       "    </tr>\n",
       "    <tr>\n",
       "      <th>1099446</th>\n",
       "      <td>1</td>\n",
       "      <td>thank</td>\n",
       "    </tr>\n",
       "    <tr>\n",
       "      <th>945612</th>\n",
       "      <td>1</td>\n",
       "      <td>bad unfinished drawing kemonart</td>\n",
       "    </tr>\n",
       "    <tr>\n",
       "      <th>620939</th>\n",
       "      <td>0</td>\n",
       "      <td>time reserected half health beat twice logged ...</td>\n",
       "    </tr>\n",
       "    <tr>\n",
       "      <th>547780</th>\n",
       "      <td>0</td>\n",
       "      <td>damnit phone die im lazy walk downstairs get c...</td>\n",
       "    </tr>\n",
       "    <tr>\n",
       "      <th>1124610</th>\n",
       "      <td>1</td>\n",
       "      <td>local festival marta may helen fun</td>\n",
       "    </tr>\n",
       "    <tr>\n",
       "      <th>425488</th>\n",
       "      <td>0</td>\n",
       "      <td>yahoooo change goin see movie cinemas sad part...</td>\n",
       "    </tr>\n",
       "    <tr>\n",
       "      <th>1101914</th>\n",
       "      <td>1</td>\n",
       "      <td>hahaha really lotsa fruits harvested ill check...</td>\n",
       "    </tr>\n",
       "    <tr>\n",
       "      <th>1134090</th>\n",
       "      <td>1</td>\n",
       "      <td>im watching childhood video family going zoo s...</td>\n",
       "    </tr>\n",
       "  </tbody>\n",
       "</table>\n",
       "</div>"
      ],
      "text/plain": [
       "         polarity                                              tweet\n",
       "953713          1                                    awesome awesome\n",
       "1409115         1                                   would say busted\n",
       "1357369         1  pesto curry never thought add two keyboard gon...\n",
       "125703          0          babys show nursery time masters interview\n",
       "1035396         1                                           hey stan\n",
       "1254216         1  going run let operation quot self power quot b...\n",
       "1442470         1  laying bed hopefully sleeping soon wait lay ar...\n",
       "439316          0                                wishing throat sore\n",
       "1588605         1                   hehehe look funny yes would nice\n",
       "293369          0                     hey u love u babys im big fann\n",
       "412789          0                                      like sun burn\n",
       "584768          0  sadly sonic chicago believe searched whole yea...\n",
       "1099446         1                                              thank\n",
       "945612          1                    bad unfinished drawing kemonart\n",
       "620939          0  time reserected half health beat twice logged ...\n",
       "547780          0  damnit phone die im lazy walk downstairs get c...\n",
       "1124610         1                 local festival marta may helen fun\n",
       "425488          0  yahoooo change goin see movie cinemas sad part...\n",
       "1101914         1  hahaha really lotsa fruits harvested ill check...\n",
       "1134090         1  im watching childhood video family going zoo s..."
      ]
     },
     "execution_count": 7,
     "metadata": {},
     "output_type": "execute_result"
    }
   ],
   "source": [
    "# ============ 1.) Removing HTML Tags, URLs, HashTags, Email Addresses, & tagged usernames with RegEx\n",
    "\n",
    "# Parse through each of the tweets by using regular expressions to remove specific parts of the text\n",
    "# RegEx Reference: https://github.com/alvations/nltk/blob/develop/nltk/tokenize/casual.py#L122\n",
    "hashtag, username=r\"\"\"(?:\\#+[\\w_]+[\\w\\'_\\-]*[\\w_]+)\"\"\", r\"\"\"(?:@[\\w_]+)\"\"\"\n",
    "emailAddr,htmlTags,=r\"\"\"[\\w.+-]+@[\\w-]+\\.(?:[\\w-]\\.?)+[\\w-]\"\"\", r\"\"\"<[^>\\s]+>\"\"\"\n",
    "urls=r\"\"\"(?:https?:(?:/{1,3}|[a-z0-9%])|[a-z0-9.\\-]+[.](?:[a-z]{2,13})/)(?:[^\\s()<>\n",
    "    {}\\[\\]]+|\\([^\\s()]*?\\([^\\s()]+\\)[^\\s()]*?\\)|\\([^\\s]+?\\))+(?:\\([^\\s()]*?\\([^\\s()]\n",
    "    +\\)[^\\s()]*?\\)|\\([^\\s]+?\\)|[^\\s`!()\\[\\]{};:'\".,<>?«»“”‘’])|(?:(?<!@)[a-z0-9]+(?:\n",
    "    [.\\-][a-z0-9]+)*[.](?:[a-z]{2,13})\\b/?(?!@))\"\"\"\n",
    "\n",
    "# Remove : hashtags, usernames, htmltags\n",
    "df.tweet = df.tweet.replace(urls, \"\" ,regex=True)\n",
    "df.tweet = df.tweet.replace(username, \"\" ,regex=True)\n",
    "df.tweet = df.tweet.replace(hashtag, \"\" ,regex=True)\n",
    "df.tweet = df.tweet.replace(htmlTags, \"\" ,regex=True)\n",
    "\n",
    "\n",
    "\n",
    "# ============ 2.) Removing stop words, and changing words back to their stem word\n",
    "\n",
    "# The following code was modeled after a snippet of code here:\n",
    "# https://www.traindex.io/blog/event-driven-data-pipelines-in-aws-480i/\n",
    "def preprocess(tweet, stem=False):\n",
    "    # Remove link, user and special characters\n",
    "    tweet = re.sub(txt_rm, ' ', str(tweet)).strip()\n",
    "    tokens = []\n",
    "    for token in tweet.split():\n",
    "        if token not in stop_words:\n",
    "            if stem:\n",
    "                tokens.append(stemmer.stem(token))\n",
    "            else:\n",
    "                tokens.append(token)\n",
    "    return \" \".join(tokens)\n",
    "\n",
    "df['tweet'] = df['tweet'].apply(lambda x: preprocess(x))\n",
    "\n",
    "df.head(20)"
   ]
  },
  {
   "cell_type": "markdown",
   "metadata": {
    "pycharm": {
     "name": "#%% md\n"
    }
   },
   "source": [
    "For my final dataset that I will be using for my classification problem, in regards of\n",
    "predicting whether a tweet is positive or negative, I selected to use only 2 columns:\n",
    "- Polarity : Whether a tweet in negative or positive ([0] negative; [1] Positive;)\n",
    "- Tweet : The text of a given tweet "
   ]
  },
  {
   "cell_type": "markdown",
   "metadata": {
    "pycharm": {
     "name": "#%% md\n"
    }
   },
   "source": [
    "### &nbsp;&nbsp;&nbsp;&nbsp;&nbsp;&nbsp; 1.3 Choosing a Metric"
   ]
  },
  {
   "cell_type": "markdown",
   "metadata": {},
   "source": [
    "As for metrics, for this specific classification problem, it is very easy to\n",
    "know that I will be using accuracy as a metric to evaluate my algorithms's \n",
    "performance.It will use binary cross entropy as it's loss function given\n",
    "the values of the polarity column are 0 and 1."
   ]
  },
  {
   "cell_type": "markdown",
   "metadata": {
    "pycharm": {
     "name": "#%% md\n"
    }
   },
   "source": [
    "### &nbsp;&nbsp;&nbsp;&nbsp;&nbsp;&nbsp; 1.4 Creating Training & Testing Data (30%)"
   ]
  },
  {
   "cell_type": "code",
   "execution_count": 8,
   "metadata": {
    "collapsed": false,
    "jupyter": {
     "outputs_hidden": false
    },
    "pycharm": {
     "name": "#%%\n"
    }
   },
   "outputs": [],
   "source": [
    "# - Choose the method I'll use for dividing my data into training and testing (i.e., am I  using Stratified 10-fold cross validation? Shuffle splits? Why?).\n",
    "from sklearn.model_selection import train_test_split\n",
    "\n",
    "# Applying 80/20 split \n",
    "X_train, X_test = train_test_split(df, test_size=0.2)"
   ]
  },
  {
   "cell_type": "markdown",
   "metadata": {
    "pycharm": {
     "name": "#%% md\n"
    }
   },
   "source": [
    "- Explain why my chosen method is appropriate or use more than one method as appropriate.\n",
    "- Convince me that my cross validation method is a realistic mirroring of how an algorithm would be used in practice."
   ]
  },
  {
   "cell_type": "markdown",
   "metadata": {
    "pycharm": {
     "name": "#%% md\n"
    }
   },
   "source": [
    "-----------------------------\n",
    "\n",
    "## 2. Modeling | You're @ a C, keep going bro.\n",
    "\n",
    "### &nbsp;&nbsp;&nbsp;&nbsp;&nbsp;&nbsp; 2.1 Exploring Recurrent Network Architectures"
   ]
  },
  {
   "cell_type": "code",
   "execution_count": 9,
   "metadata": {},
   "outputs": [],
   "source": [
    "# Import Keras libraries\n",
    "\n",
    "import tensorflow.keras as keras\n",
    "from tensorflow.keras.utils import plot_model\n",
    "from tensorflow.keras.models import Sequential, Model\n",
    "from tensorflow.keras.layers import average, Reshape, Input, Add\n",
    "from tensorflow.keras.layers import Dense, Dropout, Activation, Flatten\n",
    "from tensorflow.keras.layers import SeparableConv2D, BatchNormalization, LSTM\n",
    "from tensorflow.keras.layers import Conv1D, Conv2D, MaxPooling2D, concatenate\n",
    "from tensorflow.keras.layers import Embedding, SpatialDropout1D, Bidirectional\n",
    "from tensorflow.keras.callbacks import EarlyStopping\n",
    "from tensorflow.keras.regularizers import l2\n",
    "from tensorflow.keras.preprocessing.image import ImageDataGenerator"
   ]
  },
  {
   "cell_type": "code",
   "execution_count": 10,
   "metadata": {},
   "outputs": [],
   "source": [
    "# Graph comparing Training & Validation Vs. Accuracy & Training loss\n",
    "def getChart(h):\n",
    "    plt.figure(figsize=(10,4))\n",
    "    plt.subplot(2,2,1)\n",
    "    plt.plot(h.history['accuracy'])\n",
    "    \n",
    "    plt.ylabel('Accuracy %')\n",
    "    plt.title('Training')\n",
    "    plt.subplot(2,2,2)\n",
    "    plt.plot(h.history['val_accuracy'])\n",
    "    plt.title('Validation')\n",
    "    \n",
    "    plt.subplot(2,2,3)\n",
    "    plt.plot(h.history['loss'])\n",
    "    plt.ylabel('Training Loss')\n",
    "    plt.xlabel('epochs')\n",
    "    \n",
    "    plt.subplot(2,2,4)\n",
    "    plt.plot(h.history['val_loss'])\n",
    "    plt.xlabel('epochs')\n",
    "\n",
    "# Graph comparing Training & Validation Vs. Accuracy & Training loss\n",
    "def getCharts(h1, h2, h3, h4):\n",
    "    plt.figure(figsize=(10,8))\n",
    "    plt.subplot(2,2,1)\n",
    "    ax1 = sns.lineplot(data=h1.history['accuracy'], label='LeNet - AdaM', color='blue')\n",
    "    sns.lineplot(data=h2.history['accuracy'], label='LeNet - RMSProp', color='red')\n",
    "    sns.lineplot(data=h3.history['accuracy'], label='Xception - AdaM', color='green')\n",
    "    sns.lineplot(data=h4.history['accuracy'], label='Xception - RMSProp ', color='darkorange')\n",
    "    \n",
    "    plt.ylabel('Accuracy %')\n",
    "    plt.title('Training')\n",
    "    plt.subplot(2,2,2)\n",
    "    ax2 = sns.lineplot(data=h1.history['val_accuracy'], label='LeNet - AdaM', color='blue')\n",
    "    sns.lineplot(data=h2.history['val_accuracy'], label='LeNet - RMSProp', color='red')\n",
    "    sns.lineplot(data=h3.history['val_accuracy'], label='Xception - AdaM', color='green')\n",
    "    sns.lineplot(data=h4.history['val_accuracy'], label='Xception - RMSProp', color='darkorange')\n",
    "    plt.title('Validation')\n",
    "    \n",
    "    plt.subplot(2,2,3)\n",
    "    ax3 = sns.lineplot(data=h1.history['loss'], label='LeNet - AdaM', color='blue')\n",
    "    sns.lineplot(data=h2.history['loss'], label='LeNet - RMSProp', color='red')\n",
    "    sns.lineplot(data=h3.history['loss'], label='Xception - AdaM', color='green')\n",
    "    sns.lineplot(data=h4.history['loss'], label='Xception - RMSProp', color='darkorange')\n",
    "    plt.ylabel('Training Loss')\n",
    "    plt.xlabel('epochs')\n",
    "    \n",
    "    plt.subplot(2,2,4)\n",
    "    ax4 = sns.lineplot(data=h1.history['val_loss'], label='LeNet - AdaM', color='blue')\n",
    "    sns.lineplot(data=h2.history['val_loss'], label='LeNet - RMSProp', color='red')\n",
    "    sns.lineplot(data=h3.history['val_loss'], label='Xception - AdaM', color='green')\n",
    "    sns.lineplot(data=h4.history['val_loss'], label='Xception - RMSProp', color='darkorange')\n",
    "    plt.xlabel('epochs')"
   ]
  },
  {
   "cell_type": "markdown",
   "metadata": {},
   "source": [
    "##### &nbsp;&nbsp;&nbsp;&nbsp;&nbsp;&nbsp; 2.2.1 Method 1: GRU Architecture (45%)\n",
    "\n",
    "A Gated Recurrent Network, or GRU\n",
    "- Be sure to use an embedding layer (pre-trained, from scratch, OR both).\n",
    "- Adjust hyper-parameters of the networks as needed to improve generalization performance."
   ]
  },
  {
   "cell_type": "code",
   "execution_count": 11,
   "metadata": {},
   "outputs": [],
   "source": [
    "#################################################################################\n",
    "######################## GRU Style Architecture : AdaM ##########################\n",
    "#################################################################################\n",
    "\n"
   ]
  },
  {
   "cell_type": "code",
   "execution_count": 12,
   "metadata": {},
   "outputs": [
    {
     "ename": "NameError",
     "evalue": "name 'gru_1' is not defined",
     "output_type": "error",
     "traceback": [
      "\u001b[0;31m---------------------------------------------------------------------------\u001b[0m",
      "\u001b[0;31mNameError\u001b[0m                                 Traceback (most recent call last)",
      "\u001b[0;32m<timed exec>\u001b[0m in \u001b[0;36m<module>\u001b[0;34m\u001b[0m\n",
      "\u001b[0;31mNameError\u001b[0m: name 'gru_1' is not defined"
     ]
    }
   ],
   "source": [
    "%%time\n",
    "\n",
    "gru_1.compile(loss='binary_crossentropy', optimizer='adam', metrics=['accuracy'])\n",
    "\n",
    "history_GRU1 = gru_1.fit(X_train, y_train_ohe, batch_size=128, \n",
    "                         epochs=50, verbose=1, validation_data=(X_test,y_test_ohe),\n",
    "                         callbacks=[EarlyStopping(monitor='val_loss', patience=4)])\n",
    "\n",
    "yhat = np.round(gru_1.predict(X_test))\n",
    "print(mt.classification_report(y_test_ohe, yhat, zero_division=0))\n",
    "getChart(history_GRU1)"
   ]
  },
  {
   "cell_type": "code",
   "execution_count": 13,
   "metadata": {},
   "outputs": [],
   "source": [
    "# Be sure to use an embedding layer (pre-trained, from scratch, OR both).\n",
    "# Adjust hyper-parameters of the networks as needed to improve generalization performance."
   ]
  },
  {
   "cell_type": "code",
   "execution_count": 14,
   "metadata": {},
   "outputs": [],
   "source": [
    "#################################################################################\n",
    "######################## GRU Style Architecture : RMSProp #######################\n",
    "#################################################################################\n",
    "\n"
   ]
  },
  {
   "cell_type": "code",
   "execution_count": 15,
   "metadata": {},
   "outputs": [
    {
     "ename": "NameError",
     "evalue": "name 'gru_2' is not defined",
     "output_type": "error",
     "traceback": [
      "\u001b[0;31m---------------------------------------------------------------------------\u001b[0m",
      "\u001b[0;31mNameError\u001b[0m                                 Traceback (most recent call last)",
      "\u001b[0;32m<timed exec>\u001b[0m in \u001b[0;36m<module>\u001b[0;34m\u001b[0m\n",
      "\u001b[0;31mNameError\u001b[0m: name 'gru_2' is not defined"
     ]
    }
   ],
   "source": [
    "%%time\n",
    "\n",
    "gru_2.compile(loss='binary_crossentropy', optimizer='rmsprop', metrics=['accuracy'])\n",
    "\n",
    "history_GRU2 = gru_2.fit(X_train, y_train_ohe, batch_size=128,\n",
    "                         epochs=50, verbose=1, validation_data=(X_test,y_test_ohe),\n",
    "                         callbacks=[EarlyStopping(monitor='val_loss', patience=4)])\n",
    "\n",
    "yhat = np.round(gru_2.predict(X_test))\n",
    "print(mt.classification_report(y_test_ohe, yhat, zero_division=0))\n",
    "getChart(history_GRU2)"
   ]
  },
  {
   "cell_type": "code",
   "execution_count": 16,
   "metadata": {},
   "outputs": [],
   "source": [
    "# Be sure to use an embedding layer (pre-trained, from scratch, OR both).\n",
    "# Adjust hyper-parameters of the networks as needed to improve generalization performance."
   ]
  },
  {
   "cell_type": "markdown",
   "metadata": {},
   "source": [
    "##### &nbsp;&nbsp;&nbsp;&nbsp;&nbsp;&nbsp; 2.2.2 Method 2: LTSM  Architecture (60%)\n",
    "\n",
    "A \"long short-term memory\" units, or LSTM"
   ]
  },
  {
   "cell_type": "code",
   "execution_count": 17,
   "metadata": {
    "collapsed": false,
    "jupyter": {
     "outputs_hidden": false
    },
    "pycharm": {
     "name": "#%%\n"
    }
   },
   "outputs": [
    {
     "ename": "NameError",
     "evalue": "name 'h' is not defined",
     "output_type": "error",
     "traceback": [
      "\u001b[0;31m---------------------------------------------------------------------------\u001b[0m",
      "\u001b[0;31mNameError\u001b[0m                                 Traceback (most recent call last)",
      "\u001b[0;32m<ipython-input-17-c07103c7c1b9>\u001b[0m in \u001b[0;36m<module>\u001b[0;34m\u001b[0m\n\u001b[1;32m      2\u001b[0m \u001b[0;31m######################## LSTM Style Architecture : AdaM ##########################\u001b[0m\u001b[0;34m\u001b[0m\u001b[0;34m\u001b[0m\u001b[0;34m\u001b[0m\u001b[0m\n\u001b[1;32m      3\u001b[0m \u001b[0;31m##################################################################################\u001b[0m\u001b[0;34m\u001b[0m\u001b[0;34m\u001b[0m\u001b[0;34m\u001b[0m\u001b[0m\n\u001b[0;32m----> 4\u001b[0;31m \u001b[0mshpe\u001b[0m \u001b[0;34m=\u001b[0m \u001b[0;34m(\u001b[0m\u001b[0mh\u001b[0m\u001b[0;34m,\u001b[0m\u001b[0mw\u001b[0m\u001b[0;34m,\u001b[0m\u001b[0;36m1\u001b[0m\u001b[0;34m)\u001b[0m\u001b[0;34m\u001b[0m\u001b[0;34m\u001b[0m\u001b[0m\n\u001b[0m\u001b[1;32m      5\u001b[0m \u001b[0mshpe\u001b[0m \u001b[0;34m=\u001b[0m \u001b[0;34m(\u001b[0m\u001b[0mMAX_SEQUENCE_LENGTH\u001b[0m\u001b[0;34m,\u001b[0m\u001b[0;34m)\u001b[0m\u001b[0;34m\u001b[0m\u001b[0;34m\u001b[0m\u001b[0m\n\u001b[1;32m      6\u001b[0m \u001b[0ml2_lambda\u001b[0m \u001b[0;34m=\u001b[0m \u001b[0;36m0.000001\u001b[0m\u001b[0;34m\u001b[0m\u001b[0;34m\u001b[0m\u001b[0m\n",
      "\u001b[0;31mNameError\u001b[0m: name 'h' is not defined"
     ]
    }
   ],
   "source": [
    "##################################################################################\n",
    "######################## LSTM Style Architecture : AdaM ##########################\n",
    "##################################################################################\n",
    "shpe = (h,w,1)\n",
    "shpe = (MAX_SEQUENCE_LENGTH,)\n",
    "l2_lambda = 0.000001\n",
    "\n",
    "input_holder = Input(shape=shpe, dtype='int32')\n",
    "\n",
    "# Embedding Layer ================================================================\n",
    "x3 = Embedding(vocab_size, EMBEDDING_DIM, weights=[embedding_matrix],\n",
    "               input_length=MAX_SEQUENCE_LENGTH,\n",
    "               trainable=False)(input_holder)\n",
    "\n",
    "# Spatial Dropout Layer ==========================================================\n",
    "x3 = SpatialDropout1D(0.2)(x3)\n",
    "x3 = Activation('relu')(x3)\n",
    "\n",
    "# Convolution Layer ==============================================================\n",
    "x3 = Conv1D(64,5)(x3)\n",
    "\n",
    "# LSTM Layer =====================================================================\n",
    "x3 = LSTM(64, dropout=0.2, recurrent_dropout=0.2)(x3)\n",
    "\n",
    "# Bidirectional Layer ============================================================\n",
    "x3 = Bidirectional(x3)(x3)\n",
    "x3 = Activation(\"relu\")(x3)\n",
    "x3 = Dense(512)(x3)\n",
    "x3 = Dropout(0.5)(x3)\n",
    "\n",
    "x3 = Activation(\"relu\")(x3)\n",
    "x3 = Dropout(0.5)(x3)\n",
    "\n",
    "x3 = Activation(\"relu\")(x3)\n",
    "x3 = Dense(512)(x3)\n",
    "\n",
    "x3 = Activation(\"sigmoid\")(x3)\n",
    "x3 = Dense(1)(x3)\n",
    "\n",
    "lstm_1 = Model(inputs=input_holder,outputs=x3)"
   ]
  },
  {
   "cell_type": "code",
   "execution_count": null,
   "metadata": {},
   "outputs": [],
   "source": [
    "%%time\n",
    "\n",
    "lstm_1.compile(loss='binary_crossentropy', optimizer='adam', metrics=['accuracy'])\n",
    "\n",
    "history_LSTM1 = lstm_1.fit(X_train, y_train_ohe, batch_size=128,\n",
    "                           epochs=50, verbose=1, validation_data=(X_test,y_test_ohe),\n",
    "                           callbacks=[EarlyStopping(monitor='val_loss', patience=4)])\n",
    "\n",
    "yhat = np.round(lstm_1.predict(X_test))\n",
    "print(mt.classification_report(y_test_ohe, yhat, zero_division=0))\n",
    "getChart(history_LSTM1)"
   ]
  },
  {
   "cell_type": "code",
   "execution_count": null,
   "metadata": {},
   "outputs": [],
   "source": [
    "# Be sure to use an embedding layer (pre-trained, from scratch, OR both).\n",
    "# Adjust hyper-parameters of the networks as needed to improve generalization performance."
   ]
  },
  {
   "cell_type": "code",
   "execution_count": null,
   "metadata": {
    "collapsed": false,
    "jupyter": {
     "outputs_hidden": false
    },
    "pycharm": {
     "name": "#%%\n"
    }
   },
   "outputs": [],
   "source": [
    "##################################################################################\n",
    "######################## LSTM Style Architecture : RMSProp #######################\n",
    "##################################################################################\n",
    "\n",
    "\n",
    "# - Using the best RNN parameters & architecture, add a second recurrent chain to my RNN.\n",
    "# - The input to the second chain should be the output sequence of the first chain.\n",
    "   \n",
    "# Embedding Layer ================================================================\n",
    "x4 = Embedding(input_dim=vocab_size, output_dim=embedding_dim,\n",
    "               input_length=max_length, weights=[embedding_matrix],\n",
    "               trainable=False)(x4)\n",
    "\n",
    "# Bidirectional Layer ============================================================ \n",
    "# x4 = LSTM(64,dropout=0.3,return_sequences=True)(x4)\n",
    "# x4 = Bidirectional(x4)(x4)\n",
    "x4 = Bidirectional(LSTM(64,dropout=0.3,return_sequences=True)),\n",
    "x4 = Dropout(0.3),\n",
    "\n",
    "\n",
    "# Bidirectional Layer ============================================================ \n",
    "# x4 = Dropout(0.3)(x4)\n",
    "# x4 = LSTM(64)(x4)\n",
    "# x4 = Bidirectional(x4)(x4)\n",
    "x4 = Bidirectional(LSTM(64,dropout=0.3))(x4)\n",
    "x4 = Dropout(0.3)(x4)\n",
    "\n",
    "x4 = Activation(\"relu\")(x4)\n",
    "x4 = Dense(512)(x4)\n",
    "x4 = Dropout(0.3)(x4)\n",
    "                  \n",
    "x4 = Activation(\"sigmoid\")(x4)\n",
    "x4 = Dense(1)(x4)\n",
    "\n",
    "model = keras.models.Sequential([\n",
    "      \n"
   ]
  },
  {
   "cell_type": "code",
   "execution_count": null,
   "metadata": {},
   "outputs": [],
   "source": [
    "%%time\n",
    "\n",
    "lstm_2.compile(loss='binary_crossentropy', optimizer='adam',metrics=['accuracy'])\n",
    "\n",
    "history_LSTM2 = lstm_2.fit(X_train, y_train_ohe, batch_size=128,\n",
    "                           epochs=50, verbose=1, validation_data=(X_test,y_test_ohe),\n",
    "                           callbacks=[EarlyStopping(monitor='val_loss', patience=4)])\n",
    "\n",
    "yhat = np.round(lstm_2.predict(X_test))\n",
    "print(mt.classification_report(y_test_ohe, yhat, zero_division=0))\n",
    "getChart(history_LSTM2)"
   ]
  },
  {
   "cell_type": "code",
   "execution_count": null,
   "metadata": {},
   "outputs": [],
   "source": [
    "\n",
    "\n",
    "# Be sure to use an embedding layer (pre-trained, from scratch, OR both).\n",
    "# Adjust hyper-parameters of the networks as needed to improve generalization performance."
   ]
  },
  {
   "cell_type": "markdown",
   "metadata": {
    "pycharm": {
     "name": "#%% md\n"
    }
   },
   "source": [
    "- Discuss the performance of each network & compare them.\n"
   ]
  },
  {
   "cell_type": "markdown",
   "metadata": {
    "pycharm": {
     "name": "#%% md\n"
    }
   },
   "source": [
    "### &nbsp;&nbsp;&nbsp;&nbsp;&nbsp;&nbsp; 2.2 Adding a 2nd recurrent chain (70%) | You're at a C+!!!"
   ]
  },
  {
   "cell_type": "code",
   "execution_count": null,
   "metadata": {
    "collapsed": false,
    "jupyter": {
     "outputs_hidden": false
    },
    "pycharm": {
     "name": "#%%\n"
    }
   },
   "outputs": [],
   "source": [
    "\n",
    "# Using the best RNN parameters & architecture, add a second recurrent chain to my RNN.\n",
    "# The input to the second chain should be the output sequence of the first chain.\n",
    "# Visualize the performance of training & validation sets versus the training iterations.\n"
   ]
  },
  {
   "cell_type": "markdown",
   "metadata": {
    "pycharm": {
     "name": "#%% md\n"
    }
   },
   "source": [
    "### &nbsp;&nbsp;&nbsp;&nbsp;&nbsp;&nbsp; 2.3 Using Cross Validation (90%) Bro, all you need is 15/20pts. Final Stretch!"
   ]
  },
  {
   "cell_type": "code",
   "execution_count": null,
   "metadata": {
    "collapsed": false,
    "jupyter": {
     "outputs_hidden": false
    },
    "pycharm": {
     "name": "#%%\n"
    }
   },
   "outputs": [],
   "source": [
    "\n",
    "# - Use the method of cross validation & evaluation criteria that I argued for at the beginning of the lab.\n"
   ]
  },
  {
   "cell_type": "code",
   "execution_count": null,
   "metadata": {
    "collapsed": false,
    "jupyter": {
     "outputs_hidden": false
    },
    "pycharm": {
     "name": "#%%\n"
    }
   },
   "outputs": [],
   "source": [
    "\n",
    "# - Visualize the results of all the RNNs I trained.\n"
   ]
  },
  {
   "cell_type": "code",
   "execution_count": null,
   "metadata": {
    "collapsed": false,
    "jupyter": {
     "outputs_hidden": false
    },
    "pycharm": {
     "name": "#%%\n"
    }
   },
   "outputs": [],
   "source": [
    "\n",
    "# Use proper statistical comparison techniques to determine which method(s) is (are) superior.\n"
   ]
  },
  {
   "cell_type": "markdown",
   "metadata": {
    "pycharm": {
     "name": "#%% md\n"
    }
   },
   "source": [
    "----------------------------------------\n",
    "\n",
    "### 3. t-SNE or RNN generating novel text\n",
    "You have free reign to provide additional analyses. Ideas:\n",
    "\n",
    "- Option 1: Use t-SNE (or SVD or PCA or UMAP) to visualize the word embeddings of a subset of words in your vocabulary.\n",
    "    - Try to interpret what each dimension reflects (in your own words).\n",
    "    - That is, try to explain what aspect of the language is encoded in the reduced dimensionality embedding.\n",
    "\n",
    "- Options 2: Use the ConceptNet Numberbatch embedding & compare to GloVe\n",
    "\n",
    "- Another Idea (NOT required): Try to create a RNN for generating novel text."
   ]
  },
  {
   "cell_type": "markdown",
   "metadata": {
    "pycharm": {
     "name": "#%% md\n"
    }
   },
   "source": [
    "#### Reference"
   ]
  },
  {
   "cell_type": "code",
   "execution_count": null,
   "metadata": {
    "collapsed": false,
    "jupyter": {
     "outputs_hidden": false
    },
    "pycharm": {
     "name": "#%%\n"
    }
   },
   "outputs": [],
   "source": [
    "\n"
   ]
  }
 ],
 "metadata": {
  "kernelspec": {
   "display_name": "Python 3",
   "language": "python",
   "name": "python3"
  },
  "language_info": {
   "codemirror_mode": {
    "name": "ipython",
    "version": 3
   },
   "file_extension": ".py",
   "mimetype": "text/x-python",
   "name": "python",
   "nbconvert_exporter": "python",
   "pygments_lexer": "ipython3",
   "version": "3.8.8"
  }
 },
 "nbformat": 4,
 "nbformat_minor": 4
}
