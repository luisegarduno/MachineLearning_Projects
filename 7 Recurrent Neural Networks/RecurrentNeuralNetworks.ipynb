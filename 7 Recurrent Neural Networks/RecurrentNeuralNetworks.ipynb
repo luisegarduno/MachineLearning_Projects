{
 "cells": [
  {
   "cell_type": "markdown",
   "metadata": {
    "pycharm": {
     "name": "#%% md\n"
    }
   },
   "source": [
    "# Lab Assignment Seven: RNNs\n",
    "\n",
    "### Luis Garduno\n",
    "\n",
    "Dataset : [Sentiment140 Kaggle Dataset](https://www.kaggle.com/kazanova/sentiment140) "
   ]
  },
  {
   "cell_type": "markdown",
   "metadata": {
    "pycharm": {
     "name": "#%% md\n"
    }
   },
   "source": [
    "----------------------------\n",
    "\n",
    "## 1. Preparation\n",
    "\n",
    "### &nbsp;&nbsp;&nbsp;&nbsp;&nbsp;&nbsp; 1.1 Data Preparation"
   ]
  },
  {
   "cell_type": "code",
   "execution_count": 1,
   "metadata": {
    "collapsed": false,
    "jupyter": {
     "outputs_hidden": false
    },
    "pycharm": {
     "name": "#%%\n"
    }
   },
   "outputs": [
    {
     "name": "stdout",
     "output_type": "stream",
     "text": [
      "Number of Total Tweets: 200000 \n",
      "\n",
      "<class 'pandas.core.frame.DataFrame'>\n",
      "Int64Index: 200000 entries, 1579365 to 1333811\n",
      "Data columns (total 6 columns):\n",
      " #   Column    Non-Null Count   Dtype \n",
      "---  ------    --------------   ----- \n",
      " 0   polarity  200000 non-null  int64 \n",
      " 1   id        200000 non-null  int64 \n",
      " 2   date      200000 non-null  object\n",
      " 3   query     200000 non-null  object\n",
      " 4   user      200000 non-null  object\n",
      " 5   tweet     200000 non-null  object\n",
      "dtypes: int64(2), object(4)\n",
      "memory usage: 10.7+ MB\n"
     ]
    }
   ],
   "source": [
    "import glob, re\n",
    "import numpy as np\n",
    "import pandas as pd\n",
    "import seaborn as sns\n",
    "import matplotlib.pyplot as plt\n",
    "\n",
    "from PIL import Image\n",
    "from tkinter import Tcl\n",
    "from skimage.io import imshow\n",
    "from sklearn import metrics as mt\n",
    "from sklearn import preprocessing\n",
    "%matplotlib inline\n",
    "\n",
    "le = preprocessing.LabelEncoder()\n",
    "\n",
    "# Load in Sentiment140 Dataset in pandas array\n",
    "df = pd.read_csv('../data/Sentiment140/training.1600000.processed.noemoticon.csv',\n",
    "                 names=['polarity', 'id', 'date', 'query', 'user', 'tweet'],\n",
    "                 encoding='ISO-8859-1')\n",
    "\n",
    "# Create sample (Remove later)\n",
    "df = df.sample(frac=1)\n",
    "df = df[:200000]\n",
    "\n",
    "print(\"Number of Total Tweets:\", len(df), \"\\n\")\n",
    "\n",
    "# Check if our dataset is missing any columns\n",
    "df.info()"
   ]
  },
  {
   "cell_type": "markdown",
   "metadata": {},
   "source": [
    "| Field | Description | Type |\n",
    "| ----- | ----------- | ---- |\n",
    "| **Polarity** | &nbsp;&nbsp;&nbsp; - The target/polarity of the tweet <br /> &nbsp;&nbsp; [0] Negative; [2] Neutral; [4] Positive; | Discrete |\n",
    "| **id**    | &nbsp;&nbsp;&nbsp; - The id of the tweet    | Discrete |\n",
    "| **date**  | &nbsp;&nbsp;&nbsp; - The date of the tweet  | Interval |\n",
    "| **query** | &nbsp;&nbsp;&nbsp; - The query | Nominal |\n",
    "| **user**  | &nbsp;&nbsp;&nbsp; - The user that tweeted  | nominal  |\n",
    "| **tweet**  | &nbsp;&nbsp;&nbsp; - The text of the tweet  | nominal  |"
   ]
  },
  {
   "cell_type": "code",
   "execution_count": 2,
   "metadata": {},
   "outputs": [
    {
     "data": {
      "text/plain": [
       "polarity         2\n",
       "id          199978\n",
       "date        175217\n",
       "query            1\n",
       "user        148449\n",
       "tweet       199135\n",
       "dtype: int64"
      ]
     },
     "execution_count": 2,
     "metadata": {},
     "output_type": "execute_result"
    },
    {
     "data": {
      "image/png": "[encoded data removed]",
      "text/plain": [
       "<Figure size 1800x720 with 2 Axes>"
      ]
     },
     "metadata": {
      "needs_background": "light"
     },
     "output_type": "display_data"
    }
   ],
   "source": [
    "import missingno as mn\n",
    "\n",
    "# Check for any missing/null values within dataset\n",
    "mn.matrix(df)\n",
    "\n",
    "# Find unique values within each field, before dropping columns.\n",
    "df.nunique()"
   ]
  },
  {
   "cell_type": "markdown",
   "metadata": {},
   "source": [
    "After outputting all of the unique values, we see that there is only 1 unique value\n",
    "within the query field, meaning that it will not make an impact when further doing\n",
    "our analysis because all the values are the same. Other fields that can be dropped\n",
    "are the user tweet id, username, iand date because these these do not impact whether a\n",
    "user's tweet is negative or positive.\n",
    "\n",
    "Addtionally we're able to see that there's 2 unique values within the polarity field,\n",
    "it is probably best to find out what these two values are and change them so that 0\n",
    "equals negative and 1 equals positive."
   ]
  },
  {
   "cell_type": "code",
   "execution_count": 3,
   "metadata": {},
   "outputs": [
    {
     "data": {
      "text/plain": [
       "array([4, 0])"
      ]
     },
     "execution_count": 3,
     "metadata": {},
     "output_type": "execute_result"
    }
   ],
   "source": [
    "# Drop the fields we don't need\n",
    "df.drop(['id', 'date', 'query','user'], axis=1, inplace=True)\n",
    "\n",
    "# Find the 2 unique polarity fields\n",
    "df['polarity'].unique()"
   ]
  },
  {
   "cell_type": "code",
   "execution_count": 4,
   "metadata": {},
   "outputs": [
    {
     "data": {
      "text/plain": [
       "Text(0, 0.5, 'Number of Tweets')"
      ]
     },
     "execution_count": 4,
     "metadata": {},
     "output_type": "execute_result"
    },
    {
     "data": {
      "image/png": "[encoded data removed]",
      "text/plain": [
       "<Figure size 432x288 with 1 Axes>"
      ]
     },
     "metadata": {
      "needs_background": "light"
     },
     "output_type": "display_data"
    }
   ],
   "source": [
    "# Change [4] to [1] so the data is easier to understand.\n",
    "df['polarity'] = df['polarity'].replace(4,1)\n",
    "\n",
    "# Visualize whether data is evenly divided in terms of the polarity of tweets.\n",
    "ax = sns.countplot(x=\"polarity\", data=df, palette=['red', 'blue'])\n",
    "ax.set_title('Distribution in Polarity within Tweets')\n",
    "ax.set_xlabel('Polarity')\n",
    "ax.set_xticks([0,1])\n",
    "ax.set_xticklabels(['[0] Negative', '[1] Positive'])\n",
    "ax.set_ylabel('Number of Tweets')"
   ]
  },
  {
   "cell_type": "code",
   "execution_count": 5,
   "metadata": {},
   "outputs": [
    {
     "name": "stdout",
     "output_type": "stream",
     "text": [
      "<class 'pandas.core.frame.DataFrame'>\n",
      "Int64Index: 200000 entries, 1579365 to 1333811\n",
      "Data columns (total 2 columns):\n",
      " #   Column    Non-Null Count   Dtype \n",
      "---  ------    --------------   ----- \n",
      " 0   polarity  200000 non-null  int64 \n",
      " 1   tweet     200000 non-null  object\n",
      "dtypes: int64(1), object(1)\n",
      "memory usage: 8.6+ MB\n"
     ]
    }
   ],
   "source": [
    "# Check for proper variable representations\n",
    "# Make all tweets lowercase for future processing\n",
    "df['tweet'] = df['tweet'].astype('str')\n",
    "df['tweet'] = df['tweet'].str.lower()\n",
    "\n",
    "df.info()"
   ]
  },
  {
   "cell_type": "markdown",
   "metadata": {},
   "source": [
    "#### &nbsp;&nbsp;&nbsp;&nbsp;&nbsp;&nbsp; 1.2 Text/Word Pre-processing"
   ]
  },
  {
   "cell_type": "markdown",
   "metadata": {},
   "source": [
    "For this section I used some of the most common text-preprocessing that are practiced\n",
    "in Natural Language Processing projects such as:     \n",
    "- Removing stop words     \n",
    "- Stemming words     \n",
    "- Lemmatizing words\n",
    "- Tokenizing individual words"
   ]
  },
  {
   "cell_type": "code",
   "execution_count": 6,
   "metadata": {},
   "outputs": [],
   "source": [
    "import nltk\n",
    "from nltk import TweetTokenizer\n",
    "from nltk.corpus import stopwords\n",
    "from nltk.corpus import wordnet as wn\n",
    "from nltk.stem import SnowballStemmer\n",
    "from nltk.tokenize import word_tokenize\n",
    "from nltk.stem import WordNetLemmatizer\n",
    "from tensorflow.keras.preprocessing.text import Tokenizer\n",
    "from tensorflow.keras.preprocessing.sequence import pad_sequences\n",
    "\n",
    "stemmer = SnowballStemmer('english')\n",
    "stop_words = set(stopwords.words('english'))"
   ]
  },
  {
   "cell_type": "code",
   "execution_count": 7,
   "metadata": {},
   "outputs": [
    {
     "data": {
      "text/html": [
       "<div>\n",
       "<style scoped>\n",
       "    .dataframe tbody tr th:only-of-type {\n",
       "        vertical-align: middle;\n",
       "    }\n",
       "\n",
       "    .dataframe tbody tr th {\n",
       "        vertical-align: top;\n",
       "    }\n",
       "\n",
       "    .dataframe thead th {\n",
       "        text-align: right;\n",
       "    }\n",
       "</style>\n",
       "<table border=\"1\" class=\"dataframe\">\n",
       "  <thead>\n",
       "    <tr style=\"text-align: right;\">\n",
       "      <th></th>\n",
       "      <th>polarity</th>\n",
       "      <th>tweet</th>\n",
       "    </tr>\n",
       "  </thead>\n",
       "  <tbody>\n",
       "    <tr>\n",
       "      <th>1579365</th>\n",
       "      <td>1</td>\n",
       "      <td>plane going new york city</td>\n",
       "    </tr>\n",
       "    <tr>\n",
       "      <th>498399</th>\n",
       "      <td>0</td>\n",
       "      <td>someone video taking forever</td>\n",
       "    </tr>\n",
       "    <tr>\n",
       "      <th>355117</th>\n",
       "      <td>0</td>\n",
       "      <td>tired work tomorrow</td>\n",
       "    </tr>\n",
       "    <tr>\n",
       "      <th>666097</th>\n",
       "      <td>0</td>\n",
       "      <td>never gone school trip never lol bad mum</td>\n",
       "    </tr>\n",
       "    <tr>\n",
       "      <th>399376</th>\n",
       "      <td>0</td>\n",
       "      <td>still possible</td>\n",
       "    </tr>\n",
       "    <tr>\n",
       "      <th>475934</th>\n",
       "      <td>0</td>\n",
       "      <td>miss epically long blonde sophomore hair</td>\n",
       "    </tr>\n",
       "    <tr>\n",
       "      <th>1007452</th>\n",
       "      <td>1</td>\n",
       "      <td>clean</td>\n",
       "    </tr>\n",
       "    <tr>\n",
       "      <th>867646</th>\n",
       "      <td>1</td>\n",
       "      <td>back jakarta bus ride plane today yay</td>\n",
       "    </tr>\n",
       "    <tr>\n",
       "      <th>862718</th>\n",
       "      <td>1</td>\n",
       "      <td>damp rather damp shall make delicious mexican ...</td>\n",
       "    </tr>\n",
       "    <tr>\n",
       "      <th>468446</th>\n",
       "      <td>0</td>\n",
       "      <td>rain pours</td>\n",
       "    </tr>\n",
       "    <tr>\n",
       "      <th>1100637</th>\n",
       "      <td>1</td>\n",
       "      <td>gon na eat dinner bye</td>\n",
       "    </tr>\n",
       "    <tr>\n",
       "      <th>1332898</th>\n",
       "      <td>1</td>\n",
       "      <td>yeah canadian province comm little le u steady...</td>\n",
       "    </tr>\n",
       "    <tr>\n",
       "      <th>808831</th>\n",
       "      <td>1</td>\n",
       "      <td>sitting couch thinking much study thinking cup...</td>\n",
       "    </tr>\n",
       "    <tr>\n",
       "      <th>1523260</th>\n",
       "      <td>1</td>\n",
       "      <td>temperamental good anyway watching taking pelh...</td>\n",
       "    </tr>\n",
       "    <tr>\n",
       "      <th>1411519</th>\n",
       "      <td>1</td>\n",
       "      <td>okeley dokers nice talking sleep tight pleasan...</td>\n",
       "    </tr>\n",
       "    <tr>\n",
       "      <th>847777</th>\n",
       "      <td>1</td>\n",
       "      <td>bought bought bike since 10 year old</td>\n",
       "    </tr>\n",
       "    <tr>\n",
       "      <th>1552266</th>\n",
       "      <td>1</td>\n",
       "      <td>girl crazy always bring buddy</td>\n",
       "    </tr>\n",
       "    <tr>\n",
       "      <th>474453</th>\n",
       "      <td>0</td>\n",
       "      <td>talk soon</td>\n",
       "    </tr>\n",
       "    <tr>\n",
       "      <th>1183414</th>\n",
       "      <td>1</td>\n",
       "      <td>big fish</td>\n",
       "    </tr>\n",
       "    <tr>\n",
       "      <th>1308722</th>\n",
       "      <td>1</td>\n",
       "      <td>need update starting tomorrow tweet atleast da...</td>\n",
       "    </tr>\n",
       "  </tbody>\n",
       "</table>\n",
       "</div>"
      ],
      "text/plain": [
       "         polarity                                              tweet\n",
       "1579365         1                          plane going new york city\n",
       "498399          0                       someone video taking forever\n",
       "355117          0                                tired work tomorrow\n",
       "666097          0           never gone school trip never lol bad mum\n",
       "399376          0                                     still possible\n",
       "475934          0           miss epically long blonde sophomore hair\n",
       "1007452         1                                              clean\n",
       "867646          1              back jakarta bus ride plane today yay\n",
       "862718          1  damp rather damp shall make delicious mexican ...\n",
       "468446          0                                         rain pours\n",
       "1100637         1                              gon na eat dinner bye\n",
       "1332898         1  yeah canadian province comm little le u steady...\n",
       "808831          1  sitting couch thinking much study thinking cup...\n",
       "1523260         1  temperamental good anyway watching taking pelh...\n",
       "1411519         1  okeley dokers nice talking sleep tight pleasan...\n",
       "847777          1               bought bought bike since 10 year old\n",
       "1552266         1                      girl crazy always bring buddy\n",
       "474453          0                                          talk soon\n",
       "1183414         1                                           big fish\n",
       "1308722         1  need update starting tomorrow tweet atleast da..."
      ]
     },
     "execution_count": 7,
     "metadata": {},
     "output_type": "execute_result"
    }
   ],
   "source": [
    "# ============ 1.) Removing HTML Tags, URLs, HashTags, Email Addresses, & tagged usernames with RegEx\n",
    "\n",
    "# Parse through each of the tweets by using regular expressions to remove specific parts of the text\n",
    "# RegEx Reference: https://github.com/alvations/nltk/blob/develop/nltk/tokenize/casual.py#L122\n",
    "char_rm = \"@\\S+|https?:\\S+|http?:\\S|[^A-Za-z0-9]+\"\n",
    "hashtag, username=r\"\"\"(?:\\#+[\\w_]+[\\w\\'_\\-]*[\\w_]+)\"\"\", r\"\"\"(?:@[\\w_]+)\"\"\"\n",
    "emailAddr,htmlTags,=r\"\"\"[\\w.+-]+@[\\w-]+\\.(?:[\\w-]\\.?)+[\\w-]\"\"\", r\"\"\"<[^>\\s]+>\"\"\"\n",
    "urls=r\"\"\"(?:https?:(?:/{1,3}|[a-z0-9%])|[a-z0-9.\\-]+[.](?:[a-z]{2,13})/)(?:[^\\s()<>\n",
    "    {}\\[\\]]+|\\([^\\s()]*?\\([^\\s()]+\\)[^\\s()]*?\\)|\\([^\\s]+?\\))+(?:\\([^\\s()]*?\\([^\\s()]\n",
    "    +\\)[^\\s()]*?\\)|\\([^\\s]+?\\)|[^\\s`!()\\[\\]{};:'\".,<>?«»“”‘’])|(?:(?<!@)[a-z0-9]+(?:\n",
    "    [.\\-][a-z0-9]+)*[.](?:[a-z]{2,13})\\b/?(?!@))\"\"\"\n",
    "\n",
    "# Remove : hashtags, usernames, htmltags\n",
    "df['tweet'] = df['tweet'].replace(urls, \"\" ,regex=True)\n",
    "df['tweet'] = df['tweet'].replace(username, \"\" ,regex=True)\n",
    "df['tweet'] = df['tweet'].replace(hashtag, \"\" ,regex=True)\n",
    "df['tweet'] = df['tweet'].replace(htmlTags, \"\" ,regex=True)\n",
    "\n",
    "\n",
    "\n",
    "# ============ 2.) Tokenizing words, removing stop words, changing words back to their stem word and lemmatizing words\n",
    "\n",
    "# The following code was modeled after a snippet of code here:\n",
    "# https://www.traindex.io/blog/event-driven-data-pipelines-in-aws-480i/\n",
    "def preprocess(tweet, stem=False):\n",
    "    # Remove link, user and special characters\n",
    "    tweet = re.sub(char_rm, ' ', str(tweet)).strip()\n",
    "    tweet_token = word_tokenize(tweet)\n",
    "    tokens = []\n",
    "    for token in tweet_token:\n",
    "        if token not in stop_words:\n",
    "            if stem:\n",
    "                tokens.append(stemmer.stem(token))\n",
    "            else:\n",
    "                tokens.append(token)\n",
    "    wordLemm = WordNetLemmatizer()\n",
    "    finalwords=[]\n",
    "    for w in tokens:\n",
    "        if len(w)>1:\n",
    "            word = wordLemm.lemmatize(w)\n",
    "            finalwords.append(word)\n",
    "    return ' '.join(finalwords)\n",
    "\n",
    "\n",
    "df['tweet'] = df['tweet'].apply(lambda x: preprocess(x))\n",
    "\n",
    "df.head(20)"
   ]
  },
  {
   "cell_type": "markdown",
   "metadata": {
    "pycharm": {
     "name": "#%% md\n"
    }
   },
   "source": [
    "For my final dataset that I will be using for my classification problem, in regards of\n",
    "predicting whether a tweet is positive or negative, I selected to use only 2 columns:\n",
    "- Polarity : Whether a tweet in negative or positive ([0] negative; [1] Positive;)\n",
    "- Tweet : The text of a given tweet "
   ]
  },
  {
   "cell_type": "markdown",
   "metadata": {
    "pycharm": {
     "name": "#%% md\n"
    }
   },
   "source": [
    "### &nbsp;&nbsp;&nbsp;&nbsp;&nbsp;&nbsp; 1.3 Choosing a Metric"
   ]
  },
  {
   "cell_type": "markdown",
   "metadata": {},
   "source": [
    "As for metrics, for this specific classification problem, it is very easy to\n",
    "know that I will be using accuracy as a metric to evaluate my algorithms's \n",
    "performance.It will use binary cross entropy as it's loss function given\n",
    "the values of the polarity column are 0 and 1."
   ]
  },
  {
   "cell_type": "markdown",
   "metadata": {
    "pycharm": {
     "name": "#%% md\n"
    }
   },
   "source": [
    "### &nbsp;&nbsp;&nbsp;&nbsp;&nbsp;&nbsp; 1.4 Creating Training & Testing Data"
   ]
  },
  {
   "cell_type": "code",
   "execution_count": 12,
   "metadata": {
    "collapsed": false,
    "jupyter": {
     "outputs_hidden": false
    },
    "pycharm": {
     "name": "#%%\n"
    }
   },
   "outputs": [
    {
     "name": "stdout",
     "output_type": "stream",
     "text": [
      "Found 72776 unique tokens. Distilled to 72776 top words.\n",
      "Shape of data tensor: (200000, 1000)\n",
      "Shape of label tensor: (200000, 2)\n",
      "72776\n",
      "Total words 72777\n"
     ]
    },
    {
     "ename": "ValueError",
     "evalue": "invalid literal for int() with base 10: 'polarity'",
     "output_type": "error",
     "traceback": [
      "\u001b[0;31m---------------------------------------------------------------------------\u001b[0m",
      "\u001b[0;31mValueError\u001b[0m                                Traceback (most recent call last)",
      "\u001b[0;32m<ipython-input-12-fccb0528cf96>\u001b[0m in \u001b[0;36m<module>\u001b[0;34m\u001b[0m\n\u001b[1;32m     41\u001b[0m \u001b[0mMAX_WORDS\u001b[0m \u001b[0;34m=\u001b[0m \u001b[0;36m10000\u001b[0m\u001b[0;34m\u001b[0m\u001b[0;34m\u001b[0m\u001b[0m\n\u001b[1;32m     42\u001b[0m \u001b[0mMAX_REV_LENGTH\u001b[0m \u001b[0;34m=\u001b[0m \u001b[0;36m30\u001b[0m\u001b[0;34m\u001b[0m\u001b[0;34m\u001b[0m\u001b[0m\n\u001b[0;32m---> 43\u001b[0;31m \u001b[0mX_train\u001b[0m \u001b[0;34m=\u001b[0m \u001b[0mpad_sequences\u001b[0m\u001b[0;34m(\u001b[0m\u001b[0mX_train\u001b[0m\u001b[0;34m,\u001b[0m \u001b[0mmaxlen\u001b[0m\u001b[0;34m=\u001b[0m\u001b[0mMAX_REV_LENGTH\u001b[0m\u001b[0;34m)\u001b[0m\u001b[0;34m\u001b[0m\u001b[0;34m\u001b[0m\u001b[0m\n\u001b[0m\u001b[1;32m     44\u001b[0m \u001b[0mX_test\u001b[0m \u001b[0;34m=\u001b[0m \u001b[0mpad_sequences\u001b[0m\u001b[0;34m(\u001b[0m\u001b[0mX_test\u001b[0m\u001b[0;34m,\u001b[0m \u001b[0mmaxlen\u001b[0m\u001b[0;34m=\u001b[0m\u001b[0mMAX_REV_LENGTH\u001b[0m\u001b[0;34m)\u001b[0m\u001b[0;34m\u001b[0m\u001b[0;34m\u001b[0m\u001b[0m\n\u001b[1;32m     45\u001b[0m \u001b[0;34m\u001b[0m\u001b[0m\n",
      "\u001b[0;32m~/anaconda3/envs/ML/lib/python3.8/site-packages/tensorflow/python/keras/preprocessing/sequence.py\u001b[0m in \u001b[0;36mpad_sequences\u001b[0;34m(sequences, maxlen, dtype, padding, truncating, value)\u001b[0m\n\u001b[1;32m    154\u001b[0m           \u001b[0;32mor\u001b[0m \u001b[0;32min\u001b[0m \u001b[0mcase\u001b[0m \u001b[0mof\u001b[0m \u001b[0minvalid\u001b[0m \u001b[0mshape\u001b[0m \u001b[0;32mfor\u001b[0m \u001b[0ma\u001b[0m\u001b[0;31m \u001b[0m\u001b[0;31m`\u001b[0m\u001b[0msequences\u001b[0m\u001b[0;31m`\u001b[0m \u001b[0mentry\u001b[0m\u001b[0;34m.\u001b[0m\u001b[0;34m\u001b[0m\u001b[0;34m\u001b[0m\u001b[0m\n\u001b[1;32m    155\u001b[0m   \"\"\"\n\u001b[0;32m--> 156\u001b[0;31m   return sequence.pad_sequences(\n\u001b[0m\u001b[1;32m    157\u001b[0m       \u001b[0msequences\u001b[0m\u001b[0;34m,\u001b[0m \u001b[0mmaxlen\u001b[0m\u001b[0;34m=\u001b[0m\u001b[0mmaxlen\u001b[0m\u001b[0;34m,\u001b[0m \u001b[0mdtype\u001b[0m\u001b[0;34m=\u001b[0m\u001b[0mdtype\u001b[0m\u001b[0;34m,\u001b[0m\u001b[0;34m\u001b[0m\u001b[0;34m\u001b[0m\u001b[0m\n\u001b[1;32m    158\u001b[0m       padding=padding, truncating=truncating, value=value)\n",
      "\u001b[0;32m~/anaconda3/envs/ML/lib/python3.8/site-packages/keras_preprocessing/sequence.py\u001b[0m in \u001b[0;36mpad_sequences\u001b[0;34m(sequences, maxlen, dtype, padding, truncating, value)\u001b[0m\n\u001b[1;32m     96\u001b[0m \u001b[0;34m\u001b[0m\u001b[0m\n\u001b[1;32m     97\u001b[0m         \u001b[0;31m# check `trunc` has expected shape\u001b[0m\u001b[0;34m\u001b[0m\u001b[0;34m\u001b[0m\u001b[0;34m\u001b[0m\u001b[0m\n\u001b[0;32m---> 98\u001b[0;31m         \u001b[0mtrunc\u001b[0m \u001b[0;34m=\u001b[0m \u001b[0mnp\u001b[0m\u001b[0;34m.\u001b[0m\u001b[0masarray\u001b[0m\u001b[0;34m(\u001b[0m\u001b[0mtrunc\u001b[0m\u001b[0;34m,\u001b[0m \u001b[0mdtype\u001b[0m\u001b[0;34m=\u001b[0m\u001b[0mdtype\u001b[0m\u001b[0;34m)\u001b[0m\u001b[0;34m\u001b[0m\u001b[0;34m\u001b[0m\u001b[0m\n\u001b[0m\u001b[1;32m     99\u001b[0m         \u001b[0;32mif\u001b[0m \u001b[0mtrunc\u001b[0m\u001b[0;34m.\u001b[0m\u001b[0mshape\u001b[0m\u001b[0;34m[\u001b[0m\u001b[0;36m1\u001b[0m\u001b[0;34m:\u001b[0m\u001b[0;34m]\u001b[0m \u001b[0;34m!=\u001b[0m \u001b[0msample_shape\u001b[0m\u001b[0;34m:\u001b[0m\u001b[0;34m\u001b[0m\u001b[0;34m\u001b[0m\u001b[0m\n\u001b[1;32m    100\u001b[0m             raise ValueError('Shape of sample %s of sequence at position %s '\n",
      "\u001b[0;32m~/anaconda3/envs/ML/lib/python3.8/site-packages/numpy/core/_asarray.py\u001b[0m in \u001b[0;36masarray\u001b[0;34m(a, dtype, order)\u001b[0m\n\u001b[1;32m     81\u001b[0m \u001b[0;34m\u001b[0m\u001b[0m\n\u001b[1;32m     82\u001b[0m     \"\"\"\n\u001b[0;32m---> 83\u001b[0;31m     \u001b[0;32mreturn\u001b[0m \u001b[0marray\u001b[0m\u001b[0;34m(\u001b[0m\u001b[0ma\u001b[0m\u001b[0;34m,\u001b[0m \u001b[0mdtype\u001b[0m\u001b[0;34m,\u001b[0m \u001b[0mcopy\u001b[0m\u001b[0;34m=\u001b[0m\u001b[0;32mFalse\u001b[0m\u001b[0;34m,\u001b[0m \u001b[0morder\u001b[0m\u001b[0;34m=\u001b[0m\u001b[0morder\u001b[0m\u001b[0;34m)\u001b[0m\u001b[0;34m\u001b[0m\u001b[0;34m\u001b[0m\u001b[0m\n\u001b[0m\u001b[1;32m     84\u001b[0m \u001b[0;34m\u001b[0m\u001b[0m\n\u001b[1;32m     85\u001b[0m \u001b[0;34m\u001b[0m\u001b[0m\n",
      "\u001b[0;31mValueError\u001b[0m: invalid literal for int() with base 10: 'polarity'"
     ]
    }
   ],
   "source": [
    "# - Choose the method I'll use for dividing my data into training and testing (i.e., am I  using Stratified 10-fold cross validation? Shuffle splits? Why?).\n",
    "import tensorflow.keras as keras\n",
    "from sklearn.model_selection import train_test_split\n",
    "from sklearn.feature_extraction.text import TfidfVectorizer\n",
    "\n",
    "# Method 1 Splits Dataset into Training and Testing set\n",
    "# X_train, X_test = train_test_split(df, test_size=0.2 ,random_state=7) \n",
    "# print(\"Train Data size:\", len(X_train))\n",
    "# print(\"Test Data size:\", len(X_test))\n",
    "\n",
    "NUM_TOP_WORDS = None # use entire vocabulary!\n",
    "MAX_ART_LEN = 1000 # maximum and minimum number of words\n",
    "\n",
    "#tokenize the text\n",
    "tokenizer = Tokenizer(num_words=NUM_TOP_WORDS)\n",
    "tokenizer.fit_on_texts(df.tweet)\n",
    "# save as sequences with integers replacing words\n",
    "sequences = tokenizer.texts_to_sequences(df.tweet)\n",
    "\n",
    "word_index = tokenizer.word_index\n",
    "NUM_TOP_WORDS = len(word_index) if NUM_TOP_WORDS==None else NUM_TOP_WORDS\n",
    "top_words = min((len(word_index),NUM_TOP_WORDS))\n",
    "print('Found %s unique tokens. Distilled to %d top words.' % (len(word_index),top_words))\n",
    "\n",
    "X = pad_sequences(sequences, maxlen=MAX_ART_LEN)\n",
    "\n",
    "y_ohe = keras.utils.to_categorical(df.polarity)\n",
    "print('Shape of data tensor:', X.shape)\n",
    "print('Shape of label tensor:', y_ohe.shape)\n",
    "print(np.max(X))\n",
    "\n",
    "tokenizer = Tokenizer()\n",
    "tokenizer.fit_on_texts(df['tweet'])\n",
    "\n",
    "vocab_size = len(tokenizer.word_index) + 1\n",
    "print(\"Total words\", vocab_size)\n",
    "\n",
    "# Applying 80/20 split \n",
    "X_train, X_test = train_test_split(df, test_size=0.2, random_state=101)\n",
    "\n",
    "MAX_WORDS = 10000\n",
    "MAX_REV_LENGTH = 30\n",
    "X_train = pad_sequences(X_train, maxlen=MAX_REV_LENGTH)\n",
    "X_test = pad_sequences(X_test, maxlen=MAX_REV_LENGTH)\n",
    "\n",
    "#X, y = df['tweet'], df['polarity']\n",
    "\n",
    "#tfidf_vect = TfidfVectorizer()\n",
    "#X = tfidf_vect.fit_transform(X)\n",
    "\n",
    "# convert to pandas to get a better view/understanding\n",
    "#df_New = pd.DataFrame(data=X.toarray(),columns=tfidf_vect.get_feature_names())\n",
    "#X_train, X_test, y_train, y_test = train_test_split(X, y, test_size=0.2, random_state=47)\n",
    "#le.fit(X_train['polarity'].unique.tolist())\n",
    "le.fit(X_train['polarity'].tolist())\n",
    "\n",
    "y_train = le.transform(X_train['polarity'].tolist())\n",
    "y_test = le.transform(X_test['polarity'].tolist())\n",
    "\n",
    "y_train, y_test = y_train.reshape(-1,1), y_test.reshape(-1,1)\n",
    "\n",
    "print(\"======= Train Shapes ======\")\n",
    "print('Train :', X_train.shape, '\\nTest  :', y_train.shape)\n",
    "print(\"\\n====== Testing Shapes ======\")\n",
    "print('Train :', X_test.shape, '\\nTest  :', y_test.shape)"
   ]
  },
  {
   "cell_type": "markdown",
   "metadata": {
    "pycharm": {
     "name": "#%% md\n"
    }
   },
   "source": [
    "- Explain why my chosen method is appropriate or use more than one method as appropriate.\n",
    "- Convince me that my cross validation method is a realistic mirroring of how an algorithm would be used in practice."
   ]
  },
  {
   "cell_type": "markdown",
   "metadata": {
    "pycharm": {
     "name": "#%% md\n"
    }
   },
   "source": [
    "-----------------------------\n",
    "\n",
    "## 2. Modeling | You're @ a C, keep going bro.\n",
    "\n",
    "### &nbsp;&nbsp;&nbsp;&nbsp;&nbsp;&nbsp; 2.1 Exploring Recurrent Network Architectures"
   ]
  },
  {
   "cell_type": "code",
   "execution_count": null,
   "metadata": {},
   "outputs": [],
   "source": [
    "# Import Keras libraries\n",
    "\n",
    "import tensorflow.keras as keras\n",
    "from tensorflow.keras.utils import plot_model\n",
    "from tensorflow.keras.models import Sequential, Model\n",
    "from tensorflow.keras.layers import average, Reshape, Input, Add, SimpleRNN\n",
    "from tensorflow.keras.layers import Dense, Dropout, Activation, Flatten, GRU\n",
    "from tensorflow.keras.layers import SeparableConv2D, BatchNormalization, LSTM\n",
    "from tensorflow.keras.layers import Conv1D, Conv2D, MaxPooling2D, concatenate\n",
    "from tensorflow.keras.layers import Embedding, SpatialDropout1D, Bidirectional\n",
    "from tensorflow.keras.callbacks import EarlyStopping\n",
    "from tensorflow.keras.regularizers import l2\n",
    "from tensorflow.keras.optimizers import Adam\n",
    "from tensorflow.keras.optimizers.schedules import ExponentialDecay\n",
    "from tensorflow.keras.preprocessing.image import ImageDataGenerator"
   ]
  },
  {
   "cell_type": "code",
   "execution_count": null,
   "metadata": {},
   "outputs": [],
   "source": [
    "# Graph comparing Training & Validation Vs. Accuracy & Training loss\n",
    "def getChart(h):\n",
    "    plt.figure(figsize=(10,4))\n",
    "    plt.subplot(2,2,1)\n",
    "    plt.plot(h.history['accuracy'])\n",
    "    \n",
    "    plt.ylabel('Accuracy %')\n",
    "    plt.title('Training')\n",
    "    plt.subplot(2,2,2)\n",
    "    plt.plot(h.history['val_accuracy'])\n",
    "    plt.title('Validation')\n",
    "    \n",
    "    plt.subplot(2,2,3)\n",
    "    plt.plot(h.history['loss'])\n",
    "    plt.ylabel('Training Loss')\n",
    "    plt.xlabel('epochs')\n",
    "    \n",
    "    plt.subplot(2,2,4)\n",
    "    plt.plot(h.history['val_loss'])\n",
    "    plt.xlabel('epochs')\n",
    "\n",
    "# Graph comparing Training & Validation Vs. Accuracy & Training loss\n",
    "def getCharts(h1, h2, h3, h4):\n",
    "    plt.figure(figsize=(10,8))\n",
    "    plt.subplot(2,2,1)\n",
    "    ax1 = sns.lineplot(data=h1.history['accuracy'], label='LeNet - AdaM', color='blue')\n",
    "    sns.lineplot(data=h2.history['accuracy'], label='LeNet - RMSProp', color='red')\n",
    "    sns.lineplot(data=h3.history['accuracy'], label='Xception - AdaM', color='green')\n",
    "    sns.lineplot(data=h4.history['accuracy'], label='Xception - RMSProp ', color='darkorange')\n",
    "    \n",
    "    plt.ylabel('Accuracy %')\n",
    "    plt.title('Training')\n",
    "    plt.subplot(2,2,2)\n",
    "    ax2 = sns.lineplot(data=h1.history['val_accuracy'], label='LeNet - AdaM', color='blue')\n",
    "    sns.lineplot(data=h2.history['val_accuracy'], label='LeNet - RMSProp', color='red')\n",
    "    sns.lineplot(data=h3.history['val_accuracy'], label='Xception - AdaM', color='green')\n",
    "    sns.lineplot(data=h4.history['val_accuracy'], label='Xception - RMSProp', color='darkorange')\n",
    "    plt.title('Validation')\n",
    "    \n",
    "    plt.subplot(2,2,3)\n",
    "    ax3 = sns.lineplot(data=h1.history['loss'], label='LeNet - AdaM', color='blue')\n",
    "    sns.lineplot(data=h2.history['loss'], label='LeNet - RMSProp', color='red')\n",
    "    sns.lineplot(data=h3.history['loss'], label='Xception - AdaM', color='green')\n",
    "    sns.lineplot(data=h4.history['loss'], label='Xception - RMSProp', color='darkorange')\n",
    "    plt.ylabel('Training Loss')\n",
    "    plt.xlabel('epochs')\n",
    "    \n",
    "    plt.subplot(2,2,4)\n",
    "    ax4 = sns.lineplot(data=h1.history['val_loss'], label='LeNet - AdaM', color='blue')\n",
    "    sns.lineplot(data=h2.history['val_loss'], label='LeNet - RMSProp', color='red')\n",
    "    sns.lineplot(data=h3.history['val_loss'], label='Xception - AdaM', color='green')\n",
    "    sns.lineplot(data=h4.history['val_loss'], label='Xception - RMSProp', color='darkorange')\n",
    "    plt.xlabel('epochs')"
   ]
  },
  {
   "cell_type": "markdown",
   "metadata": {},
   "source": [
    "##### &nbsp;&nbsp;&nbsp;&nbsp;&nbsp;&nbsp; 2.2.1 Method 1: GRU Architecture (45%)\n",
    "\n",
    "A Gated Recurrent Network, or GRU\n",
    "- Be sure to use an embedding layer (pre-trained, from scratch, OR both).\n",
    "- Adjust hyper-parameters of the networks as needed to improve generalization performance."
   ]
  },
  {
   "cell_type": "code",
   "execution_count": null,
   "metadata": {},
   "outputs": [],
   "source": [
    "#################################################################################\n",
    "######################## GRU Style Architecture : AdaM ##########################\n",
    "#################################################################################\n",
    "max_words = 10000\n",
    "max_length = 30\n",
    "shpe = (max_length,)\n",
    "embed_Size = 50\n",
    "rnn_StateSize = 100\n",
    "\n",
    "rnns = []\n",
    "input_holder = Input(shape=(X_train.shape[1], ))\n",
    "shared_embed = Embedding(max_words,             # input dimension (max int of OHE)\n",
    "                embed_Size,                     # output dimension size\n",
    "                input_length=max_length)(input_holder) # number of words in each sequence\n",
    "\n",
    "\n",
    "\n",
    "# create GRU\n",
    "x1 = GRU(rnn_StateSize, dropout=0.2, recurrent_dropout=0.2)(shared_embed)\n",
    "x1 = Dense(1, activation='sigmoid')(x1)\n",
    "gru_1 = Model(inputs=input_holder,outputs=x1)\n",
    "\n",
    "print(gru_1.summary())"
   ]
  },
  {
   "cell_type": "code",
   "execution_count": null,
   "metadata": {},
   "outputs": [],
   "source": [
    "%%time\n",
    "\n",
    "\n",
    "opt1 = Adam(lr=0.0001, epsilon=0.0001, clipnorm=1.0)\n",
    "gru_1.compile(loss='binary_crossentropy', optimizer='adam', metrics=['accuracy'])\n",
    "\n",
    "history_GRU1 = gru_1.fit(X_train, y_train_ohe, batch_size=128, \n",
    "                         epochs=50, verbose=1, validation_data=(X_test,y_test_ohe),\n",
    "                         callbacks=[EarlyStopping(monitor='val_loss', patience=4)])\n",
    "\n",
    "yhat = np.round(gru_1.predict(X_test))\n",
    "print(mt.classification_report(y_test_ohe, yhat, zero_division=0))\n",
    "getChart(history_GRU1)"
   ]
  },
  {
   "cell_type": "code",
   "execution_count": null,
   "metadata": {},
   "outputs": [],
   "source": [
    "# Be sure to use an embedding layer (pre-trained, from scratch, OR both).\n",
    "# Adjust hyper-parameters of the networks as needed to improve generalization performance."
   ]
  },
  {
   "cell_type": "code",
   "execution_count": null,
   "metadata": {},
   "outputs": [],
   "source": [
    "#################################################################################\n",
    "######################## GRU Style Architecture : RMSProp #######################\n",
    "#################################################################################\n",
    "\n",
    "shared_embed = Embedding(max_words,             # input dimension (max int of OHE)\n",
    "                embed_Size,                     # output dimension size\n",
    "                input_length=max_length)(input_holder) # number of words in each sequence\n",
    "\n",
    "\n",
    "\n",
    "# create GRU\n",
    "x1 = GRU(rnn_StateSize, dropout=0.2, recurrent_dropout=0.2)(shared_embed)\n",
    "x1 = Dense(1, activation='sigmoid')(x1)\n",
    "gru_1 = Model(inputs=input_holder,outputs=x1)\n",
    "\n",
    "opt = Adam(lr=0.0001, epsilon=0.0001, clipnorm=1.0)\n",
    "\n",
    "print(gru_1.summary())"
   ]
  },
  {
   "cell_type": "code",
   "execution_count": null,
   "metadata": {},
   "outputs": [],
   "source": [
    "%%time\n",
    "\n",
    "opt2 = Adam(lr=0.0001, epsilon=0.0001, clipnorm=1.0)\n",
    "gru_2.compile(loss='binary_crossentropy', optimizer='rmsprop', metrics=['accuracy'])\n",
    "\n",
    "history_GRU2 = gru_2.fit(X_train, y_train_ohe, batch_size=128,\n",
    "                         epochs=50, verbose=1, validation_data=(X_test,y_test_ohe),\n",
    "                         callbacks=[EarlyStopping(monitor='val_loss', patience=4)])\n",
    "\n",
    "yhat = np.round(gru_2.predict(X_test))\n",
    "print(mt.classification_report(y_test_ohe, yhat, zero_division=0))\n",
    "getChart(history_GRU2)"
   ]
  },
  {
   "cell_type": "code",
   "execution_count": null,
   "metadata": {},
   "outputs": [],
   "source": [
    "# Be sure to use an embedding layer (pre-trained, from scratch, OR both).\n",
    "# Adjust hyper-parameters of the networks as needed to improve generalization performance."
   ]
  },
  {
   "cell_type": "markdown",
   "metadata": {},
   "source": [
    "##### &nbsp;&nbsp;&nbsp;&nbsp;&nbsp;&nbsp; 2.2.2 Method 2: LTSM  Architecture (60%)\n",
    "\n",
    "A \"long short-term memory\" units, or LSTM"
   ]
  },
  {
   "cell_type": "code",
   "execution_count": null,
   "metadata": {
    "collapsed": false,
    "jupyter": {
     "outputs_hidden": false
    },
    "pycharm": {
     "name": "#%%\n"
    }
   },
   "outputs": [],
   "source": [
    "##################################################################################\n",
    "######################## LSTM Style Architecture : AdaM ##########################\n",
    "##################################################################################\n",
    "shpe = (h,w,1)\n",
    "max_words = 10000\n",
    "max_length = 30\n",
    "shpe = (max_length,)\n",
    "l2_lambda = 0.000001\n",
    "\n",
    "input_holder = Input(shape=shpe, dtype='int32')\n",
    "\n",
    "# Embedding Layer ================================================================\n",
    "x3 = Embedding(vocab_size, EMBEDDING_DIM, weights=[embedding_matrix],\n",
    "               input_length=max_length,\n",
    "               trainable=False)(input_holder)\n",
    "\n",
    "# Spatial Dropout Layer ==========================================================\n",
    "x3 = SpatialDropout1D(0.2)(x3)\n",
    "x3 = Activation('relu')(x3)\n",
    "\n",
    "# Convolution Layer ==============================================================\n",
    "x3 = Conv1D(64,5)(x3)\n",
    "\n",
    "# LSTM Layer =====================================================================\n",
    "x3 = LSTM(64, dropout=0.2, recurrent_dropout=0.2)(x3)\n",
    "\n",
    "# Bidirectional Layer ============================================================\n",
    "x3 = Bidirectional(x3)(x3)\n",
    "x3 = Activation(\"relu\")(x3)\n",
    "x3 = Dense(512)(x3)\n",
    "x3 = Dropout(0.5)(x3)\n",
    "\n",
    "x3 = Activation(\"relu\")(x3)\n",
    "x3 = Dropout(0.5)(x3)\n",
    "\n",
    "x3 = Activation(\"relu\")(x3)\n",
    "x3 = Dense(512)(x3)\n",
    "\n",
    "x3 = Activation(\"sigmoid\")(x3)\n",
    "x3 = Dense(1)(x3)\n",
    "\n",
    "lstm_1 = Model(inputs=input_holder,outputs=x3)"
   ]
  },
  {
   "cell_type": "code",
   "execution_count": null,
   "metadata": {},
   "outputs": [],
   "source": [
    "%%time\n",
    "\n",
    "lstm_1.compile(loss='binary_crossentropy', optimizer='adam', metrics=['accuracy'])\n",
    "\n",
    "history_LSTM1 = lstm_1.fit(X_train, y_train_ohe, batch_size=128,\n",
    "                           epochs=50, verbose=1, validation_data=(X_test,y_test_ohe),\n",
    "                           callbacks=[EarlyStopping(monitor='val_loss', patience=4)])\n",
    "\n",
    "yhat = np.round(lstm_1.predict(X_test))\n",
    "print(mt.classification_report(y_test_ohe, yhat, zero_division=0))\n",
    "getChart(history_LSTM1)"
   ]
  },
  {
   "cell_type": "code",
   "execution_count": null,
   "metadata": {},
   "outputs": [],
   "source": [
    "# Be sure to use an embedding layer (pre-trained, from scratch, OR both).\n",
    "# Adjust hyper-parameters of the networks as needed to improve generalization performance."
   ]
  },
  {
   "cell_type": "code",
   "execution_count": null,
   "metadata": {
    "collapsed": false,
    "jupyter": {
     "outputs_hidden": false
    },
    "pycharm": {
     "name": "#%%\n"
    }
   },
   "outputs": [],
   "source": [
    "##################################################################################\n",
    "######################## LSTM Style Architecture : RMSProp #######################\n",
    "##################################################################################\n",
    "\n",
    "\n",
    "# - Using the best RNN parameters & architecture, add a second recurrent chain to my RNN.\n",
    "# - The input to the second chain should be the output sequence of the first chain.\n",
    "   \n",
    "# Embedding Layer ================================================================\n",
    "x4 = Embedding(input_dim=vocab_size, output_dim=embedding_dim,\n",
    "               input_length=max_length, weights=[embedding_matrix],\n",
    "               trainable=False)(x4)\n",
    "\n",
    "# Bidirectional Layer ============================================================ \n",
    "# x4 = LSTM(64,dropout=0.3,return_sequences=True)(x4)\n",
    "# x4 = Bidirectional(x4)(x4)\n",
    "x4 = Bidirectional(LSTM(64,dropout=0.3,return_sequences=True)),\n",
    "x4 = Dropout(0.3),\n",
    "\n",
    "\n",
    "# Bidirectional Layer ============================================================ \n",
    "# x4 = Dropout(0.3)(x4)\n",
    "# x4 = LSTM(64)(x4)\n",
    "# x4 = Bidirectional(x4)(x4)\n",
    "x4 = Bidirectional(LSTM(64,dropout=0.3))(x4)\n",
    "x4 = Dropout(0.3)(x4)\n",
    "\n",
    "x4 = Activation(\"relu\")(x4)\n",
    "x4 = Dense(512)(x4)\n",
    "x4 = Dropout(0.3)(x4)\n",
    "                  \n",
    "x4 = Activation(\"sigmoid\")(x4)\n",
    "x4 = Dense(1)(x4)\n",
    "\n",
    "model = keras.models.Sequential([\n",
    "      \n"
   ]
  },
  {
   "cell_type": "code",
   "execution_count": null,
   "metadata": {},
   "outputs": [],
   "source": [
    "%%time\n",
    "\n",
    "lstm_2.compile(loss='binary_crossentropy', optimizer='adam',metrics=['accuracy'])\n",
    "\n",
    "history_LSTM2 = lstm_2.fit(X_train, y_train_ohe, batch_size=128,\n",
    "                           epochs=50, verbose=1, validation_data=(X_test,y_test_ohe),\n",
    "                           callbacks=[EarlyStopping(monitor='val_loss', patience=4)])\n",
    "\n",
    "yhat = np.round(lstm_2.predict(X_test))\n",
    "print(mt.classification_report(y_test_ohe, yhat, zero_division=0))\n",
    "getChart(history_LSTM2)"
   ]
  },
  {
   "cell_type": "code",
   "execution_count": null,
   "metadata": {},
   "outputs": [],
   "source": [
    "\n",
    "\n",
    "# Be sure to use an embedding layer (pre-trained, from scratch, OR both).\n",
    "# Adjust hyper-parameters of the networks as needed to improve generalization performance."
   ]
  },
  {
   "cell_type": "markdown",
   "metadata": {
    "pycharm": {
     "name": "#%% md\n"
    }
   },
   "source": [
    "- Discuss the performance of each network & compare them.\n"
   ]
  },
  {
   "cell_type": "markdown",
   "metadata": {
    "pycharm": {
     "name": "#%% md\n"
    }
   },
   "source": [
    "### &nbsp;&nbsp;&nbsp;&nbsp;&nbsp;&nbsp; 2.2 Adding a 2nd recurrent chain"
   ]
  },
  {
   "cell_type": "code",
   "execution_count": null,
   "metadata": {
    "collapsed": false,
    "jupyter": {
     "outputs_hidden": false
    },
    "pycharm": {
     "name": "#%%\n"
    }
   },
   "outputs": [],
   "source": [
    "\n",
    "# Using the best RNN parameters & architecture, add a second recurrent chain to my RNN.\n",
    "# The input to the second chain should be the output sequence of the first chain.\n",
    "# Visualize the performance of training & validation sets versus the training iterations.\n"
   ]
  },
  {
   "cell_type": "markdown",
   "metadata": {
    "pycharm": {
     "name": "#%% md\n"
    }
   },
   "source": [
    "### &nbsp;&nbsp;&nbsp;&nbsp;&nbsp;&nbsp; 2.3 Using Cross Validation"
   ]
  },
  {
   "cell_type": "code",
   "execution_count": null,
   "metadata": {
    "collapsed": false,
    "jupyter": {
     "outputs_hidden": false
    },
    "pycharm": {
     "name": "#%%\n"
    }
   },
   "outputs": [],
   "source": [
    "\n",
    "# - Use the method of cross validation & evaluation criteria that I argued for at the beginning of the lab.\n"
   ]
  },
  {
   "cell_type": "code",
   "execution_count": null,
   "metadata": {
    "collapsed": false,
    "jupyter": {
     "outputs_hidden": false
    },
    "pycharm": {
     "name": "#%%\n"
    }
   },
   "outputs": [],
   "source": [
    "\n",
    "# - Visualize the results of all the RNNs I trained.\n"
   ]
  },
  {
   "cell_type": "code",
   "execution_count": null,
   "metadata": {
    "collapsed": false,
    "jupyter": {
     "outputs_hidden": false
    },
    "pycharm": {
     "name": "#%%\n"
    }
   },
   "outputs": [],
   "source": [
    "\n",
    "# Use proper statistical comparison techniques to determine which method(s) is (are) superior.\n"
   ]
  },
  {
   "cell_type": "markdown",
   "metadata": {
    "pycharm": {
     "name": "#%% md\n"
    }
   },
   "source": [
    "----------------------------------------\n",
    "\n",
    "### 3. t-SNE or RNN generating novel text\n",
    "You have free reign to provide additional analyses. Ideas:\n",
    "\n",
    "- Option 1: Use t-SNE (or SVD or PCA or UMAP) to visualize the word embeddings of a subset of words in your vocabulary.\n",
    "    - Try to interpret what each dimension reflects (in your own words).\n",
    "    - That is, try to explain what aspect of the language is encoded in the reduced dimensionality embedding.\n",
    "\n",
    "- Options 2: Use the ConceptNet Numberbatch embedding & compare to GloVe\n",
    "\n",
    "- Another Idea (NOT required): Try to create a RNN for generating novel text."
   ]
  },
  {
   "cell_type": "markdown",
   "metadata": {
    "pycharm": {
     "name": "#%% md\n"
    }
   },
   "source": [
    "#### Reference"
   ]
  },
  {
   "cell_type": "code",
   "execution_count": null,
   "metadata": {
    "collapsed": false,
    "jupyter": {
     "outputs_hidden": false
    },
    "pycharm": {
     "name": "#%%\n"
    }
   },
   "outputs": [],
   "source": [
    "\n"
   ]
  }
 ],
 "metadata": {
  "kernelspec": {
   "display_name": "Python 3",
   "language": "python",
   "name": "python3"
  },
  "language_info": {
   "codemirror_mode": {
    "name": "ipython",
    "version": 3
   },
   "file_extension": ".py",
   "mimetype": "text/x-python",
   "name": "python",
   "nbconvert_exporter": "python",
   "pygments_lexer": "ipython3",
   "version": "3.8.8"
  }
 },
 "nbformat": 4,
 "nbformat_minor": 4
}
