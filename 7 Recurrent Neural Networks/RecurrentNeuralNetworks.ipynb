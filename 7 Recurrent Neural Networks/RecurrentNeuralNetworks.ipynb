{
 "cells": [
  {
   "cell_type": "markdown",
   "metadata": {
    "pycharm": {
     "name": "#%% md\n"
    }
   },
   "source": [
    "# Lab Assignment Seven: RNNs\n",
    "\n",
    "### Luis Garduno\n",
    "\n",
    "Dataset : [Sentiment140 Kaggle Dataset](https://www.kaggle.com/kazanova/sentiment140) "
   ]
  },
  {
   "cell_type": "markdown",
   "metadata": {
    "pycharm": {
     "name": "#%% md\n"
    }
   },
   "source": [
    "----------------------------\n",
    "\n",
    "## 1. Preparation (30 points)\n",
    "\n",
    "### &nbsp;&nbsp;&nbsp;&nbsp;&nbsp;&nbsp; 1.1 Data Preparation (10%)"
   ]
  },
  {
   "cell_type": "code",
   "execution_count": 1,
   "metadata": {
    "collapsed": false,
    "jupyter": {
     "outputs_hidden": false
    },
    "pycharm": {
     "name": "#%%\n"
    }
   },
   "outputs": [],
   "source": [
    "import glob\n",
    "import numpy as np\n",
    "import pandas as pd\n",
    "import seaborn as sns\n",
    "import matplotlib.pyplot as plt\n",
    "\n",
    "from PIL import Image\n",
    "from tkinter import Tcl\n",
    "from skimage.io import imshow\n",
    "from sklearn import metrics as mt\n",
    "from sklearn import preprocessing\n",
    "\n",
    "%matplotlib inline\n",
    "\n",
    "le = preprocessing.LabelEncoder()\n",
    "\n",
    "# Load in Sentiment140 Dataset in pandas array\n",
    "df = pd.read_csv('../data/Sentiment140/training.1600000.processed.noemoticon.csv',\n",
    "                 names=['polarity', 'id', 'date', 'query', 'user', 'tweet'],\n",
    "                 encoding='ISO-8859-1')\n",
    "\n",
    "# Create sample (Remove later)\n",
    "df = df.sample(frac=1)\n",
    "df = df[:200000]\n",
    "\n",
    "print(\"Number of Total Tweets:\", len(df), \"\\n\")"
   ]
  },
  {
   "cell_type": "markdown",
   "metadata": {},
   "source": [
    "| Field | Description | Type |\n",
    "| ----- | ----------- | ---- |\n",
    "| **Polarity** | &nbsp;&nbsp;&nbsp; - The target/polarity of the tweet <br /> &nbsp;&nbsp; [0] Negative; [2] Neutral; [4] Positive; | Discrete |\n",
    "| **id**    | &nbsp;&nbsp;&nbsp; - The id of the tweet    | Discrete |\n",
    "| **date**  | &nbsp;&nbsp;&nbsp; - The date of the tweet  | Interval |\n",
    "| **query** | &nbsp;&nbsp;&nbsp; - The query | Nominal |\n",
    "| **user**  | &nbsp;&nbsp;&nbsp; - The user that tweeted  | nominal  |\n",
    "| **tweet**  | &nbsp;&nbsp;&nbsp; - The text of the tweet  | nominal  |"
   ]
  },
  {
   "cell_type": "code",
   "execution_count": 2,
   "metadata": {},
   "outputs": [
    {
     "data": {
      "text/plain": [
       "polarity         2\n",
       "id          199985\n",
       "date        174990\n",
       "query            1\n",
       "user        148231\n",
       "tweet       199185\n",
       "dtype: int64"
      ]
     },
     "execution_count": 2,
     "metadata": {},
     "output_type": "execute_result"
    }
   ],
   "source": [
    "# Find unique values within each field, before dropping columns.\n",
    "df.nunique()"
   ]
  },
  {
   "cell_type": "markdown",
   "metadata": {},
   "source": [
    "After outputting all of the unique values, we see that there is only 1 unique value\n",
    "within the query field, meaning that it will not make an impact when further doing\n",
    "our analysis because all the values are the same. Other fields that can be dropped\n",
    "are the user tweet id, username, iand date because these these do not impact whether a\n",
    "user's tweet is negative or positive.\n",
    "\n",
    "Addtionally we're able to see that there's 2 unique values within the polarity field,\n",
    "it is probably best to find out what these two values are and change them so that 0\n",
    "equals negative and 1 equals positive."
   ]
  },
  {
   "cell_type": "code",
   "execution_count": 4,
   "metadata": {},
   "outputs": [
    {
     "data": {
      "text/plain": [
       "array([4, 0])"
      ]
     },
     "execution_count": 4,
     "metadata": {},
     "output_type": "execute_result"
    }
   ],
   "source": [
    "# Drop the fields we don't need\n",
    "df.drop(['id', 'date', 'query','user'], axis=1, inplace=True)\n",
    "\n",
    "# Find the 2 unique polarity fields\n",
    "df['polarity'].unique()"
   ]
  },
  {
   "cell_type": "code",
   "execution_count": 6,
   "metadata": {},
   "outputs": [
    {
     "name": "stdout",
     "output_type": "stream",
     "text": [
      "Number of Total Tweets: 200000 \n",
      "\n"
     ]
    },
    {
     "data": {
      "text/plain": [
       "Text(0, 0.5, 'Number of Tweets')"
      ]
     },
     "execution_count": 6,
     "metadata": {},
     "output_type": "execute_result"
    },
    {
     "data": {
      "image/png": "[encoded data removed]",
      "text/plain": [
       "<Figure size 432x288 with 1 Axes>"
      ]
     },
     "metadata": {
      "needs_background": "light"
     },
     "output_type": "display_data"
    }
   ],
   "source": [
    "# Change [4] to [1] so the data is easier to understand.\n",
    "df['polarity'] = df['polarity'].replace(4,1)\n",
    "\n",
    "# Visualize whether data is evenly divided in terms of the polarity of tweets.\n",
    "ax = sns.countplot(x=\"polarity\", data=df, palette=['red', 'blue'])\n",
    "ax.set_title('Distribution in Polarity within Tweets')\n",
    "ax.set_xlabel('Polarity')\n",
    "ax.set_xticks([0,1])\n",
    "ax.set_xticklabels(['[0] Negative', '[1] Positive'])\n",
    "ax.set_ylabel('Number of Tweets')"
   ]
  },
  {
   "cell_type": "code",
   "execution_count": null,
   "metadata": {},
   "outputs": [],
   "source": [
    "# Lastly check for proper variable representations\n",
    "df.info()"
   ]
  },
  {
   "cell_type": "markdown",
   "metadata": {
    "pycharm": {
     "name": "#%% md\n"
    }
   },
   "source": [
    "- Describe the final dataset that is used for classification/regression (include a description of any newly formed variables I created).\n",
    "- Discuss methods of tokenization in my dataset as well as any decisions to force a specific length of sequence."
   ]
  },
  {
   "cell_type": "markdown",
   "metadata": {
    "pycharm": {
     "name": "#%% md\n"
    }
   },
   "source": [
    "### &nbsp;&nbsp;&nbsp;&nbsp;&nbsp;&nbsp; 1.2 Choosing a Metric (20%)"
   ]
  },
  {
   "cell_type": "code",
   "execution_count": null,
   "metadata": {
    "collapsed": false,
    "jupyter": {
     "outputs_hidden": false
    },
    "pycharm": {
     "name": "#%%\n"
    }
   },
   "outputs": [],
   "source": [
    "# - Choose & explain what metric(s) I'll use to evaluate my algorithm’s performance."
   ]
  },
  {
   "cell_type": "markdown",
   "metadata": {
    "pycharm": {
     "name": "#%% md\n"
    }
   },
   "source": [
    "- I should give a detailed argument for why this (these) metric(s) are appropriate on my data.\n",
    "- That is, why is the metric appropriate for the task (e.g., in terms of the business case for the task).\n",
    "- Please note: rarely is accuracy the best evaluation metric to use.\n",
    "    - Think deeply about an appropriate measure of performance."
   ]
  },
  {
   "cell_type": "markdown",
   "metadata": {
    "pycharm": {
     "name": "#%% md\n"
    }
   },
   "source": [
    "### &nbsp;&nbsp;&nbsp;&nbsp;&nbsp;&nbsp; 1.3 Creating Training & Testing Data (30%)"
   ]
  },
  {
   "cell_type": "code",
   "execution_count": null,
   "metadata": {
    "collapsed": false,
    "jupyter": {
     "outputs_hidden": false
    },
    "pycharm": {
     "name": "#%%\n"
    }
   },
   "outputs": [],
   "source": [
    "# - Choose the method I'll use for dividing my data into training and testing (i.e., am I  using Stratified 10-fold cross validation? Shuffle splits? Why?)."
   ]
  },
  {
   "cell_type": "markdown",
   "metadata": {
    "pycharm": {
     "name": "#%% md\n"
    }
   },
   "source": [
    "- Explain why my chosen method is appropriate or use more than one method as appropriate.\n",
    "- Convince me that my cross validation method is a realistic mirroring of how an algorithm would be used in practice."
   ]
  },
  {
   "cell_type": "markdown",
   "metadata": {
    "pycharm": {
     "name": "#%% md\n"
    }
   },
   "source": [
    "-----------------------------\n",
    "\n",
    "## 2. Modeling | You're @ a C, keep going bro.\n",
    "\n",
    "### &nbsp;&nbsp;&nbsp;&nbsp;&nbsp;&nbsp; 2.1 Exploring Recurrent Network Architectures"
   ]
  },
  {
   "cell_type": "markdown",
   "metadata": {},
   "source": [
    "##### &nbsp;&nbsp;&nbsp;&nbsp;&nbsp;&nbsp; 2.2.1 Method 1: GRU Architecture (45%)\n",
    "\n",
    "A Gated Recurrent Network, or GRU\n",
    "- Be sure to use an embedding layer (pre-trained, from scratch, OR both).\n",
    "- Adjust hyper-parameters of the networks as needed to improve generalization performance."
   ]
  },
  {
   "cell_type": "code",
   "execution_count": null,
   "metadata": {},
   "outputs": [],
   "source": [
    "#################################################################################\n",
    "######################## RNN Style Architecture : GRU [1] #######################\n",
    "#################################################################################\n",
    "\n",
    "# Be sure to use an embedding layer (pre-trained, from scratch, OR both).\n",
    "# Adjust hyper-parameters of the networks as needed to improve generalization performance."
   ]
  },
  {
   "cell_type": "code",
   "execution_count": null,
   "metadata": {},
   "outputs": [],
   "source": [
    "# Be sure to use an embedding layer (pre-trained, from scratch, OR both).\n",
    "# Adjust hyper-parameters of the networks as needed to improve generalization performance."
   ]
  },
  {
   "cell_type": "markdown",
   "metadata": {},
   "source": [
    "##### &nbsp;&nbsp;&nbsp;&nbsp;&nbsp;&nbsp; 2.2.2 Method 2: LTSM  Architecture (60%)\n",
    "\n",
    "A \"long short-term memory\" units, or LTSM"
   ]
  },
  {
   "cell_type": "code",
   "execution_count": null,
   "metadata": {
    "collapsed": false,
    "jupyter": {
     "outputs_hidden": false
    },
    "pycharm": {
     "name": "#%%\n"
    }
   },
   "outputs": [],
   "source": [
    "##################################################################################\n",
    "######################## RNN Style Architecture : LTSM [1] #######################\n",
    "##################################################################################\n",
    "\n",
    "\n",
    "# - Using the best RNN parameters & architecture, add a second recurrent chain to my RNN.\n",
    "# - The input to the second chain should be the output sequence of the first chain.\n"
   ]
  },
  {
   "cell_type": "code",
   "execution_count": null,
   "metadata": {
    "collapsed": false,
    "jupyter": {
     "outputs_hidden": false
    },
    "pycharm": {
     "name": "#%%\n"
    }
   },
   "outputs": [],
   "source": [
    "##################################################################################\n",
    "######################## RNN Style Architecture : LTSM [2] #######################\n",
    "##################################################################################\n",
    "\n",
    "\n",
    "# - Using the best RNN parameters & architecture, add a second recurrent chain to my RNN.\n",
    "# - The input to the second chain should be the output sequence of the first chain.\n"
   ]
  },
  {
   "cell_type": "markdown",
   "metadata": {
    "pycharm": {
     "name": "#%% md\n"
    }
   },
   "source": [
    "- Discuss the performance of each network & compare them.\n"
   ]
  },
  {
   "cell_type": "markdown",
   "metadata": {
    "pycharm": {
     "name": "#%% md\n"
    }
   },
   "source": [
    "### &nbsp;&nbsp;&nbsp;&nbsp;&nbsp;&nbsp; 2.2 Adding a 2nd recurrent chain (70%) | You're at a C+!!!"
   ]
  },
  {
   "cell_type": "code",
   "execution_count": null,
   "metadata": {
    "collapsed": false,
    "jupyter": {
     "outputs_hidden": false
    },
    "pycharm": {
     "name": "#%%\n"
    }
   },
   "outputs": [],
   "source": [
    "\n",
    "# Using the best RNN parameters & architecture, add a second recurrent chain to my RNN.\n",
    "# The input to the second chain should be the output sequence of the first chain.\n",
    "# Visualize the performance of training & validation sets versus the training iterations.\n"
   ]
  },
  {
   "cell_type": "markdown",
   "metadata": {
    "pycharm": {
     "name": "#%% md\n"
    }
   },
   "source": [
    "### &nbsp;&nbsp;&nbsp;&nbsp;&nbsp;&nbsp; 2.3 Using Cross Validation (90%) Bro, all you need is 15/20pts. Final Stretch!"
   ]
  },
  {
   "cell_type": "code",
   "execution_count": null,
   "metadata": {
    "collapsed": false,
    "jupyter": {
     "outputs_hidden": false
    },
    "pycharm": {
     "name": "#%%\n"
    }
   },
   "outputs": [],
   "source": [
    "\n",
    "# - Use the method of cross validation & evaluation criteria that I argued for at the beginning of the lab.\n"
   ]
  },
  {
   "cell_type": "code",
   "execution_count": null,
   "metadata": {
    "collapsed": false,
    "jupyter": {
     "outputs_hidden": false
    },
    "pycharm": {
     "name": "#%%\n"
    }
   },
   "outputs": [],
   "source": [
    "\n",
    "# - Visualize the results of all the RNNs I trained.\n"
   ]
  },
  {
   "cell_type": "code",
   "execution_count": null,
   "metadata": {
    "collapsed": false,
    "jupyter": {
     "outputs_hidden": false
    },
    "pycharm": {
     "name": "#%%\n"
    }
   },
   "outputs": [],
   "source": [
    "\n",
    "# Use proper statistical comparison techniques to determine which method(s) is (are) superior.\n"
   ]
  },
  {
   "cell_type": "markdown",
   "metadata": {
    "pycharm": {
     "name": "#%% md\n"
    }
   },
   "source": [
    "----------------------------------------\n",
    "\n",
    "### 3. t-SNE or RNN generating novel text\n",
    "You have free reign to provide additional analyses. Ideas:\n",
    "\n",
    "- Option 1: Use t-SNE (or SVD or PCA or UMAP) to visualize the word embeddings of a subset of words in your vocabulary.\n",
    "    - Try to interpret what each dimension reflects (in your own words).\n",
    "    - That is, try to explain what aspect of the language is encoded in the reduced dimensionality embedding.\n",
    "\n",
    "- Options 2: Use the ConceptNet Numberbatch embedding & compare to GloVe\n",
    "\n",
    "- Another Idea (NOT required): Try to create a RNN for generating novel text."
   ]
  },
  {
   "cell_type": "markdown",
   "metadata": {
    "pycharm": {
     "name": "#%% md\n"
    }
   },
   "source": [
    "#### Reference"
   ]
  },
  {
   "cell_type": "code",
   "execution_count": null,
   "metadata": {
    "collapsed": false,
    "jupyter": {
     "outputs_hidden": false
    },
    "pycharm": {
     "name": "#%%\n"
    }
   },
   "outputs": [],
   "source": [
    "\n"
   ]
  }
 ],
 "metadata": {
  "kernelspec": {
   "display_name": "Python 3",
   "language": "python",
   "name": "python3"
  },
  "language_info": {
   "codemirror_mode": {
    "name": "ipython",
    "version": 3
   },
   "file_extension": ".py",
   "mimetype": "text/x-python",
   "name": "python",
   "nbconvert_exporter": "python",
   "pygments_lexer": "ipython3",
   "version": "3.8.8"
  }
 },
 "nbformat": 4,
 "nbformat_minor": 4
}
