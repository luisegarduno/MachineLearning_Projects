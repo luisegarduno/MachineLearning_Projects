{
 "cells": [
  {
   "cell_type": "markdown",
   "id": "emotional-startup",
   "metadata": {},
   "source": [
    "# Population Prediction\n",
    "\n",
    "### Luis Garduno\n",
    "\n",
    "## 1. Load Dataset\n",
    "\n",
    "Datasets [Kaggle]: [__International Database (IDB)__](https://www2.census.gov/programs-surveys/international-programs/about/idb/idbzip.zip)\n",
    "\n",
    "Question Of Interest : Predict the population of earth in 2122.\n",
    "    \n",
    "\n",
    "\n",
    "\n",
    "\n"
   ]
  },
  {
   "cell_type": "code",
   "execution_count": 1,
   "id": "phantom-paris",
   "metadata": {},
   "outputs": [
    {
     "name": "stdout",
     "output_type": "stream",
     "text": [
      "--> Columns: ['#YR' 'TFR' 'SRB' 'RNI' 'POP95_99' 'POP90_94' 'POP85_89' 'POP80_84'\n",
      " 'POP75_79' 'POP70_74' 'POP65_69' 'POP60_64' 'POP5_9' 'POP55_59'\n",
      " 'POP50_54' 'POP45_49' 'POP40_44' 'POP35_39' 'POP30_34' 'POP25_29'\n",
      " 'POP20_24' 'POP15_19' 'POP10_14' 'POP100_' 'POP0_4' 'POP' 'NMR' 'NAME'\n",
      " 'MR1_4' 'MR0_4' 'MPOP95_99' 'MPOP90_94' 'MPOP85_89' 'MPOP80_84'\n",
      " 'MPOP75_79' 'MPOP70_74' 'MPOP65_69' 'MPOP60_64' 'MPOP5_9' 'MPOP55_59'\n",
      " 'MPOP50_54' 'MPOP45_49' 'MPOP40_44' 'MPOP35_39' 'MPOP30_34' 'MPOP25_29'\n",
      " 'MPOP20_24' 'MPOP15_19' 'MPOP10_14' 'MPOP100_' 'MPOP0_4' 'MPOP' 'MMR1_4'\n",
      " 'MMR0_4' 'IMR_M' 'IMR_F' 'IMR' 'GRR' 'GR' 'FPOP95_99' 'FPOP90_94'\n",
      " 'FPOP85_89' 'FPOP80_84' 'FPOP75_79' 'FPOP70_74' 'FPOP65_69' 'FPOP60_64'\n",
      " 'FPOP5_9' 'FPOP55_59' 'FPOP50_54' 'FPOP45_49' 'FPOP40_44' 'FPOP35_39'\n",
      " 'FPOP30_34' 'FPOP25_29' 'FPOP20_24' 'FPOP15_19' 'FPOP10_14' 'FPOP100_'\n",
      " 'FPOP0_4' 'FPOP' 'FMR1_4' 'FMR0_4' 'GENC' 'FIPS' 'E0_M' 'E0_F' 'E0' 'CDR'\n",
      " 'CBR' 'ASFR45_49' 'ASFR40_44' 'ASFR35_39' 'ASFR30_34' 'ASFR25_29'\n",
      " 'ASFR20_24' 'ASFR15_19' 'AREA_KM2' 'POP_DENS']\n"
     ]
    }
   ],
   "source": [
    "import numpy as np\n",
    "import pandas as pd\n",
    "\n",
    "# Load dataset into dataframe\n",
    "df = pd.read_csv('https://raw.githubusercontent.com/luisegarduno/MachineLearning_Projects/master/data/idb5yr.all', delimiter='|', encoding='ISO-8859-1')\n",
    "print(\"--> Columns:\", df.columns.values)"
   ]
  },
  {
   "cell_type": "markdown",
   "id": "constant-queue",
   "metadata": {},
   "source": [
    "-------------------------------------\n",
    "  \n",
    "## 2. Data Understanding\n",
    "\n",
    "### &nbsp;&nbsp;&nbsp;&nbsp;&nbsp;&nbsp; 2.1 Data Description"
   ]
  },
  {
   "cell_type": "code",
   "execution_count": 2,
   "id": "surgical-attendance",
   "metadata": {},
   "outputs": [
    {
     "name": "stdout",
     "output_type": "stream",
     "text": [
      "--> Current Population: 7905336896 \n",
      "\n"
     ]
    },
    {
     "data": {
      "text/html": [
       "<div>\n",
       "<style scoped>\n",
       "    .dataframe tbody tr th:only-of-type {\n",
       "        vertical-align: middle;\n",
       "    }\n",
       "\n",
       "    .dataframe tbody tr th {\n",
       "        vertical-align: top;\n",
       "    }\n",
       "\n",
       "    .dataframe thead th {\n",
       "        text-align: right;\n",
       "    }\n",
       "</style>\n",
       "<table border=\"1\" class=\"dataframe\">\n",
       "  <thead>\n",
       "    <tr style=\"text-align: right;\">\n",
       "      <th></th>\n",
       "      <th>YEAR</th>\n",
       "      <th>POP</th>\n",
       "    </tr>\n",
       "  </thead>\n",
       "  <tbody>\n",
       "    <tr>\n",
       "      <th>67</th>\n",
       "      <td>2018</td>\n",
       "      <td>7597066210</td>\n",
       "    </tr>\n",
       "    <tr>\n",
       "      <th>68</th>\n",
       "      <td>2019</td>\n",
       "      <td>7676686052</td>\n",
       "    </tr>\n",
       "    <tr>\n",
       "      <th>69</th>\n",
       "      <td>2020</td>\n",
       "      <td>7756873419</td>\n",
       "    </tr>\n",
       "    <tr>\n",
       "      <th>70</th>\n",
       "      <td>2021</td>\n",
       "      <td>7831718605</td>\n",
       "    </tr>\n",
       "    <tr>\n",
       "      <th>71</th>\n",
       "      <td>2022</td>\n",
       "      <td>7905336896</td>\n",
       "    </tr>\n",
       "  </tbody>\n",
       "</table>\n",
       "</div>"
      ],
      "text/plain": [
       "    YEAR         POP\n",
       "67  2018  7597066210\n",
       "68  2019  7676686052\n",
       "69  2020  7756873419\n",
       "70  2021  7831718605\n",
       "71  2022  7905336896"
      ]
     },
     "execution_count": 2,
     "metadata": {},
     "output_type": "execute_result"
    }
   ],
   "source": [
    "# Make year column easier to understand\n",
    "df.rename(columns={'#YR':'YEAR'}, inplace=True)\n",
    "\n",
    "# Remove every column except for year & population\n",
    "for col in df.columns.values:\n",
    "    if col != 'YEAR' and col != 'POP':\n",
    "        df.drop(col, axis=1, inplace=True)\n",
    "\n",
    "# Group by year & get sum\n",
    "df_yr = df.groupby(by='YEAR')\n",
    "df_yr = df_yr['POP'].sum()\n",
    "\n",
    "# Create a new dataframe with new data\n",
    "pop_sum = []\n",
    "for i in range(1951, 2023):\n",
    "    pop_sum.append(df_yr[i])\n",
    "df_pop = pd.DataFrame({'YEAR': list(range(1951, 2023)), 'POP': pop_sum})\n",
    "\n",
    "print(\"--> Current Population:\", df_pop['POP'][71], \"\\n\")\n",
    "df_pop.tail(5)"
   ]
  },
  {
   "cell_type": "code",
   "execution_count": 3,
   "id": "vietnamese-chinese",
   "metadata": {},
   "outputs": [
    {
     "data": {
      "image/png": "[encoded data removed]",
      "text/plain": [
       "<Figure size 720x504 with 1 Axes>"
      ]
     },
     "metadata": {
      "needs_background": "light"
     },
     "output_type": "display_data"
    }
   ],
   "source": [
    "import seaborn as sns\n",
    "import matplotlib.pyplot as plt\n",
    "%matplotlib inline\n",
    "\n",
    "plt.subplots(figsize=(10,7))\n",
    "plt.grid()\n",
    "ax = sns.lineplot(data=df_pop, x='YEAR', y='POP', marker='o', dashes=False)\n",
    "ax.set_xlabel('Year')\n",
    "ax.set_ylabel('Population')\n",
    "ax.set_title('World Population (1951-2023)')\n",
    "plt.xlim(1951, 2025)\n",
    "\n",
    "plt.show()"
   ]
  },
  {
   "cell_type": "markdown",
   "id": "italic-pension",
   "metadata": {},
   "source": [
    "## 3. Normalize\n",
    "\n",
    "Derived the formula for calculating the optimal values of the regression weights:\n",
    "\n",
    "$$ w = (X^TX)^{-1}X^Ty $$\n",
    "\n",
    "where $X$ is the matrix of values with a bias column of ones appended onto it.\n",
    "For the population dataset one could construct this $X$ matrix by stacking a column of ones onto the `df_pop.YEAR` matrix. \n",
    "\n",
    "$$ X=\\begin{bmatrix}\n",
    "         & \\vdots &        &  1 \\\\\n",
    "        \\dotsb & \\text{ds.data} & \\dotsb &  \\vdots\\\\\n",
    "         & \\vdots &         &  1\\\\\n",
    "     \\end{bmatrix}\n",
    "$$"
   ]
  },
  {
   "cell_type": "code",
   "execution_count": 4,
   "id": "subsequent-possession",
   "metadata": {},
   "outputs": [],
   "source": [
    "if 'POP' in df_pop:\n",
    "    y = df_pop['POP'].values\n",
    "    del df_pop['POP']\n",
    "    X = df_pop.to_numpy()\n",
    "    \n",
    "#from sklearn.linear_model import LinearRegression\n",
    "#reg = LinearRegression().fit(X,y)\n",
    "#print('model coefficients are : ', reg.coef_)\n",
    "#print('model intercept is : ', reg.intercept_)"
   ]
  },
  {
   "cell_type": "code",
   "execution_count": 5,
   "id": "romance-fishing",
   "metadata": {},
   "outputs": [
    {
     "name": "stdout",
     "output_type": "stream",
     "text": [
      "++++++++++++++ WEIGHTS +++++++++++++++++\n",
      "Shape: (2,) \n",
      "               0\n",
      "0 -1.494551e+11\n",
      "1  7.779070e+07\n",
      "\n",
      "h = -149455085136.247 * x + (77790702.83491787)\n",
      "\n",
      "============= TARGET PERCENT ACCURACY ===============\n",
      "         0\n",
      "0   89.20\n",
      "1   90.73\n",
      "2   92.10\n",
      "3   93.32\n",
      "4   94.38\n",
      "..    ...\n",
      "67  99.07\n",
      "68  99.06\n",
      "69  99.04\n",
      "70  99.08\n",
      "71  99.14\n",
      "\n",
      "[72 rows x 1 columns]\n"
     ]
    }
   ],
   "source": [
    "# Create a matrix full of ones\n",
    "bias = np.ones((len(X),1))\n",
    "\n",
    "# stack two matrices horizontally, to create a new matrix\n",
    "X = np.hstack((bias, X))\n",
    "\n",
    "w = np.linalg.inv(X.T @ X) @ X.T @ y\n",
    "print(\"++++++++++++++ WEIGHTS +++++++++++++++++\\n\" + \"Shape:\", w.shape, \"\\n\", pd.DataFrame(data=w))\n",
    "print(\"\\nh =\", w[0], \"* x + (\" +str(w[1]) + \")\\n\")\n",
    "diff = np.round(( (y - (abs(np.dot(X,w) - y))) / y ) * 100, 2)\n",
    "print(\"============= TARGET PERCENT ACCURACY ===============\\n\", pd.DataFrame(data=diff))"
   ]
  }
 ],
 "metadata": {
  "kernelspec": {
   "display_name": "Python 3",
   "language": "python",
   "name": "python3"
  },
  "language_info": {
   "codemirror_mode": {
    "name": "ipython",
    "version": 3
   },
   "file_extension": ".py",
   "mimetype": "text/x-python",
   "name": "python",
   "nbconvert_exporter": "python",
   "pygments_lexer": "ipython3",
   "version": "3.8.8"
  }
 },
 "nbformat": 4,
 "nbformat_minor": 5
}
