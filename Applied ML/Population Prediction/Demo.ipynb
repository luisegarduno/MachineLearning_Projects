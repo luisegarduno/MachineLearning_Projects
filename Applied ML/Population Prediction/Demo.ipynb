{
 "cells": [
  {
   "cell_type": "markdown",
   "id": "prompt-soccer",
   "metadata": {},
   "source": [
    "# 1. Load Dataset"
   ]
  },
  {
   "cell_type": "code",
   "execution_count": 3,
   "id": "professional-eagle",
   "metadata": {},
   "outputs": [
    {
     "name": "stdout",
     "output_type": "stream",
     "text": [
      "*********** Dataset #3 (1951 - Present) ***********\n",
      "\n",
      "--> Columns: ['#YR' 'TFR' 'SRB' 'RNI' 'POP95_99' 'POP90_94' 'POP85_89' 'POP80_84'\n",
      " 'POP75_79' 'POP70_74' 'POP65_69' 'POP60_64' 'POP5_9' 'POP55_59'\n",
      " 'POP50_54' 'POP45_49' 'POP40_44' 'POP35_39' 'POP30_34' 'POP25_29'\n",
      " 'POP20_24' 'POP15_19' 'POP10_14' 'POP100_' 'POP0_4' 'POP' 'NMR' 'NAME'\n",
      " 'MR1_4' 'MR0_4' 'MPOP95_99' 'MPOP90_94' 'MPOP85_89' 'MPOP80_84'\n",
      " 'MPOP75_79' 'MPOP70_74' 'MPOP65_69' 'MPOP60_64' 'MPOP5_9' 'MPOP55_59'\n",
      " 'MPOP50_54' 'MPOP45_49' 'MPOP40_44' 'MPOP35_39' 'MPOP30_34' 'MPOP25_29'\n",
      " 'MPOP20_24' 'MPOP15_19' 'MPOP10_14' 'MPOP100_' 'MPOP0_4' 'MPOP' 'MMR1_4'\n",
      " 'MMR0_4' 'IMR_M' 'IMR_F' 'IMR' 'GRR' 'GR' 'FPOP95_99' 'FPOP90_94'\n",
      " 'FPOP85_89' 'FPOP80_84' 'FPOP75_79' 'FPOP70_74' 'FPOP65_69' 'FPOP60_64'\n",
      " 'FPOP5_9' 'FPOP55_59' 'FPOP50_54' 'FPOP45_49' 'FPOP40_44' 'FPOP35_39'\n",
      " 'FPOP30_34' 'FPOP25_29' 'FPOP20_24' 'FPOP15_19' 'FPOP10_14' 'FPOP100_'\n",
      " 'FPOP0_4' 'FPOP' 'FMR1_4' 'FMR0_4' 'GENC' 'FIPS' 'E0_M' 'E0_F' 'E0' 'CDR'\n",
      " 'CBR' 'ASFR45_49' 'ASFR40_44' 'ASFR35_39' 'ASFR30_34' 'ASFR25_29'\n",
      " 'ASFR20_24' 'ASFR15_19' 'AREA_KM2' 'POP_DENS']\n"
     ]
    }
   ],
   "source": [
    "import numpy as np\n",
    "import pandas as pd\n",
    "\n",
    "# Load dataset into dataframe\n",
    "print(\"*********** Dataset #3 (1951 - Present) ***********\\n\")\n",
    "df = pd.read_csv('https://raw.githubusercontent.com/luisegarduno/MachineLearning_Projects/master/data/idb5yr.all', delimiter='|', encoding='ISO-8859-1')\n",
    "print(\"--> Columns:\", df.columns.values)"
   ]
  },
  {
   "cell_type": "markdown",
   "id": "absent-marketing",
   "metadata": {},
   "source": [
    "# 2. Clean Dataset"
   ]
  },
  {
   "cell_type": "code",
   "execution_count": 5,
   "id": "honey-victoria",
   "metadata": {},
   "outputs": [
    {
     "name": "stdout",
     "output_type": "stream",
     "text": [
      "--> Current: 7905336896 \n",
      "\n"
     ]
    },
    {
     "data": {
      "text/html": [
       "<div>\n",
       "<style scoped>\n",
       "    .dataframe tbody tr th:only-of-type {\n",
       "        vertical-align: middle;\n",
       "    }\n",
       "\n",
       "    .dataframe tbody tr th {\n",
       "        vertical-align: top;\n",
       "    }\n",
       "\n",
       "    .dataframe thead th {\n",
       "        text-align: right;\n",
       "    }\n",
       "</style>\n",
       "<table border=\"1\" class=\"dataframe\">\n",
       "  <thead>\n",
       "    <tr style=\"text-align: right;\">\n",
       "      <th></th>\n",
       "      <th>YEAR</th>\n",
       "      <th>POP</th>\n",
       "    </tr>\n",
       "  </thead>\n",
       "  <tbody>\n",
       "    <tr>\n",
       "      <th>67</th>\n",
       "      <td>2018</td>\n",
       "      <td>7597066210</td>\n",
       "    </tr>\n",
       "    <tr>\n",
       "      <th>68</th>\n",
       "      <td>2019</td>\n",
       "      <td>7676686052</td>\n",
       "    </tr>\n",
       "    <tr>\n",
       "      <th>69</th>\n",
       "      <td>2020</td>\n",
       "      <td>7756873419</td>\n",
       "    </tr>\n",
       "    <tr>\n",
       "      <th>70</th>\n",
       "      <td>2021</td>\n",
       "      <td>7831718605</td>\n",
       "    </tr>\n",
       "    <tr>\n",
       "      <th>71</th>\n",
       "      <td>2022</td>\n",
       "      <td>7905336896</td>\n",
       "    </tr>\n",
       "  </tbody>\n",
       "</table>\n",
       "</div>"
      ],
      "text/plain": [
       "    YEAR         POP\n",
       "67  2018  7597066210\n",
       "68  2019  7676686052\n",
       "69  2020  7756873419\n",
       "70  2021  7831718605\n",
       "71  2022  7905336896"
      ]
     },
     "execution_count": 5,
     "metadata": {},
     "output_type": "execute_result"
    }
   ],
   "source": [
    "# Make year column easier to understand\n",
    "df.rename(columns={'#YR':'YEAR'}, inplace=True)\n",
    "\n",
    "# Remove every column except for year & population\n",
    "for col in df.columns.values:\n",
    "    if col != 'YEAR' and col != 'POP':\n",
    "        df.drop(col, axis=1, inplace=True)\n",
    "\n",
    "# Group by year & get sum\n",
    "df_yr = df.groupby(by='YEAR')\n",
    "df_yr = df_yr['POP'].sum()\n",
    "\n",
    "# Create a new dataframe with new data\n",
    "pop_sum = []\n",
    "for i in range(1951, 2023):\n",
    "    pop_sum.append(df_yr[i])\n",
    "df_pop = pd.DataFrame({'YEAR': list(range(1951, 2023)), 'POP': pop_sum})\n",
    "\n",
    "print(\"--> Current:\", df_pop['POP'][71], \"\\n\")\n",
    "df_pop.tail(5)"
   ]
  },
  {
   "cell_type": "code",
   "execution_count": 30,
   "id": "banner-restriction",
   "metadata": {},
   "outputs": [
    {
     "data": {
      "text/plain": [
       "(1951.0, 2122.0)"
      ]
     },
     "execution_count": 30,
     "metadata": {},
     "output_type": "execute_result"
    },
    {
     "data": {
      "image/png": "[encoded data removed]",
      "text/plain": [
       "<Figure size 720x504 with 1 Axes>"
      ]
     },
     "metadata": {
      "needs_background": "light"
     },
     "output_type": "display_data"
    }
   ],
   "source": [
    "import seaborn as sns\n",
    "import matplotlib.pyplot as plt\n",
    "%matplotlib inline\n",
    "\n",
    "plt.subplots(figsize=(10,7))\n",
    "ax = sns.lineplot(data=df_pop, x='YEAR', y='POP', marker='o', dashes=False)\n",
    "ax.set_xlabel('Year')\n",
    "ax.set_ylabel('Population')\n",
    "plt.xlim(1951, 2122)"
   ]
  },
  {
   "cell_type": "code",
   "execution_count": null,
   "id": "brave-reproduction",
   "metadata": {},
   "outputs": [],
   "source": []
  }
 ],
 "metadata": {
  "kernelspec": {
   "display_name": "Python 3",
   "language": "python",
   "name": "python3"
  },
  "language_info": {
   "codemirror_mode": {
    "name": "ipython",
    "version": 3
   },
   "file_extension": ".py",
   "mimetype": "text/x-python",
   "name": "python",
   "nbconvert_exporter": "python",
   "pygments_lexer": "ipython3",
   "version": "3.8.8"
  }
 },
 "nbformat": 4,
 "nbformat_minor": 5
}
