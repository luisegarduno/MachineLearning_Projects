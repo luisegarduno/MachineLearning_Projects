{
 "cells": [
  {
   "cell_type": "markdown",
   "id": "listed-julian",
   "metadata": {},
   "source": [
    "<h3> Luis Garduno <h3>\n",
    "\n",
    "Dataset: [__International Database (IDB)__](https://www.census.gov/data-tools/demo/idb/#/country?COUNTRY_YEAR=2022&COUNTRY_YR_ANIM=2022)\n",
    "\n",
    "Question Of Interest: Predict the population of earth in 2122.\n",
    "\n",
    "# Data Understanding\n",
    "\n",
    "## Data Description"
   ]
  },
  {
   "cell_type": "code",
   "execution_count": null,
   "id": "silent-creativity",
   "metadata": {},
   "outputs": [],
   "source": [
    "import numpy as np\n",
    "import pandas as pd\n",
    "\n",
    "# Load dataset into dataframe\n",
    "df = pd.read_csv('https://raw.githubusercontent.com/luisegarduno/MachineLearning_Projects/master/data/idb5yr.all', delimiter='|', encoding='ISO-8859-1')\n",
    "\n",
    "df.info()"
   ]
  },
  {
   "cell_type": "code",
   "execution_count": null,
   "id": "fresh-making",
   "metadata": {},
   "outputs": [],
   "source": [
    "import seaborn as sns\n",
    "import matplotlib.pyplot as plt\n",
    "%matplotlib inline\n",
    "\n",
    "# Make year column easier to understand\n",
    "df.rename(columns={'#YR':'YEAR'}, inplace=True)\n",
    "\n",
    "# Remove every column except for year & population\n",
    "for col in df.columns.values:\n",
    "    if col != 'YEAR' and col != 'POP':\n",
    "        df.drop(col, axis=1, inplace=True)\n",
    "\n",
    "df.describe()"
   ]
  },
  {
   "cell_type": "markdown",
   "id": "collaborative-helen",
   "metadata": {},
   "source": [
    "\n",
    "------------------------\n",
    "\n",
    "## Data Quality"
   ]
  },
  {
   "cell_type": "code",
   "execution_count": null,
   "id": "surgical-hammer",
   "metadata": {},
   "outputs": [],
   "source": [
    "import missingno as mn\n",
    "\n",
    "mn.matrix(df)\n",
    "\n",
    "# Count unique values in column 'gameId' of the dataframe\n",
    "print('Number of unique values in column \"YEAR\" : ', df['YEAR'].nunique())"
   ]
  },
  {
   "cell_type": "markdown",
   "id": "junior-textbook",
   "metadata": {},
   "source": [
    "\n",
    "------------------------\n",
    "\n",
    "## Clearning the Dataset"
   ]
  },
  {
   "cell_type": "code",
   "execution_count": null,
   "id": "younger-ghost",
   "metadata": {},
   "outputs": [],
   "source": [
    "# Group by year & get sum\n",
    "df_yr = df.groupby(by='YEAR')\n",
    "df_yr = df_yr['POP'].sum()\n",
    "\n",
    "# Create a new dataframe with new data (1961 - 2100)\n",
    "pop_sum = []\n",
    "for i in range(1961, 2022):\n",
    "    pop_sum.append(df_yr[i])\n",
    "df_pop = pd.DataFrame({'YEAR': list(range(1961, 2022)), 'POP': pop_sum})\n",
    "df = df_pop\n",
    "\n",
    "print(f'\\n--> Current Population (2021): {df[\"POP\"][60]:,d}\\n')\n",
    "df.tail(5)"
   ]
  },
  {
   "cell_type": "code",
   "execution_count": null,
   "id": "alive-sellers",
   "metadata": {},
   "outputs": [],
   "source": [
    "sns.set_style(\"darkgrid\")\n",
    "plt.subplots(figsize=(10,7))\n",
    "ax = sns.scatterplot(data=df, x='YEAR', y='POP', color='blue')\n",
    "ax.set_xlabel('Years', fontsize=16)\n",
    "ax.set_ylabel('Population', fontsize=16)\n",
    "ax.set_title('World Population (1961-2021)', fontsize=18)\n",
    "plt.xlim(1960, 2022)\n",
    "\n",
    "plt.show()"
   ]
  },
  {
   "cell_type": "code",
   "execution_count": null,
   "id": "constant-prototype",
   "metadata": {},
   "outputs": [],
   "source": [
    "# Define X & Y\n",
    "if 'POP' in df_pop:\n",
    "    y = df_pop['POP'].values\n",
    "    del df_pop['POP']\n",
    "    X = df_pop.to_numpy()"
   ]
  },
  {
   "cell_type": "markdown",
   "id": "sticky-length",
   "metadata": {},
   "source": [
    "\n",
    "----------------------\n",
    "\n",
    "\n",
    "# Modeling\n",
    "\n",
    "Derived the formula for calculating the optimal values of the regression weights:\n",
    "\n",
    "$$ w = (X^TX)^{-1}X^Ty $$\n",
    "\n",
    "where $X$ is the matrix of values with a bias column of ones appended onto it.\n",
    "For the population dataset one could construct this $X$ matrix by stacking a column of ones onto the `df_pop.YEAR` matrix. \n",
    "\n",
    "$$ X=\\begin{bmatrix}\n",
    "         & \\vdots &        &  1 \\\\\n",
    "        \\dotsb & \\text{ds.data} & \\dotsb &  \\vdots\\\\\n",
    "         & \\vdots &         &  1\\\\\n",
    "     \\end{bmatrix}\n",
    "$$"
   ]
  },
  {
   "cell_type": "code",
   "execution_count": null,
   "id": "technological-heart",
   "metadata": {},
   "outputs": [],
   "source": [
    "# Create a matrix full of ones & stack 2 matrices horizontally\n",
    "X = np.hstack((np.ones((len(X), 1)), X))\n",
    "\n",
    "# Calculate optimal values of the regression weights\n",
    "w = np.linalg.inv(X.T @ X) @ X.T @ y\n",
    "\n",
    "print(\"\\n++++++++++++++ WEIGHTS +++++++++++++++++\\n\", pd.DataFrame(data=w))\n",
    "diff = np.round(( (y - (abs(np.dot(X,w) - y))) / y ) * 100, 2)\n",
    "print(\"\\n============= TARGET PERCENT ACCURACY ===============\\n\", pd.DataFrame(data=diff))"
   ]
  },
  {
   "cell_type": "markdown",
   "id": "attached-laundry",
   "metadata": {},
   "source": [
    "\n",
    "---------------------------\n",
    "\n",
    "To predict the output from our model, $\\hat{y}$,from $w$ and $X$ we need to use\n",
    "\n",
    "$\\hat{y}=w^TX^T$, for row vector $\\hat{y}$"
   ]
  },
  {
   "cell_type": "code",
   "execution_count": null,
   "id": "advance-membrane",
   "metadata": {},
   "outputs": [],
   "source": [
    "yHat_np = w.T @ X.T        # Shape : (1,61)\n",
    "yHat_np = yHat_np.ravel()  # Shape : (61,)\n",
    "\n",
    "MSE_np = (np.square(y - yHat_np)).mean()\n",
    "print(f'MSE: {round(MSE_np):,d}')"
   ]
  },
  {
   "cell_type": "code",
   "execution_count": null,
   "id": "medium-minneapolis",
   "metadata": {},
   "outputs": [],
   "source": [
    "X_new = np.array([[0], [2122]])\n",
    "X_test = np.c_[np.ones((len(X_new), 1)), X_new]\n",
    "y_test = X_test.dot(w)\n",
    "print(f'\\n--> ~Population (2122): {round(y_test[1]):,d}\\n')\n",
    "\n",
    "sns.set_style(\"darkgrid\")\n",
    "plt.subplots(figsize=(25,10))\n",
    "\n",
    "plt.plot(X_new, y_test, \"r-\", color='red')\n",
    "sns.scatterplot(data=df, x='YEAR', y=y, color='blue')\n",
    "sns.scatterplot(x=X_new[1], y=y_test[1], s=100, marker=\"X\", linewidth=1, edgecolor='k', color='gold')\n",
    "\n",
    "plt.xlabel('Years', fontsize=20)\n",
    "plt.ylabel('Population', fontsize=20)\n",
    "plt.title('Population Prediction (1961-2122)', fontsize=20)\n",
    "plt.axis([1960, 2124, 2000000000, 16500000000])\n",
    "plt.legend([\"Linear Regression\", \"Population\", \"Prediction\"], prop={'size': 15})\n",
    "plt.show()"
   ]
  },
  {
   "cell_type": "markdown",
   "id": "incident-badge",
   "metadata": {},
   "source": [
    "-----------------------------\n",
    "\n",
    "# Comparing Performance"
   ]
  },
  {
   "cell_type": "code",
   "execution_count": null,
   "id": "substantial-skiing",
   "metadata": {},
   "outputs": [],
   "source": [
    "from sklearn.metrics import mean_squared_error\n",
    "from sklearn.linear_model import LinearRegression\n",
    "\n",
    "reg = LinearRegression().fit(X, y)\n",
    "MSE_sk = mean_squared_error(y, reg.predict(X))\n",
    "y_testsk = reg.predict(X_test)\n",
    "\n",
    "print(\"******** Linear Equation ********\")\n",
    "print(\"[Numpy] \\th =\", round(w[0],3), \"* x + (\" + str(round(w[1],5)) + \")\")\n",
    "print(\"[Sklearn]\\th =\", round(reg.intercept_,3), \"* x + (\" + str(round(reg.coef_[1],5)) + \")\\n\")\n",
    "\n",
    "print(\"******** Mean Squared Error ********\")\n",
    "print(f'[Numpy] \\tMSE: {round(MSE_np):,d}')\n",
    "print(f'[Sklearn]\\tMSE: {round(MSE_sk):,d}\\n')\n",
    "\n",
    "print(\"******** Population Prediction - 2122 ********\")\n",
    "print(f'[Numpy] \\t {round(y_test[1]):,d}')\n",
    "print(f'[Sklearn]\\t {round(y_testsk[1]):,d}\\n')"
   ]
  },
  {
   "cell_type": "markdown",
   "id": "broad-executive",
   "metadata": {},
   "source": [
    "\n",
    "---------------------\n",
    "\n",
    "#### References\n",
    "\n",
    "Census. International Database (IDB). https://www.census.gov/data-tools/demo/idb/#/country?COUNTRY_YEAR=2022&COUNTRY_YR_ANIM=2022 (Accessed 01-22-2022)"
   ]
  }
 ],
 "metadata": {
  "kernelspec": {
   "display_name": "Python 3",
   "language": "python",
   "name": "python3"
  },
  "language_info": {
   "codemirror_mode": {
    "name": "ipython",
    "version": 3
   },
   "file_extension": ".py",
   "mimetype": "text/x-python",
   "name": "python",
   "nbconvert_exporter": "python",
   "pygments_lexer": "ipython3",
   "version": "3.8.8"
  }
 },
 "nbformat": 4,
 "nbformat_minor": 5
}
