{
 "cells": [
  {
   "cell_type": "markdown",
   "id": "banner-retreat",
   "metadata": {},
   "source": [
    "## Bike Sharing\n",
    "\n",
    "Luis Garduno\n",
    "\n",
    "-------------------------------------\n",
    "    \n",
    "Dataset [UCI ML Repositories]: __[Bike Sharing Dataset](https://archive.ics.uci.edu/ml/machine-learning-databases/00275/Bike-Sharing-Dataset.zip)__\n",
    "\n",
    "Question Of Interest : Can you forecast the bike rental demand for the Washington DC Bike Sharing program?\n",
    "    \n",
    "-------------------------------------\n",
    "\n",
    "## 1. Data Overview\n",
    "\n",
    "### &nbsp;&nbsp;&nbsp;&nbsp;&nbsp;&nbsp; 1.1 Data Preparation\n",
    "#### &nbsp;&nbsp;&nbsp;&nbsp;&nbsp;&nbsp;&nbsp;&nbsp;&nbsp;&nbsp;&nbsp;&nbsp; 1.1.1 Data Description"
   ]
  },
  {
   "cell_type": "code",
   "execution_count": null,
   "id": "arbitrary-reviewer",
   "metadata": {},
   "outputs": [],
   "source": [
    "import os\n",
    "import numpy as np\n",
    "import pandas as pd\n",
    "\n",
    "df = pd.read_csv('../data/bikes/hour.csv')\n",
    "\n",
    "df.info()"
   ]
  },
  {
   "cell_type": "code",
   "execution_count": null,
   "id": "known-prediction",
   "metadata": {},
   "outputs": [],
   "source": [
    "df.describe()"
   ]
  },
  {
   "cell_type": "markdown",
   "id": "configured-cosmetic",
   "metadata": {},
   "source": [
    "\n",
    "#### &nbsp;&nbsp;&nbsp;&nbsp;&nbsp;&nbsp;&nbsp;&nbsp;&nbsp;&nbsp;&nbsp;&nbsp; 1.1.2 Normalizing the Dataset"
   ]
  },
  {
   "cell_type": "code",
   "execution_count": null,
   "id": "rising-thriller",
   "metadata": {},
   "outputs": [],
   "source": [
    "from sklearn.preprocessing import LabelEncoder\n",
    "from sklearn.preprocessing import StandardScaler\n",
    "from sklearn.preprocessing import OneHotEncoder\n",
    "\n",
    "from sklearn.pipeline import Pipeline\n",
    "from sklearn.compose import ColumnTransformer\n",
    "from sklearn.preprocessing import StandardScaler\n",
    "\n",
    "# --- Encode the Categorical, discrete variables ---\n",
    "# OneHotEncode Season\n",
    "# encoders = dict()\n",
    "# cat_encoder = OneHotEncoder()\n",
    "cat_attribs = ['season', 'mnth', 'hr', 'holiday', 'weekday', 'workingday', 'weathersit']\n",
    "\n",
    "# --- Scale the Numeric, continuous variables ---\n",
    "num_attribs = ['temp', 'atemp', 'hum', 'windspeed']\n",
    "\n",
    "#num_pipeline = Pipeline([\n",
    "#    ('std_scaler', StandardScaler()),\n",
    "#])\n",
    "#full_pipeline = ColumnTransformer([\n",
    "#    (\"num\", num_pipeline, num_attribs),\n",
    "#    (\"cat\", OneHotEncoder(), cat_attribs),\n",
    "#])\n",
    "#bike_prepared = full_pipeline.fit_transform(df)\n"
   ]
  },
  {
   "cell_type": "markdown",
   "id": "taken-skiing",
   "metadata": {},
   "source": [
    "\n",
    "#### &nbsp;&nbsp;&nbsp;&nbsp;&nbsp;&nbsp;&nbsp;&nbsp;&nbsp;&nbsp;&nbsp;&nbsp; 1.1.3 Data Quality"
   ]
  },
  {
   "cell_type": "code",
   "execution_count": null,
   "id": "tender-father",
   "metadata": {},
   "outputs": [],
   "source": [
    "import missingno as mn\n",
    "\n",
    "mn.matrix(df, figsize=(12, 5))\n",
    "\n",
    "# Count unique values in column 'instant' (record index) of the dataframe\n",
    "print('\\nNumber of unique values in column \"instant\" : ', df['instant'].nunique())\n",
    "\n",
    "dup_df = df.replace(to_replace=-1,value=np.nan)\n",
    "\n",
    "dup_df = dup_df.duplicated()\n",
    "print('Duplicates : ', len(df[dup_df]), \"\\n\")"
   ]
  },
  {
   "cell_type": "markdown",
   "id": "competitive-marker",
   "metadata": {},
   "source": [
    "---------------------------------------------\n",
    "\n",
    "#### &nbsp;&nbsp;&nbsp;&nbsp;&nbsp;&nbsp;&nbsp;&nbsp;&nbsp;&nbsp;&nbsp;&nbsp; 1.1.4 Cleaning the Dataset"
   ]
  },
  {
   "cell_type": "code",
   "execution_count": null,
   "id": "bored-penetration",
   "metadata": {},
   "outputs": [],
   "source": [
    "#df = df.drop(['instant', 'dteday','casual', 'registered'], axis=1)\n",
    "#df.info()"
   ]
  },
  {
   "cell_type": "markdown",
   "id": "collect-virgin",
   "metadata": {},
   "source": [
    "--------------------------------------\n",
    "\n",
    "\n",
    "### &nbsp;&nbsp;&nbsp;&nbsp;&nbsp;&nbsp; 1.2 Creating Training & Test Data"
   ]
  },
  {
   "cell_type": "code",
   "execution_count": null,
   "id": "primary-formation",
   "metadata": {},
   "outputs": [],
   "source": [
    "from sklearn.model_selection import train_test_split\n",
    "\n",
    "# Split training & testing data using scikit-learn's function\n",
    "#X = df.drop(\"cnt\", axis=1)\n",
    "train_set, test_set = train_test_split(df, test_size=0.2, random_state=42)\n",
    "print(\"Train:\", len(train_set), \"\\nTest :\", len(test_set))"
   ]
  },
  {
   "cell_type": "markdown",
   "id": "lucky-equivalent",
   "metadata": {},
   "source": [
    "-----------------------\n",
    "\n",
    "## 2. Data Visualization\n",
    "\n",
    "### &nbsp;&nbsp;&nbsp;&nbsp;&nbsp;&nbsp; 2.1 Correlation Matrix "
   ]
  },
  {
   "cell_type": "code",
   "execution_count": null,
   "id": "divided-christopher",
   "metadata": {},
   "outputs": [],
   "source": [
    "import seaborn as sns\n",
    "import matplotlib.pyplot as plt\n",
    "%matplotlib inline\n",
    "\n",
    "cmap = sns.set(style=\"darkgrid\", palette=\"colorblind\")\n",
    "attribs = num_attribs + cat_attribs + ['cnt']\n",
    "\n",
    "plt.subplots(figsize=(14,12))\n",
    "plt.pcolor(df[attribs].corr())\n",
    "plt.xticks(np.arange(0, len(attribs), 1), attribs, rotation=90)\n",
    "plt.yticks(np.arange(0, len(attribs), 1), attribs, rotation=90)\n",
    "sns.heatmap(df[attribs].corr(), annot=True)\n",
    "plt.show()"
   ]
  },
  {
   "cell_type": "markdown",
   "id": "ambient-universe",
   "metadata": {},
   "source": [
    "It is observed that variables <code>atemp</code> & <code>temp</code> are heavily correlated. \n",
    "\n",
    "The <code>atemp</code> variable is dropped since it only represents what the outside temperature _feels_ like."
   ]
  },
  {
   "cell_type": "code",
   "execution_count": null,
   "id": "original-lending",
   "metadata": {},
   "outputs": [],
   "source": [
    "''' ------ Row 1 ------ '''\n",
    "plt.subplots(figsize=(22,5))\n",
    "\n",
    "attribs = ['hr'] + ['weekday'] + ['cnt']\n",
    "\n",
    "plt.subplot(1,3,1)\n",
    "plt.hist2d(x=df.hr, y=df.cnt, bins=15)\n",
    "plt.xlabel(\"Hour\"); plt.ylabel(\"Count\");\n",
    "plt.colorbar()\n",
    "\n",
    "plt.subplot(1,3,2)\n",
    "plt.hist2d(x=df.weekday, y=df.cnt, bins=15)\n",
    "plt.xlabel(\"Weekday\"); plt.ylabel(\"Count\");\n",
    "plt.colorbar()\n",
    "\n",
    "plt.subplot(1,3,3)\n",
    "plt.hist2d(x=df.hr, y=df.weekday, bins=15)\n",
    "plt.xlabel(\"Hour\"); plt.ylabel(\"Weekday\");\n",
    "#plt.xticks(np.arange(0.5, 24, 1), labels=clk, rotation=90)\n",
    "#plt.yticks(np.arange(0.5, 7, 1), labels=wkdays, rotation=0)\n",
    "plt.colorbar()\n",
    "plt.show()\n",
    "\n",
    "''' ------ Row 2 ------ '''\n",
    "plt.subplots(figsize=(22,5))\n",
    "\n",
    "plt.subplot(1,3,1)\n",
    "plt.hist2d(x=df.hr, y=df.cnt, bins=15)\n",
    "plt.xlabel(\"Hour\"); plt.ylabel(\"Count\");\n",
    "plt.colorbar()\n",
    "\n",
    "plt.subplot(1,3,2)\n",
    "plt.hist2d(x=df.hr, y=df.cnt, bins=15)\n",
    "plt.xlabel(\"Hour\"); plt.ylabel(\"Count\");\n",
    "plt.colorbar()\n",
    "\n",
    "\n",
    "plt.subplot(1,3,3)\n",
    "plt.hist2d(x=df.hr, y=df.cnt, bins=15)\n",
    "plt.xlabel(\"Hour\"); plt.ylabel(\"Count\");\n",
    "plt.colorbar()\n",
    "\n",
    "plt.show()"
   ]
  },
  {
   "cell_type": "code",
   "execution_count": null,
   "id": "ready-syntax",
   "metadata": {},
   "outputs": [],
   "source": [
    "df_2 = df.groupby(['weekday', 'hr']).mean().reset_index()\n",
    "df_2 = df_2.pivot('weekday', 'hr', 'cnt')\n",
    "wkdays = ['Su', 'Mon', 'Tu', 'Wed', 'Th', 'Fri', 'Sat']\n",
    "\n",
    "f, ax = plt.subplots(figsize=(20, 5))\n",
    "ax = sns.heatmap(df_2, cmap=\"RdYlGn_r\", square=True, linewidths=0.5, cbar_kws={'label': 'Count'})\n",
    "ax.set_xlabel('Hour of Day');   ax.set_ylabel('Day of Week')\n",
    "ax.set_yticklabels(wkdays, rotation=0)\n",
    "plt.show()"
   ]
  },
  {
   "cell_type": "code",
   "execution_count": null,
   "id": "ethical-element",
   "metadata": {},
   "outputs": [],
   "source": [
    "#obj_blue = pd.crosstab([df['mnth'],df['hr'],df['weekday']],df.cnt.astype(bool))\n",
    "\n",
    "#ax_blue = obj_blue.plot(kind='bar', stacked=True, label='Game Outcome', color=['red', 'blue'], alpha=0.8)\n",
    "\n",
    "\n",
    "#f, ax = plt.subplots(figsize=(20, 5))\n",
    "#axs = sns.catplot(x=\"weekday\", y=\"cnt\", col='season', hue='weathersit', kind='strip', data=df)\n",
    "g = sns.catplot(x=\"weekday\", y=\"cnt\", col=\"season\", hue=\"weathersit\", kind=\"strip\", data=df)\n",
    "\n",
    "(g.set_axis_labels(\"Day of Week\", \"Count\")\n",
    "  .set_titles(\"{col_var} {col_name}\")\n",
    "  .set_xticklabels(wkdays)\n",
    "  .set(ylim=(0, 1000))\n",
    "  .despine(left=True))"
   ]
  },
  {
   "cell_type": "code",
   "execution_count": null,
   "id": "third-million",
   "metadata": {},
   "outputs": [],
   "source": [
    "f, ax = plt.subplots(figsize=(20, 5))\n",
    "ax = sns.violinplot(x=\"weekday\", y=\"cnt\", hue=\"workingday\", data=df)\n",
    "ax.set_xlabel('Day of Week');   ax.set_ylabel('Count')\n",
    "ax.set_xticklabels(wkdays, rotation=0)\n",
    "plt.title('Hi')\n",
    "plt.show()"
   ]
  },
  {
   "cell_type": "code",
   "execution_count": null,
   "id": "prospective-segment",
   "metadata": {},
   "outputs": [],
   "source": [
    "jitter_values = ['hr','weekday','cnt','weathersit']\n",
    "df_jitter = df[jitter_values].copy()\n",
    "df_jitter[['hr', 'weekday', 'cnt']] += np.random.rand(len(df_jitter),3)/2\n",
    "ax = sns.pairplot(df_jitter, hue=\"weathersit\", height=2, plot_kws=dict(s=20,alpha=0.15,linewidth=0), palette=['orange','blue', 'green', 'red'])\n",
    "#plt.show()"
   ]
  },
  {
   "cell_type": "markdown",
   "id": "optional-bulgarian",
   "metadata": {},
   "source": [
    "--------------------------\n",
    "\n",
    "## 3. Modeling\n",
    "\n",
    "### &nbsp;&nbsp;&nbsp;&nbsp;&nbsp;&nbsp; 3.1 Training"
   ]
  },
  {
   "cell_type": "code",
   "execution_count": null,
   "id": "ceramic-freeware",
   "metadata": {},
   "outputs": [],
   "source": []
  },
  {
   "cell_type": "markdown",
   "id": "funny-inspiration",
   "metadata": {},
   "source": [
    "-------------\n",
    "\n",
    "\n",
    "### &nbsp;&nbsp;&nbsp;&nbsp;&nbsp;&nbsp; 3.2 Testing"
   ]
  },
  {
   "cell_type": "code",
   "execution_count": null,
   "id": "mobile-daniel",
   "metadata": {},
   "outputs": [],
   "source": []
  }
 ],
 "metadata": {
  "kernelspec": {
   "display_name": "Python 3",
   "language": "python",
   "name": "python3"
  },
  "language_info": {
   "codemirror_mode": {
    "name": "ipython",
    "version": 3
   },
   "file_extension": ".py",
   "mimetype": "text/x-python",
   "name": "python",
   "nbconvert_exporter": "python",
   "pygments_lexer": "ipython3",
   "version": "3.8.8"
  }
 },
 "nbformat": 4,
 "nbformat_minor": 5
}
