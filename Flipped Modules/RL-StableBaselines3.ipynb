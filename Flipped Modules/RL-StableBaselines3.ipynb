{
 "cells": [
  {
   "cell_type": "markdown",
   "id": "792751f9-d733-423b-8fea-5716f48fc793",
   "metadata": {},
   "source": [
    "# Reinforcement Learning - Stable Baselines 3"
   ]
  },
  {
   "cell_type": "code",
   "execution_count": 1,
   "id": "a5363109-1d17-41f8-aa08-a5eb9d05afda",
   "metadata": {},
   "outputs": [],
   "source": [
    "import os\n",
    "import gym\n",
    "from stable_baselines3 import PPO\n",
    "from stable_baselines3.common.vec_env import DummyVecEnv\n",
    "from stable_baselines3.common.vec_env import SubprocVecEnv\n",
    "from stable_baselines3.common.evaluation import evaluate_policy\n",
    "from gym.wrappers import GrayScaleObservation\n",
    "import warnings\n",
    "\n",
    "warnings.filterwarnings(\"ignore\")"
   ]
  },
  {
   "cell_type": "code",
   "execution_count": 2,
   "id": "4a1bd433-f7e8-441e-a94b-26bdd1e8fb56",
   "metadata": {},
   "outputs": [
    {
     "name": "stderr",
     "output_type": "stream",
     "text": [
      "/home/blurry/anaconda3/envs/ML/lib/python3.9/site-packages/stable_baselines3/common/vec_env/patch_gym.py:49: UserWarning: You provided an OpenAI Gym environment. We strongly recommend transitioning to Gymnasium environments. Stable-Baselines3 is automatically wrapping your environments in a compatibility layer, which could potentially cause issues.\n",
      "  warnings.warn(\n",
      "/home/blurry/anaconda3/envs/ML/lib/python3.9/site-packages/stable_baselines3/common/vec_env/patch_gym.py:49: UserWarning: You provided an OpenAI Gym environment. We strongly recommend transitioning to Gymnasium environments. Stable-Baselines3 is automatically wrapping your environments in a compatibility layer, which could potentially cause issues.\n",
      "  warnings.warn(\n",
      "/home/blurry/anaconda3/envs/ML/lib/python3.9/site-packages/stable_baselines3/common/vec_env/patch_gym.py:49: UserWarning: You provided an OpenAI Gym environment. We strongly recommend transitioning to Gymnasium environments. Stable-Baselines3 is automatically wrapping your environments in a compatibility layer, which could potentially cause issues.\n",
      "  warnings.warn(\n",
      "/home/blurry/anaconda3/envs/ML/lib/python3.9/site-packages/stable_baselines3/common/vec_env/patch_gym.py:49: UserWarning: You provided an OpenAI Gym environment. We strongly recommend transitioning to Gymnasium environments. Stable-Baselines3 is automatically wrapping your environments in a compatibility layer, which could potentially cause issues.\n",
      "  warnings.warn(\n"
     ]
    }
   ],
   "source": [
    "environment_name = \"CarRacing-v2\"\n",
    "log_path = os.path.join(\"Training\", \"Logs\")\n",
    "\n",
    "# Create the environment\n",
    "\n",
    "env = gym.make(environment_name, domain_randomize=True, render_mode='human')\n",
    "env = GrayScaleObservation(env, keep_dim=True)\n",
    "num_envs = 4  \n",
    "env = SubprocVecEnv([lambda: gym.make(environment_name, domain_randomize=True) for _ in range(num_envs)])"
   ]
  },
  {
   "cell_type": "code",
   "execution_count": 3,
   "id": "4924ef6a-6c9c-482b-9b57-534bdd78d556",
   "metadata": {},
   "outputs": [
    {
     "name": "stdout",
     "output_type": "stream",
     "text": [
      "Using cuda device\n",
      "Wrapping the env in a VecTransposeImage.\n",
      "Logging to Training/Logs/PPO_2\n"
     ]
    },
    {
     "name": "stderr",
     "output_type": "stream",
     "text": [
      "/home/blurry/anaconda3/envs/ML/lib/python3.9/site-packages/gym/utils/passive_env_checker.py:233: DeprecationWarning: `np.bool8` is a deprecated alias for `np.bool_`.  (Deprecated NumPy 1.24)\n",
      "  if not isinstance(terminated, (bool, np.bool8)):\n",
      "/home/blurry/anaconda3/envs/ML/lib/python3.9/site-packages/gym/utils/passive_env_checker.py:233: DeprecationWarning: `np.bool8` is a deprecated alias for `np.bool_`.  (Deprecated NumPy 1.24)\n",
      "  if not isinstance(terminated, (bool, np.bool8)):\n",
      "/home/blurry/anaconda3/envs/ML/lib/python3.9/site-packages/gym/utils/passive_env_checker.py:233: DeprecationWarning: `np.bool8` is a deprecated alias for `np.bool_`.  (Deprecated NumPy 1.24)\n",
      "  if not isinstance(terminated, (bool, np.bool8)):\n",
      "/home/blurry/anaconda3/envs/ML/lib/python3.9/site-packages/gym/utils/passive_env_checker.py:233: DeprecationWarning: `np.bool8` is a deprecated alias for `np.bool_`.  (Deprecated NumPy 1.24)\n",
      "  if not isinstance(terminated, (bool, np.bool8)):\n"
     ]
    },
    {
     "name": "stdout",
     "output_type": "stream",
     "text": [
      "-----------------------------\n",
      "| time/              |      |\n",
      "|    fps             | 548  |\n",
      "|    iterations      | 1    |\n",
      "|    time_elapsed    | 14   |\n",
      "|    total_timesteps | 8192 |\n",
      "-----------------------------\n",
      "------------------------------------------\n",
      "| time/                   |              |\n",
      "|    fps                  | 470          |\n",
      "|    iterations           | 2            |\n",
      "|    time_elapsed         | 34           |\n",
      "|    total_timesteps      | 16384        |\n",
      "| train/                  |              |\n",
      "|    approx_kl            | 0.0066824583 |\n",
      "|    clip_fraction        | 0.0704       |\n",
      "|    clip_range           | 0.2          |\n",
      "|    entropy_loss         | -4.22        |\n",
      "|    explained_variance   | 0.102        |\n",
      "|    learning_rate        | 0.0003       |\n",
      "|    loss                 | 0.27         |\n",
      "|    n_updates            | 10           |\n",
      "|    policy_gradient_loss | -0.00425     |\n",
      "|    std                  | 0.987        |\n",
      "|    value_loss           | 0.811        |\n",
      "------------------------------------------\n",
      "------------------------------------------\n",
      "| time/                   |              |\n",
      "|    fps                  | 458          |\n",
      "|    iterations           | 3            |\n",
      "|    time_elapsed         | 53           |\n",
      "|    total_timesteps      | 24576        |\n",
      "| train/                  |              |\n",
      "|    approx_kl            | 0.0061810277 |\n",
      "|    clip_fraction        | 0.0654       |\n",
      "|    clip_range           | 0.2          |\n",
      "|    entropy_loss         | -4.19        |\n",
      "|    explained_variance   | 0.0683       |\n",
      "|    learning_rate        | 0.0003       |\n",
      "|    loss                 | 0.253        |\n",
      "|    n_updates            | 20           |\n",
      "|    policy_gradient_loss | -0.00421     |\n",
      "|    std                  | 0.978        |\n",
      "|    value_loss           | 0.754        |\n",
      "------------------------------------------\n",
      "-----------------------------------------\n",
      "| time/                   |             |\n",
      "|    fps                  | 450         |\n",
      "|    iterations           | 4           |\n",
      "|    time_elapsed         | 72          |\n",
      "|    total_timesteps      | 32768       |\n",
      "| train/                  |             |\n",
      "|    approx_kl            | 0.008405874 |\n",
      "|    clip_fraction        | 0.093       |\n",
      "|    clip_range           | 0.2         |\n",
      "|    entropy_loss         | -4.13       |\n",
      "|    explained_variance   | 0.0466      |\n",
      "|    learning_rate        | 0.0003      |\n",
      "|    loss                 | 0.315       |\n",
      "|    n_updates            | 30          |\n",
      "|    policy_gradient_loss | -0.00705    |\n",
      "|    std                  | 0.952       |\n",
      "|    value_loss           | 0.879       |\n",
      "-----------------------------------------\n"
     ]
    }
   ],
   "source": [
    "# Create the PPO model\n",
    "model = PPO('MlpPolicy', env, verbose=1, tensorboard_log=log_path)\n",
    "\n",
    "# Train the model\n",
    "model.learn(total_timesteps=30000)\n",
    "\n",
    "# Save the trained model\n",
    "PPO_path = os.path.join(\"Training\", \"Saved_Models\", \"PPO_Model_CarRace\")\n",
    "model.save(PPO_path)"
   ]
  },
  {
   "cell_type": "code",
   "execution_count": null,
   "id": "4cf93a65-b6ba-4cd8-a873-4ad04a8de277",
   "metadata": {},
   "outputs": [],
   "source": []
  }
 ],
 "metadata": {
  "kernelspec": {
   "display_name": "Python 3 (ipykernel)",
   "language": "python",
   "name": "python3"
  },
  "language_info": {
   "codemirror_mode": {
    "name": "ipython",
    "version": 3
   },
   "file_extension": ".py",
   "mimetype": "text/x-python",
   "name": "python",
   "nbconvert_exporter": "python",
   "pygments_lexer": "ipython3",
   "version": "3.9.18"
  }
 },
 "nbformat": 4,
 "nbformat_minor": 5
}
